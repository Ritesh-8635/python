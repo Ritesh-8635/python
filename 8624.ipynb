{
 "cells": [
  {
   "cell_type": "code",
   "execution_count": 1,
   "id": "215899ca-467d-421c-a0cd-973e7c2a95fd",
   "metadata": {},
   "outputs": [
    {
     "name": "stdin",
     "output_type": "stream",
     "text": [
      "Enter a sequence of comma-separated numbers:  4,5,54,65,6\n"
     ]
    },
    {
     "name": "stdout",
     "output_type": "stream",
     "text": [
      "List: ['4', '5', '54', '65', '6']\n",
      "Tuple: ('4', '5', '54', '65', '6')\n"
     ]
    }
   ],
   "source": [
    "# Accept a sequence of comma-separated numbers from the user\n",
    "input_data = input(\"Enter a sequence of comma-separated numbers: \")\n",
    "\n",
    "# Generate a list from the input data, stripping any leading/trailing whitespace from each number\n",
    "numbers_list = [num.strip() for num in input_data.split(\",\")]\n",
    "\n",
    "# Generate a tuple from the list\n",
    "numbers_tuple = tuple(numbers_list)\n",
    "\n",
    "# Print the list and tuple\n",
    "print(\"List:\", numbers_list)\n",
    "print(\"Tuple:\", numbers_tuple)\n"
   ]
  },
  {
   "cell_type": "code",
   "execution_count": 2,
   "id": "64ce274a-a376-4e54-9d01-ee9d67a41946",
   "metadata": {},
   "outputs": [
    {
     "name": "stdin",
     "output_type": "stream",
     "text": [
      "comma seperated numbers : 4,5,64,4,6\n"
     ]
    },
    {
     "name": "stdout",
     "output_type": "stream",
     "text": [
      "the list iis:\n",
      "['4', '5', '64', '4', '6']\n",
      "the tuple is :\n",
      "('4', '5', '64', '4', '6')\n"
     ]
    }
   ],
   "source": [
    "sampledata=input(\"comma seperated numbers :\")\n",
    "samplelist=sampledata.split(\",\")\n",
    "sampletuple=tuple(samplelist)\n",
    "print(\"the list iis:\")\n",
    "print(samplelist)\n",
    "print(\"the tuple is :\")\n",
    "print(sampletuple)"
   ]
  },
  {
   "cell_type": "code",
   "execution_count": 7,
   "id": "bb21db2b-b2ae-4ab4-add3-6f98b17f2990",
   "metadata": {},
   "outputs": [
    {
     "name": "stdin",
     "output_type": "stream",
     "text": [
      "enter the filename: ffsagasf.asf\n"
     ]
    },
    {
     "name": "stdout",
     "output_type": "stream",
     "text": [
      "The extension of the file is : 'asf'\n"
     ]
    }
   ],
   "source": [
    "filename=input(\"enter the filename:\")\n",
    "f_extns = filename.split(\".\")\n",
    "\n",
    "# Print the extension of the file, which is the last element in the 'f_extns' list\n",
    "print(\"The extension of the file is : \" + repr(f_extns[-1]))"
   ]
  },
  {
   "cell_type": "code",
   "execution_count": 11,
   "id": "75b0b7c5-a781-48fd-a7f0-1ab4594f8ba5",
   "metadata": {},
   "outputs": [
    {
     "name": "stdout",
     "output_type": "stream",
     "text": [
      "Red\n",
      "Black\n"
     ]
    }
   ],
   "source": [
    "color_list = [\"Red\",\"Green\",\"White\" ,\"Black\"]\n",
    "print(color_list[0])\n",
    "print(color_list[3])"
   ]
  },
  {
   "cell_type": "code",
   "execution_count": 15,
   "id": "3f91c00f-8fdc-4096-ba28-0f996e49e228",
   "metadata": {},
   "outputs": [
    {
     "name": "stdout",
     "output_type": "stream",
     "text": [
      "the exam date will start from:11/12/2014 \n"
     ]
    }
   ],
   "source": [
    "exam_st_date = (11, 12, 2014)\n",
    "print(\"the exam date will start from:%i/%i/%i \" %exam_st_date)"
   ]
  },
  {
   "cell_type": "code",
   "execution_count": 21,
   "id": "5fb9d078-e05a-4ad4-b3d6-e47c7cfb234d",
   "metadata": {},
   "outputs": [
    {
     "name": "stdin",
     "output_type": "stream",
     "text": [
      "enter the number value: 5\n"
     ]
    },
    {
     "name": "stdout",
     "output_type": "stream",
     "text": [
      "15625\n"
     ]
    }
   ],
   "source": [
    "integer=int(input(\"enter the number value:\"))\n",
    "import math \n",
    "result=integer+(integer*integer)+(integer*integer*integer)\n",
    "print(result)"
   ]
  },
  {
   "cell_type": "code",
   "execution_count": 4,
   "id": "bca26b36-c4b0-46a2-ae65-332c7f3e6489",
   "metadata": {},
   "outputs": [
    {
     "name": "stdout",
     "output_type": "stream",
     "text": [
      "Return the absolute value of the argument.\n"
     ]
    }
   ],
   "source": [
    "# Print the docstring (documentation) of the 'abs' function\n",
    "print(abs.__doc__)\n"
   ]
  },
  {
   "cell_type": "code",
   "execution_count": 8,
   "id": "b32fcea3-9402-4d59-a7be-cf768fa8dde2",
   "metadata": {},
   "outputs": [
    {
     "name": "stdin",
     "output_type": "stream",
     "text": [
      "enter the year: 2002\n",
      "enter the month: 2\n"
     ]
    },
    {
     "name": "stdout",
     "output_type": "stream",
     "text": [
      "   February 2002\n",
      "Mo Tu We Th Fr Sa Su\n",
      "             1  2  3\n",
      " 4  5  6  7  8  9 10\n",
      "11 12 13 14 15 16 17\n",
      "18 19 20 21 22 23 24\n",
      "25 26 27 28\n",
      "\n"
     ]
    }
   ],
   "source": [
    "import calendar\n",
    "y=int(input(\"enter the year:\"))\n",
    "m=int(input(\"enter the month:\"))\n",
    "print(calendar.month(y,m))"
   ]
  },
  {
   "cell_type": "code",
   "execution_count": 10,
   "id": "074d0eba-6aa5-4219-a4b1-24d479bbc387",
   "metadata": {},
   "outputs": [
    {
     "name": "stdout",
     "output_type": "stream",
     "text": [
      "a string that you \"don't\" have to escape\n",
      "This\n",
      "is a ....... multi-line\n",
      "heredoc string --------> example\n"
     ]
    }
   ],
   "source": [
    "print(\"\"\"a string that you \"don't\" have to escape\n",
    "This\n",
    "is a ....... multi-line\n",
    "heredoc string --------> example\"\"\")"
   ]
  },
  {
   "cell_type": "code",
   "execution_count": 18,
   "id": "413f6c82-70db-4e5b-a0a3-2239192d3f46",
   "metadata": {},
   "outputs": [
    {
     "name": "stdout",
     "output_type": "stream",
     "text": [
      "9\n"
     ]
    }
   ],
   "source": [
    "# Import the 'date' class from the 'datetime' module\n",
    "from datetime import date\n",
    "\n",
    "# Define a start date as July 2, 2014\n",
    "f_date = date(2014, 7, 2)\n",
    "\n",
    "# Define an end date as July 11, 2014\n",
    "l_date = date(2014, 7, 11)\n",
    "\n",
    "# Calculate the difference between the end date and start date\n",
    "delta = l_date - f_date\n",
    "\n",
    "# Print the number of days in the time difference\n",
    "print(delta.days)\n"
   ]
  },
  {
   "cell_type": "code",
   "execution_count": 5,
   "id": "fc7de6b8-1090-4876-91f0-490029fb1363",
   "metadata": {},
   "outputs": [
    {
     "name": "stdout",
     "output_type": "stream",
     "text": [
      "9\n"
     ]
    }
   ],
   "source": [
    "from datetime import date\n",
    "f_date=date(2014,7,2)\n",
    "l_date=date(2014,7,11)\n",
    "delta=l_date-f_date\n",
    "print(delta.days)"
   ]
  },
  {
   "cell_type": "code",
   "execution_count": 9,
   "id": "65ab2115-ae50-4fa4-963a-3e2334770a80",
   "metadata": {},
   "outputs": [
    {
     "name": "stdout",
     "output_type": "stream",
     "text": [
      "your volume for radius 6 is : 904\n"
     ]
    }
   ],
   "source": [
    "from math import pi\n",
    "r=int(6)\n",
    "volume=4/3 * pi * (r*r*r)\n",
    "print(\"your volume for radius 6 is : %i\"%volume)"
   ]
  },
  {
   "cell_type": "code",
   "execution_count": 25,
   "id": "7fc65d94-0524-4220-a7da-4cbc280ddde6",
   "metadata": {},
   "outputs": [
    {
     "name": "stdin",
     "output_type": "stream",
     "text": [
      "enter a number 84\n"
     ]
    },
    {
     "name": "stdout",
     "output_type": "stream",
     "text": [
      "134\n"
     ]
    }
   ],
   "source": [
    "import math\n",
    "n=int(input(\"enter a number\"))\n",
    "secondnumber=int(17)\n",
    "if n<=17:\n",
    "    difference = (secondnumber) - (n)\n",
    "    print(difference)\n",
    "else :\n",
    "    abs=(n-secondnumber)*2\n",
    "    print(abs)\n",
    "    \n",
    "\n"
   ]
  },
  {
   "cell_type": "code",
   "execution_count": 35,
   "id": "1a869f1e-1a5e-43c1-9644-84ac8b4b0fd6",
   "metadata": {},
   "outputs": [
    {
     "ename": "IndentationError",
     "evalue": "unexpected indent (1023965496.py, line 5)",
     "output_type": "error",
     "traceback": [
      "\u001b[1;36m  Cell \u001b[1;32mIn[35], line 5\u001b[1;36m\u001b[0m\n\u001b[1;33m    print(\"number is more than 100 but under2000\")\u001b[0m\n\u001b[1;37m    ^\u001b[0m\n\u001b[1;31mIndentationError\u001b[0m\u001b[1;31m:\u001b[0m unexpected indent\n"
     ]
    }
   ],
   "source": [
    "n=int(input(\"enter a number\"))\n",
    "if n>=100:\n",
    "    print(\"number is under 100 :\")\n",
    "else : 101<n<2000\n",
    "    print(\"number is more than 100 but under2000\")"
   ]
  },
  {
   "cell_type": "code",
   "execution_count": 2,
   "id": "bfde82fb-64fd-42e0-9020-a235facac53e",
   "metadata": {},
   "outputs": [
    {
     "name": "stdout",
     "output_type": "stream",
     "text": [
      "True\n",
      "True\n",
      "False\n",
      "False\n"
     ]
    }
   ],
   "source": [
    "# Define a function named \"near_thousand\" that takes an integer parameter \"n\"\n",
    "def near_thousand(n):\n",
    "    # Check if the absolute difference between 1000 and n is less than or equal to 100\n",
    "    # OR check if the absolute difference between 2000 and n is less than or equal to 100\n",
    "    return ((abs(1000 - n) <= 100) or (abs(2000 - n) <= 100))\n",
    "\n",
    "# Call the \"near_thousand\" function with the argument 1000 and print the result\n",
    "print(near_thousand(1000))\n",
    "\n",
    "# Call the \"near_thousand\" function with the argument 900 and print the result\n",
    "print(near_thousand(900))\n",
    "\n",
    "# Call the \"near_thousand\" function with the argument 800 and print the result\n",
    "print(near_thousand(800))\n",
    "\n",
    "# Call the \"near_thousand\" function with the argument 2200 and print the result\n",
    "print(near_thousand(2200))\n"
   ]
  },
  {
   "cell_type": "code",
   "execution_count": 10,
   "id": "7d313d3e-3b1e-4b18-8aee-74693b1a3a4d",
   "metadata": {},
   "outputs": [
    {
     "name": "stdout",
     "output_type": "stream",
     "text": [
      "False\n"
     ]
    }
   ],
   "source": [
    "def near(n):\n",
    "    return ((abs(1000-n)<=100) or (abs(2000-n)<=100))\n",
    "print(near(500))"
   ]
  },
  {
   "cell_type": "code",
   "execution_count": 16,
   "id": "f79b4fc8-7b3b-4fd6-af6b-d4d291a323da",
   "metadata": {},
   "outputs": [
    {
     "name": "stdin",
     "output_type": "stream",
     "text": [
      "enter a number1 5\n",
      "enter a number2 6\n",
      "enter a number3 7\n"
     ]
    },
    {
     "name": "stdout",
     "output_type": "stream",
     "text": [
      "18\n"
     ]
    }
   ],
   "source": [
    "import math\n",
    "n1=int(input(\"enter a number1\"))\n",
    "n2=int(input(\"enter a number2\"))\n",
    "n3=int(input(\"enter a number3\"))\n",
    "if n1==n2==n3:\n",
    "    abs=3*(n1+n2+n3)\n",
    "    print(abs)\n",
    "else :\n",
    "    sum=n1+n2+n3\n",
    "    print(sum)\n",
    "\n"
   ]
  },
  {
   "cell_type": "code",
   "execution_count": 8,
   "id": "365a3fb1-1ea1-4753-9925-0fb4ca1c7ec9",
   "metadata": {},
   "outputs": [
    {
     "name": "stdout",
     "output_type": "stream",
     "text": [
      "Is shya\n",
      "IsEmpty\n"
     ]
    }
   ],
   "source": [
    "# Define a function named \"new_string\" that takes a string parameter called \"text\"\n",
    "def new_string(text):\n",
    "    # Check if the length of the \"text\" is greater than or equal to 2 and if the first two characters of \"text\" are \"Is\"\n",
    "    if len(text) >= 2 and text[:2] == \"Is\":\n",
    "        # If the conditions are met, return the original \"text\" unchanged\n",
    "        return text\n",
    "    else:\n",
    "        # If the conditions are not met, prepend \"Is\" to the \"text\" and return the modified string\n",
    "        return \"Is\" + text\n",
    "\n",
    "# Call the \"new_string\" function with the argument \"Array\" and print the result\n",
    "print(new_string(\"Is shya\"))\n",
    "\n",
    "# Call the \"new_string\" function with the argument \"IsEmpty\" and print the result\n",
    "print(new_string(\"IsEmpty\"))\n"
   ]
  },
  {
   "cell_type": "code",
   "execution_count": 26,
   "id": "5db6c8bc-a062-4d1d-b1a8-8d483a8a7796",
   "metadata": {},
   "outputs": [
    {
     "name": "stdout",
     "output_type": "stream",
     "text": [
      "<class 'str'>\n",
      "<class 'int'>\n",
      "<class 'float'>\n"
     ]
    }
   ],
   "source": [
    "name,age,height=\"ram\",23,5.5\n",
    "print(type(name))#type function tell the type of the object \n",
    "print(type(age))\n",
    "print(type(height))\n",
    "#pyhton only shows the last line of code aas a reult when no print function ius used "
   ]
  },
  {
   "cell_type": "code",
   "execution_count": 4,
   "id": "07ff25e3-79f3-40ab-ab37-1b357d00a3b2",
   "metadata": {},
   "outputs": [
    {
     "name": "stdin",
     "output_type": "stream",
     "text": [
      "enter the num 454646\n",
      "enter the second number 2\n"
     ]
    },
    {
     "name": "stdout",
     "output_type": "stream",
     "text": [
      "454648\n",
      "454644\n",
      "909292\n",
      "227323.0\n",
      "0\n",
      "206702985316\n",
      "454648\n",
      "454646\n",
      "909292\n",
      "454646.0\n",
      "0.0\n",
      "0.0\n",
      "True\n",
      "False\n",
      "False\n",
      "True\n",
      "True\n",
      "False\n"
     ]
    }
   ],
   "source": [
    "a=int(input(\"enter the num\"))#takes a number as a input \n",
    "\n",
    "b=int(input('enter the second number'))# takes 2nd number as input\n",
    "#arithmatic operator\n",
    "print(a+b)#addition \n",
    "print(a-b)#subtraction\n",
    "print(a*b)#multiply\n",
    "print(a/b)#division\n",
    "print(a%b)#remainder\n",
    "print(a**b)#exponential \n",
    "a+=b#adds a to b and replaces the new value generaated into the predefined variable \n",
    "print(a)\n",
    "a-=b#subtracts the value a from b and replaces the result to the predefined 'a' value \n",
    "print(a)\n",
    "a*=b#multiplies the value of 'a' with 'b' and replaces the result with the prredefined value 'a' and the value of a changes\n",
    "print(a)\n",
    "a/=b# assignment  operator\n",
    "print(a)\n",
    "a%=b\n",
    "print(a)\n",
    "a**=b\n",
    "print(a)\n",
    "print(a<b)#'a' less than 'b'\n",
    "print(a>b)#comparison operator\n",
    "print(a==b)\n",
    "print(a!=b)\n",
    "print(a<=b)\n",
    "print(a>=b)"
   ]
  },
  {
   "cell_type": "code",
   "execution_count": 2,
   "id": "945c5cae-6b89-4ef5-b450-4d09f228090e",
   "metadata": {},
   "outputs": [
    {
     "name": "stdin",
     "output_type": "stream",
     "text": [
      "enter the num 564\n",
      "enter the second number 5\n"
     ]
    },
    {
     "name": "stdout",
     "output_type": "stream",
     "text": [
      "569\n",
      "559\n",
      "2820\n",
      "112.8\n",
      "4\n",
      "57068376781824\n",
      "False\n",
      "True\n",
      "False\n",
      "True\n",
      "False\n",
      "True\n",
      "565\n"
     ]
    }
   ],
   "source": [
    "a=int(input(\"enter the num\"))\n",
    "b=int(input('enter the second number'))\n",
    "print(a+b)\n",
    "print(a-b)\n",
    "print(a*b)\n",
    "print(a/b)\n",
    "print(a%b)\n",
    "print(a**b)\n",
    "print(a<b)\n",
    "print(a>b)\n",
    "print(a==b)\n",
    "print(a!=b)\n",
    "print(a<=b)\n",
    "print(a>=b)\n",
    "print(a|b)#bitwise or operator"
   ]
  },
  {
   "cell_type": "code",
   "execution_count": 6,
   "id": "24822dfa-7f6c-4a3f-aebb-a61fb0d0ee14",
   "metadata": {},
   "outputs": [
    {
     "name": "stdout",
     "output_type": "stream",
     "text": [
      "True\n"
     ]
    }
   ],
   "source": [
    "a=10\n",
    "b=654\n",
    "print((a<b) or (a>b))"
   ]
  },
  {
   "cell_type": "code",
   "execution_count": 8,
   "id": "767b08bc-ada1-457d-92c8-00132ed0a51d",
   "metadata": {},
   "outputs": [
    {
     "name": "stdout",
     "output_type": "stream",
     "text": [
      "False\n"
     ]
    }
   ],
   "source": [
    "a=10\n",
    "b=654\n",
    "print((a<b) and (a>b))"
   ]
  },
  {
   "cell_type": "code",
   "execution_count": 10,
   "id": "b1f876f3-25d1-4bc7-a2c9-abcf84dcfc44",
   "metadata": {},
   "outputs": [
    {
     "name": "stdout",
     "output_type": "stream",
     "text": [
      "True\n"
     ]
    }
   ],
   "source": [
    "a=10\n",
    "b=654\n",
    "print((a<b)|(a>b))"
   ]
  },
  {
   "cell_type": "code",
   "execution_count": 12,
   "id": "06310ac7-b5c3-4594-98bd-fda0846784b3",
   "metadata": {},
   "outputs": [
    {
     "name": "stdout",
     "output_type": "stream",
     "text": [
      "False\n"
     ]
    }
   ],
   "source": [
    "a=10\n",
    "b=654\n",
    "print((a<b)&(a>b)) #logical oprator and \n",
    "print((a<b)or(a>b))#logical or operator"
   ]
  },
  {
   "cell_type": "code",
   "execution_count": 14,
   "id": "3b9ab33b-297c-4a49-9c3d-086d3411d5e6",
   "metadata": {},
   "outputs": [
    {
     "name": "stdout",
     "output_type": "stream",
     "text": [
      "1\n"
     ]
    }
   ],
   "source": [
    "a=5\n",
    "b=3\n",
    "print(a & b)"
   ]
  },
  {
   "cell_type": "code",
   "execution_count": 16,
   "id": "1d830fb6-e6fd-4dfc-92e2-28b14d46f2a6",
   "metadata": {},
   "outputs": [
    {
     "name": "stdout",
     "output_type": "stream",
     "text": [
      "12\n"
     ]
    }
   ],
   "source": [
    "x=10\n",
    "y=5\n",
    "z=3\n",
    "ans=x+y%z\n",
    "print(ans)"
   ]
  },
  {
   "cell_type": "code",
   "execution_count": 6,
   "id": "ca5f719d-abc8-460f-b9b2-ee105770bdc5",
   "metadata": {},
   "outputs": [
    {
     "name": "stdout",
     "output_type": "stream",
     "text": [
      "<class 'str'>\n"
     ]
    }
   ],
   "source": [
    "H"
   ]
  },
  {
   "cell_type": "code",
   "execution_count": 28,
   "id": "bf36c530-70d7-4506-9aa9-549204daeda3",
   "metadata": {},
   "outputs": [
    {
     "name": "stdout",
     "output_type": "stream",
     "text": [
      "121212\n"
     ]
    }
   ],
   "source": [
    "a=3\n",
    "b=\"12\"\n",
    "print(a*b)"
   ]
  },
  {
   "cell_type": "code",
   "execution_count": 30,
   "id": "d950cf76-cdab-48ab-8cf6-79205da93d2b",
   "metadata": {},
   "outputs": [
    {
     "name": "stdout",
     "output_type": "stream",
     "text": [
      "-2\n"
     ]
    }
   ],
   "source": [
    "a=-9//7\n",
    "print(a)"
   ]
  },
  {
   "cell_type": "code",
   "execution_count": 2,
   "id": "37f21b9a-60c3-49af-8120-bae0b0dfc6bc",
   "metadata": {},
   "outputs": [
    {
     "ename": "NameError",
     "evalue": "name 'this' is not defined",
     "output_type": "error",
     "traceback": [
      "\u001b[1;31m---------------------------------------------------------------------------\u001b[0m",
      "\u001b[1;31mNameError\u001b[0m                                 Traceback (most recent call last)",
      "Cell \u001b[1;32mIn[2], line 1\u001b[0m\n\u001b[1;32m----> 1\u001b[0m \u001b[38;5;28mprint\u001b[39m(this)\n",
      "\u001b[1;31mNameError\u001b[0m: name 'this' is not defined"
     ]
    }
   ],
   "source": [
    "print(this)\n"
   ]
  },
  {
   "cell_type": "markdown",
   "id": "b145a592-b9d5-46f4-acdd-de09f153353d",
   "metadata": {},
   "source": [
    "# first program trials "
   ]
  },
  {
   "cell_type": "markdown",
   "id": "9985e54c-8993-4d75-a54f-f9f488e1c8a8",
   "metadata": {},
   "source": [
    "# first program trials "
   ]
  },
  {
   "cell_type": "code",
   "execution_count": 20,
   "id": "9b6e2cb7-176b-4b84-a1df-786051460fa6",
   "metadata": {},
   "outputs": [
    {
     "ename": "ValueError",
     "evalue": "invalid literal for int() with base 10: 'strra'",
     "output_type": "error",
     "traceback": [
      "\u001b[1;31m---------------------------------------------------------------------------\u001b[0m",
      "\u001b[1;31mValueError\u001b[0m                                Traceback (most recent call last)",
      "Cell \u001b[1;32mIn[20], line 2\u001b[0m\n\u001b[0;32m      1\u001b[0m ank\u001b[38;5;241m=\u001b[39m\u001b[38;5;124m\"\u001b[39m\u001b[38;5;124mstrra\u001b[39m\u001b[38;5;124m\"\u001b[39m\n\u001b[1;32m----> 2\u001b[0m ngh\u001b[38;5;241m=\u001b[39m\u001b[38;5;28mint\u001b[39m(ank)\n\u001b[0;32m      3\u001b[0m \u001b[38;5;28mtype\u001b[39m(ngh)\n",
      "\u001b[1;31mValueError\u001b[0m: invalid literal for int() with base 10: 'strra'"
     ]
    }
   ],
   "source": [
    "ank=\"strra\"\n",
    "ngh=int(ank)\n",
    "type(ngh)#string cannpt be converted into floaat ,but float can be converted into str"
   ]
  },
  {
   "cell_type": "code",
   "execution_count": 8,
   "id": "6407071a-7198-40c3-8eef-ba5e3b395e4f",
   "metadata": {},
   "outputs": [
    {
     "name": "stdout",
     "output_type": "stream",
     "text": [
      "Variable               Type        Data/Info\n",
      "--------------------------------------------\n",
      "ank                    str         strra\n",
      "dataframe_columns      function    <function dataframe_colum<...>ns at 0x00000275887180E0>\n",
      "dataframe_hash         function    <function dataframe_hash at 0x0000027585FF2160>\n",
      "dtypes_str             function    <function dtypes_str at 0x0000027585D12340>\n",
      "get_dataframes         function    <function get_dataframes at 0x0000027588831D00>\n",
      "getpass                module      <module 'getpass' from 'C<...>conda3\\\\Lib\\\\getpass.py'>\n",
      "hashlib                module      <module 'hashlib' from 'C<...>conda3\\\\Lib\\\\hashlib.py'>\n",
      "import_pandas_safely   function    <function import_pandas_s<...>ly at 0x0000027585FAF100>\n",
      "is_data_frame          function    <function is_data_frame at 0x00000275887189A0>\n",
      "json                   module      <module 'json' from 'C:\\\\<...>\\Lib\\\\json\\\\__init__.py'>\n",
      "x                      float       15.0\n",
      "y                      str         15.0\n"
     ]
    }
   ],
   "source": [
    "%whos\n"
   ]
  },
  {
   "cell_type": "code",
   "execution_count": 24,
   "id": "d4bf55eb-9852-4bb6-a872-b4f847120c09",
   "metadata": {},
   "outputs": [
    {
     "name": "stdout",
     "output_type": "stream",
     "text": [
      "<class 'int'>\n"
     ]
    }
   ],
   "source": [
    "ghj=\"10\"\n",
    "bggbnz=int(ghj)\n",
    "print(type(bggbnz))"
   ]
  },
  {
   "cell_type": "code",
   "execution_count": 22,
   "id": "290071be-ffea-4f77-9cfd-64b7a483fc89",
   "metadata": {},
   "outputs": [
    {
     "name": "stdout",
     "output_type": "stream",
     "text": [
      "<class 'str'>\n",
      "<class 'int'>\n",
      "30\n"
     ]
    }
   ],
   "source": [
    "num = '10'\n",
    " \n",
    "# check and print type num variable\n",
    "print(type(num))\n",
    " \n",
    "# convert the num from string into int\n",
    "converted_num = int(num)\n",
    " \n",
    "# print type of converted_num\n",
    "print(type(converted_num))\n",
    " \n",
    "# We can check by doing some mathematical operations\n",
    "print(converted_num + 20)"
   ]
  },
  {
   "cell_type": "markdown",
   "id": "653e7b12-fb2d-44cc-8a3b-ca26d66283be",
   "metadata": {},
   "source": [
    "# We can check by doing some mathematical operations "
   ]
  },
  {
   "cell_type": "code",
   "execution_count": 29,
   "id": "11a3e501-6338-4cf3-8589-f77e69bd831d",
   "metadata": {},
   "outputs": [
    {
     "name": "stdout",
     "output_type": "stream",
     "text": [
      "john doe\n"
     ]
    }
   ],
   "source": [
    "first_name = \"john\"\n",
    "last_name = \"doe\"\n",
    "print(first_name + \" \" + last_name)"
   ]
  },
  {
   "cell_type": "code",
   "execution_count": 31,
   "id": "95c93fc2-8e1f-4965-adda-544043aed223",
   "metadata": {},
   "outputs": [
    {
     "name": "stdout",
     "output_type": "stream",
     "text": [
      "10\n"
     ]
    }
   ],
   "source": [
    "x=5\n",
    "x+=5\n",
    "print(x)"
   ]
  },
  {
   "cell_type": "code",
   "execution_count": 33,
   "id": "1111142a-42c2-4dae-9430-fec69363caf9",
   "metadata": {},
   "outputs": [
    {
     "data": {
      "text/plain": [
       "True"
      ]
     },
     "execution_count": 33,
     "metadata": {},
     "output_type": "execute_result"
    }
   ],
   "source": [
    "a=10\n",
    "type(a) is int"
   ]
  },
  {
   "cell_type": "code",
   "execution_count": 35,
   "id": "38d48cd5-1e76-4880-b8b9-90230395776b",
   "metadata": {},
   "outputs": [
    {
     "name": "stdout",
     "output_type": "stream",
     "text": [
      "Variable               Type        Data/Info\n",
      "--------------------------------------------\n",
      "a                      int         10\n",
      "age                    int         23\n",
      "ank                    str         strra\n",
      "bggbnz                 int         10\n",
      "converted_num          int         10\n",
      "dataframe_columns      function    <function dataframe_colum<...>ns at 0x0000027588833560>\n",
      "dataframe_hash         function    <function dataframe_hash at 0x00000275888336A0>\n",
      "dtypes_str             function    <function dtypes_str at 0x0000027588832700>\n",
      "first_name             str         john\n",
      "get_dataframes         function    <function get_dataframes at 0x0000027588831DA0>\n",
      "getpass                module      <module 'getpass' from 'C<...>conda3\\\\Lib\\\\getpass.py'>\n",
      "ghj                    str         10\n",
      "hashlib                module      <module 'hashlib' from 'C<...>conda3\\\\Lib\\\\hashlib.py'>\n",
      "height                 float       5.5\n",
      "import_pandas_safely   function    <function import_pandas_s<...>ly at 0x0000027585FF25C0>\n",
      "is_data_frame          function    <function is_data_frame at 0x0000027585FAF240>\n",
      "json                   module      <module 'json' from 'C:\\\\<...>\\Lib\\\\json\\\\__init__.py'>\n",
      "last_name              str         doe\n",
      "name                   str         ram\n",
      "num                    str         10\n",
      "x                      int         10\n",
      "y                      str         15.0\n"
     ]
    }
   ],
   "source": [
    "%whos\n"
   ]
  },
  {
   "cell_type": "code",
   "execution_count": 41,
   "id": "acabb1f7-41a4-484b-8289-de9179969f7d",
   "metadata": {},
   "outputs": [
    {
     "name": "stdin",
     "output_type": "stream",
     "text": [
      "enter the weight iun kg 224\n",
      "enter the height in imch 4\n"
     ]
    },
    {
     "name": "stdout",
     "output_type": "stream",
     "text": [
      "14.0\n"
     ]
    }
   ],
   "source": [
    "weight=int(input(\"enter the weight iun kg\"))\n",
    "height=int(input(\"enter the height in imch\"))\n",
    "bmi=weight/(height**2)\n",
    "print(bmi)"
   ]
  },
  {
   "cell_type": "code",
   "execution_count": 59,
   "id": "427d6a77-8a34-44ff-82c3-15243144178e",
   "metadata": {},
   "outputs": [
    {
     "name": "stdin",
     "output_type": "stream",
     "text": [
      "enter the quantity of soap 54\n",
      "enter the price per unit for soap 58\n",
      "enter the quantity for med 223\n",
      "enter the price per unit for med 56\n",
      "enter the quantity for ice 56\n",
      "enter the price per unit for ice 98\n"
     ]
    },
    {
     "name": "stdout",
     "output_type": "stream",
     "text": [
      "your total bill is rupees 21108\n"
     ]
    }
   ],
   "source": [
    "product1 = \"soap\"\n",
    "quantity1 = int(input(\"enter the quantity of soap\"))\n",
    "price_per_unit1 = int(input(\"enter the price per unit for soap\"))\n",
    "#product 2\n",
    "product2 = \"med\"\n",
    "quantity2 = int(input(\"enter the quantity for med\"))\n",
    "price_per_unit2 = int(input(\"enter the price per unit for med\"))\n",
    "#product3\n",
    "product3 = \"ice\"\n",
    "quantity3 = int(input(\"enter the quantity for ice\"))\n",
    "price_per_unit3 = int(input(\"enter the price per unit for ice\"))\n",
    "total_bill = (quantity1*price_per_unit1)+(quantity2*price_per_unit2)+(quantity3*price_per_unit3)\n",
    "print(\"your total bill is\" +\" \" + \"rupees\",total_bill)"
   ]
  },
  {
   "cell_type": "code",
   "execution_count": 14,
   "id": "a5a3c17b-6ba0-49c8-9373-7e0027cfea54",
   "metadata": {},
   "outputs": [
    {
     "name": "stdin",
     "output_type": "stream",
     "text": [
      "enter the principal amount 46500\n",
      "enter the time period in years 8\n",
      "enter the percentage  0.66\n"
     ]
    },
    {
     "name": "stdout",
     "output_type": "stream",
     "text": [
      "the simple interest is  2455.2\n",
      "threshold amount is greater\n"
     ]
    }
   ],
   "source": [
    "principal_amount=int(input(\"enter the principal amount\"))\n",
    "time_period=int(input(\"enter the time period in years\"))\n",
    "interest_rate=float(input(\"enter the percentage \"))\n",
    "simple_interest=principal_amount*time_period*(interest_rate/100)\n",
    "print(\"the simple interest is \",simple_interest)\n",
    "threshold_amount=120000\n",
    "if (simple_interest>=threshold_amount):\n",
    "    print(\"simple interest is greater\")\n",
    "else :\n",
    "    print(\"threshold amount is greater\")\n"
   ]
  },
  {
   "cell_type": "code",
   "execution_count": 73,
   "id": "a719977d-f450-4159-a5f3-2439012797a6",
   "metadata": {},
   "outputs": [
    {
     "name": "stdin",
     "output_type": "stream",
     "text": [
      "enter the circle radius 12\n"
     ]
    },
    {
     "name": "stdout",
     "output_type": "stream",
     "text": [
      "the area of circle is   452.16\n"
     ]
    }
   ],
   "source": [
    "radius=int(input(\"enter the circle radius\"))\n",
    "area=3.14*(radius**2)\n",
    "print(\"the area of circle is \" +\" \" , area)"
   ]
  },
  {
   "cell_type": "code",
   "execution_count": 2,
   "id": "265bdf58-eb16-4f32-804b-459b244e3588",
   "metadata": {},
   "outputs": [
    {
     "name": "stdout",
     "output_type": "stream",
     "text": [
      "5.656854249492381\n"
     ]
    }
   ],
   "source": [
    "copm = 4+4j\n",
    "print(abs(copm))"
   ]
  },
  {
   "cell_type": "code",
   "execution_count": 4,
   "id": "20c8e328-e1dd-4829-89ba-83c5525fb9a9",
   "metadata": {},
   "outputs": [
    {
     "name": "stdout",
     "output_type": "stream",
     "text": [
      "7\n"
     ]
    }
   ],
   "source": [
    "sgn=\"gsbgksk\"\n",
    "print(len(sgn))\n"
   ]
  },
  {
   "cell_type": "code",
   "execution_count": 8,
   "id": "00bd36f0-44a9-468d-b5d7-8febfeb6aee7",
   "metadata": {},
   "outputs": [
    {
     "name": "stdout",
     "output_type": "stream",
     "text": [
      "1234\n"
     ]
    }
   ],
   "source": [
    "player_score=1234.56\n",
    "print(int(player_score))"
   ]
  },
  {
   "cell_type": "code",
   "execution_count": 12,
   "id": "e1f0b545-e6a9-4ac8-be61-3b476768aa6b",
   "metadata": {},
   "outputs": [
    {
     "name": "stdin",
     "output_type": "stream",
     "text": [
      "enter the principal amount 46500\n",
      "enter the time period in years 8\n",
      "enter the percentage  0.66\n"
     ]
    },
    {
     "name": "stdout",
     "output_type": "stream",
     "text": [
      "the simple interest is  2455\n"
     ]
    }
   ],
   "source": [
    "principal_amount=int(input(\"enter the principal amount\"))\n",
    "time_period=int(input(\"enter the time period in years\"))\n",
    "interest_rate=float(input(\"enter the percentage \"))\n",
    "simple_interest=int(principal_amount*time_period*(interest_rate/100))\n",
    "print(\"the simple interest is \",simple_interest)\n"
   ]
  },
  {
   "cell_type": "code",
   "execution_count": 2,
   "id": "678b7d34-a5a0-482c-ab21-61d461e867dd",
   "metadata": {},
   "outputs": [
    {
     "name": "stdout",
     "output_type": "stream",
     "text": [
      "0b10011101010001110011111000001101011110010111110\n"
     ]
    }
   ],
   "source": [
    "a=86464654654654\n",
    "print(bin(a))"
   ]
  },
  {
   "cell_type": "code",
   "execution_count": 8,
   "id": "f50e7447-dafc-4ce8-be7c-f9a119faa670",
   "metadata": {},
   "outputs": [
    {
     "name": "stdout",
     "output_type": "stream",
     "text": [
      "16547115843\n"
     ]
    }
   ],
   "source": [
    "a=[4544,464,64,84,84,6846,468,46,8468,468,468468,4684,689,468,4684,68468]\n",
    "value=16546546846\n",
    "\n",
    "dox=sum(a,value)\n",
    "print(dox)"
   ]
  },
  {
   "cell_type": "code",
   "execution_count": 10,
   "id": "80015d2e-47a2-4d9d-a16d-c49b2afac487",
   "metadata": {},
   "outputs": [
    {
     "name": "stdout",
     "output_type": "stream",
     "text": [
      "45300629\n"
     ]
    }
   ],
   "source": [
    "a=654164\n",
    "value=16546546846\n",
    "\n",
    "dox=\"a+b\"\n",
    "print(eval(dox))"
   ]
  },
  {
   "cell_type": "code",
   "execution_count": 12,
   "id": "b31f52ad-5a53-48ed-aa99-5fcfe127db91",
   "metadata": {},
   "outputs": [
    {
     "name": "stdout",
     "output_type": "stream",
     "text": [
      "Help on built-in function bin in module builtins:\n",
      "\n",
      "bin(number, /)\n",
      "    Return the binary representation of an integer.\n",
      "    \n",
      "    >>> bin(2796202)\n",
      "    '0b1010101010101010101010'\n",
      "\n"
     ]
    }
   ],
   "source": [
    "help(bin)"
   ]
  },
  {
   "cell_type": "code",
   "execution_count": 14,
   "id": "d27af9b9-63fa-476d-9e6c-5ac4c78fcfc6",
   "metadata": {},
   "outputs": [
    {
     "name": "stdout",
     "output_type": "stream",
     "text": [
      "Help on class object in module builtins:\n",
      "\n",
      "class object\n",
      " |  The base class of the class hierarchy.\n",
      " |  \n",
      " |  When called, it accepts no arguments and returns a new featureless\n",
      " |  instance that has no instance attributes and cannot be given any.\n",
      " |  \n",
      " |  Built-in subclasses:\n",
      " |      anext_awaitable\n",
      " |      async_generator\n",
      " |      async_generator_asend\n",
      " |      async_generator_athrow\n",
      " |      ... and 93 other subclasses\n",
      " |  \n",
      " |  Methods defined here:\n",
      " |  \n",
      " |  __delattr__(self, name, /)\n",
      " |      Implement delattr(self, name).\n",
      " |  \n",
      " |  __dir__(self, /)\n",
      " |      Default dir() implementation.\n",
      " |  \n",
      " |  __eq__(self, value, /)\n",
      " |      Return self==value.\n",
      " |  \n",
      " |  __format__(self, format_spec, /)\n",
      " |      Default object formatter.\n",
      " |  \n",
      " |  __ge__(self, value, /)\n",
      " |      Return self>=value.\n",
      " |  \n",
      " |  __getattribute__(self, name, /)\n",
      " |      Return getattr(self, name).\n",
      " |  \n",
      " |  __getstate__(self, /)\n",
      " |      Helper for pickle.\n",
      " |  \n",
      " |  __gt__(self, value, /)\n",
      " |      Return self>value.\n",
      " |  \n",
      " |  __hash__(self, /)\n",
      " |      Return hash(self).\n",
      " |  \n",
      " |  __init__(self, /, *args, **kwargs)\n",
      " |      Initialize self.  See help(type(self)) for accurate signature.\n",
      " |  \n",
      " |  __le__(self, value, /)\n",
      " |      Return self<=value.\n",
      " |  \n",
      " |  __lt__(self, value, /)\n",
      " |      Return self<value.\n",
      " |  \n",
      " |  __ne__(self, value, /)\n",
      " |      Return self!=value.\n",
      " |  \n",
      " |  __reduce__(self, /)\n",
      " |      Helper for pickle.\n",
      " |  \n",
      " |  __reduce_ex__(self, protocol, /)\n",
      " |      Helper for pickle.\n",
      " |  \n",
      " |  __repr__(self, /)\n",
      " |      Return repr(self).\n",
      " |  \n",
      " |  __setattr__(self, name, value, /)\n",
      " |      Implement setattr(self, name, value).\n",
      " |  \n",
      " |  __sizeof__(self, /)\n",
      " |      Size of object in memory, in bytes.\n",
      " |  \n",
      " |  __str__(self, /)\n",
      " |      Return str(self).\n",
      " |  \n",
      " |  ----------------------------------------------------------------------\n",
      " |  Class methods defined here:\n",
      " |  \n",
      " |  __init_subclass__(...) from builtins.type\n",
      " |      This method is called when a class is subclassed.\n",
      " |      \n",
      " |      The default implementation does nothing. It may be\n",
      " |      overridden to extend subclasses.\n",
      " |  \n",
      " |  __subclasshook__(...) from builtins.type\n",
      " |      Abstract classes can override this to customize issubclass().\n",
      " |      \n",
      " |      This is invoked early on by abc.ABCMeta.__subclasscheck__().\n",
      " |      It should return True, False or NotImplemented.  If it returns\n",
      " |      NotImplemented, the normal algorithm is used.  Otherwise, it\n",
      " |      overrides the normal algorithm (and the outcome is cached).\n",
      " |  \n",
      " |  ----------------------------------------------------------------------\n",
      " |  Static methods defined here:\n",
      " |  \n",
      " |  __new__(*args, **kwargs) from builtins.type\n",
      " |      Create and return a new object.  See help(type) for accurate signature.\n",
      " |  \n",
      " |  ----------------------------------------------------------------------\n",
      " |  Data and other attributes defined here:\n",
      " |  \n",
      " |  __class__ = <class 'type'>\n",
      " |      type(object) -> the object's type\n",
      " |      type(name, bases, dict, **kwds) -> a new type\n",
      "\n"
     ]
    }
   ],
   "source": [
    "help(object)"
   ]
  },
  {
   "cell_type": "code",
   "execution_count": 16,
   "id": "4a7b2dde-f4d3-48fd-a9de-83390d0989ca",
   "metadata": {},
   "outputs": [
    {
     "data": {
      "text/plain": [
       "\u001b[1;31mSignature:\u001b[0m \u001b[0mprint\u001b[0m\u001b[1;33m(\u001b[0m\u001b[1;33m*\u001b[0m\u001b[0margs\u001b[0m\u001b[1;33m,\u001b[0m \u001b[0msep\u001b[0m\u001b[1;33m=\u001b[0m\u001b[1;34m' '\u001b[0m\u001b[1;33m,\u001b[0m \u001b[0mend\u001b[0m\u001b[1;33m=\u001b[0m\u001b[1;34m'\\n'\u001b[0m\u001b[1;33m,\u001b[0m \u001b[0mfile\u001b[0m\u001b[1;33m=\u001b[0m\u001b[1;32mNone\u001b[0m\u001b[1;33m,\u001b[0m \u001b[0mflush\u001b[0m\u001b[1;33m=\u001b[0m\u001b[1;32mFalse\u001b[0m\u001b[1;33m)\u001b[0m\u001b[1;33m\u001b[0m\u001b[1;33m\u001b[0m\u001b[0m\n",
       "\u001b[1;31mDocstring:\u001b[0m\n",
       "Prints the values to a stream, or to sys.stdout by default.\n",
       "\n",
       "sep\n",
       "  string inserted between values, default a space.\n",
       "end\n",
       "  string appended after the last value, default a newline.\n",
       "file\n",
       "  a file-like object (stream); defaults to the current sys.stdout.\n",
       "flush\n",
       "  whether to forcibly flush the stream.\n",
       "\u001b[1;31mType:\u001b[0m      builtin_function_or_method"
      ]
     },
     "metadata": {},
     "output_type": "display_data"
    }
   ],
   "source": [
    "print??"
   ]
  },
  {
   "cell_type": "code",
   "execution_count": 20,
   "id": "e0ea3d9c-203b-47a3-b8b4-2ea88e9cc7d8",
   "metadata": {},
   "outputs": [
    {
     "name": "stdin",
     "output_type": "stream",
     "text": [
      "1st num is 4\n",
      "2nd num is 5\n"
     ]
    },
    {
     "name": "stdout",
     "output_type": "stream",
     "text": [
      "9\n"
     ]
    }
   ],
   "source": [
    "a=int(input(\"1st num is\"))\n",
    "b=int(input(\"2nd num is\"))\n",
    "print(a+b)"
   ]
  },
  {
   "cell_type": "code",
   "execution_count": 34,
   "id": "868bf47d-4c26-4564-b595-752715469fb7",
   "metadata": {},
   "outputs": [
    {
     "name": "stdin",
     "output_type": "stream",
     "text": [
      "enter the age in years 45\n",
      "enter the height in cm 190\n",
      "enter the weight in kg 54\n"
     ]
    },
    {
     "name": "stdout",
     "output_type": "stream",
     "text": [
      "1468\n"
     ]
    }
   ],
   "source": [
    "age=int(input(\"enter the age in years\"))\n",
    "height=int(input(\"enter the height in cm\"))\n",
    "weight=int(input(\"enter the weight in kg\"))\n",
    "correct_age = abs(age)\n",
    "\n",
    "BMR =\"88.362 +(13.397* weight )+ (height*4.799)-(5.667*correct_age)\"\n",
    "bmr=eval(BMR)\n",
    "bm2r=int(bmr)\n",
    "print(bm2r)"
   ]
  },
  {
   "cell_type": "code",
   "execution_count": 44,
   "id": "381878e2-3f86-4925-847b-00284d9e4b24",
   "metadata": {},
   "outputs": [
    {
     "name": "stdin",
     "output_type": "stream",
     "text": [
      "enter your name af\n",
      "enter your name afef\n",
      "enter your name afre\n",
      "enter your name feav\n",
      "enter your name afre\n",
      "enter the age  54\n",
      "enter the age   546\n",
      "enter the age  51\n",
      "enter the age  516\n",
      "enter the age  5165\n"
     ]
    },
    {
     "name": "stdout",
     "output_type": "stream",
     "text": [
      "the average age is  1266.4\n"
     ]
    }
   ],
   "source": [
    "stud1=input(\"enter your name\")\n",
    "stud2=input(\"enter your name\")\n",
    "stud3=input(\"enter your name\")\n",
    "stud4=input(\"enter your name\")\n",
    "stud5=input(\"enter your name\")\n",
    "age1=int(input(\"enter the age \"))\n",
    "age2=int(input(\"enter the age  \"))\n",
    "age3=int(input(\"enter the age \"))\n",
    "age4=int(input(\"enter the age \"))\n",
    "age5=int(input(\"enter the age \"))\n",
    "avg_age=(age1 +age2 +age3 +age4 +age5)/5\n",
    "print(\"the average age is \",avg_age)"
   ]
  },
  {
   "cell_type": "code",
   "execution_count": 56,
   "id": "94d1b8d6-2e5b-4796-ba35-6618e50fd9df",
   "metadata": {},
   "outputs": [
    {
     "name": "stdin",
     "output_type": "stream",
     "text": [
      "enter your name ydm\n",
      "enter your name duku\n",
      "enter your name d\n",
      "enter your name d\n",
      "enter your name t\n",
      "age 45,54,5\n"
     ]
    },
    {
     "ename": "TypeError",
     "evalue": "unsupported operand type(s) for +: 'int' and 'str'",
     "output_type": "error",
     "traceback": [
      "\u001b[1;31m---------------------------------------------------------------------------\u001b[0m",
      "\u001b[1;31mTypeError\u001b[0m                                 Traceback (most recent call last)",
      "Cell \u001b[1;32mIn[56], line 7\u001b[0m\n\u001b[0;32m      5\u001b[0m stud5\u001b[38;5;241m=\u001b[39m\u001b[38;5;28minput\u001b[39m(\u001b[38;5;124m\"\u001b[39m\u001b[38;5;124menter your name\u001b[39m\u001b[38;5;124m\"\u001b[39m)\n\u001b[0;32m      6\u001b[0m age2\u001b[38;5;241m=\u001b[39m\u001b[38;5;28mlist\u001b[39m(\u001b[38;5;28minput\u001b[39m(\u001b[38;5;124m\"\u001b[39m\u001b[38;5;124mage\u001b[39m\u001b[38;5;124m\"\u001b[39m))\n\u001b[1;32m----> 7\u001b[0m avg_age\u001b[38;5;241m=\u001b[39m\u001b[38;5;28msum\u001b[39m(age2)\n\u001b[0;32m      8\u001b[0m avvg\u001b[38;5;241m=\u001b[39m\u001b[38;5;28meval\u001b[39m(\u001b[38;5;124m\"\u001b[39m\u001b[38;5;124mavg_age/5\u001b[39m\u001b[38;5;124m\"\u001b[39m)\n\u001b[0;32m      9\u001b[0m \u001b[38;5;28mprint\u001b[39m(\u001b[38;5;124m\"\u001b[39m\u001b[38;5;124mthe average age is \u001b[39m\u001b[38;5;124m\"\u001b[39m,avg_age)\n",
      "\u001b[1;31mTypeError\u001b[0m: unsupported operand type(s) for +: 'int' and 'str'"
     ]
    }
   ],
   "source": [
    "stud1=input(\"enter your name\")\n",
    "stud2=input(\"enter your name\")\n",
    "stud3=input(\"enter your name\")\n",
    "stud4=input(\"enter your name\")\n",
    "stud5=input(\"enter your name\")\n",
    "age2=list(input(\"age\"))\n",
    "avg_age=sum(age2)\n",
    "avvg=eval(\"avg_age/5\")\n",
    "print(\"the average age is \",avg_age)"
   ]
  },
  {
   "cell_type": "code",
   "execution_count": 64,
   "id": "70f3060b-2637-45f1-ba74-9bab41dc0904",
   "metadata": {},
   "outputs": [
    {
     "name": "stdin",
     "output_type": "stream",
     "text": [
      "enter your name m\n",
      "age 45,55,15,15\n"
     ]
    },
    {
     "name": "stdout",
     "output_type": "stream",
     "text": [
      "the average age is  32.5\n"
     ]
    }
   ],
   "source": [
    "stud1=input(\"enter your name\")\n",
    "age2=input(\"age\") # Remove the list() call\n",
    "age2 = [int(x) for x in age2.split(',')] # Split the string by comma and convert each element to an integer\n",
    "avg_age=sum(age2)\n",
    "avvg=avg_age/len(age2) # Calculate the average based on the number of ages entered\n",
    "print(\"the average age is \",avvg)"
   ]
  },
  {
   "cell_type": "code",
   "execution_count": 68,
   "id": "0a980f93-042b-41ef-936c-ae99d8d80c5f",
   "metadata": {},
   "outputs": [
    {
     "name": "stdin",
     "output_type": "stream",
     "text": [
      "enter the a number 45\n",
      "enter the b number 45\n",
      "enter the expression a+b\n"
     ]
    },
    {
     "name": "stdout",
     "output_type": "stream",
     "text": [
      "the result is   90\n"
     ]
    }
   ],
   "source": [
    "a=int(input(\"enter the a number\"))\n",
    "b=int(input(\"enter the b number\"))\n",
    "expr=input(\"enter the expression\")\n",
    "exprr=eval(expr)\n",
    "print(\"the result is  \",exprr)"
   ]
  },
  {
   "cell_type": "code",
   "execution_count": 70,
   "id": "b0cb3c66-6fcb-4ba8-96ad-90ef7db0a29a",
   "metadata": {},
   "outputs": [
    {
     "name": "stdin",
     "output_type": "stream",
     "text": [
      "enter the expression (45*6)-5946+45555\n"
     ]
    },
    {
     "name": "stdout",
     "output_type": "stream",
     "text": [
      "the result is   39879\n"
     ]
    }
   ],
   "source": [
    "expr=input(\"enter the expression\")\n",
    "exprr=eval(expr)\n",
    "print(\"the result is  \",exprr)"
   ]
  },
  {
   "cell_type": "code",
   "execution_count": 78,
   "id": "516b5553-0cde-4fd6-89f6-af2d68d85fcf",
   "metadata": {},
   "outputs": [
    {
     "name": "stdin",
     "output_type": "stream",
     "text": [
      "enter the house size in per square foot for user1 1500\n",
      "enter the number of rooms 4\n",
      "enter the house size in per square foot for user2 2000\n",
      "enter the number of rooms 4\n"
     ]
    },
    {
     "name": "stdout",
     "output_type": "stream",
     "text": [
      "<class 'str'>\n",
      "<class 'str'>\n",
      "<class 'str'>\n",
      "<class 'str'>\n",
      "price paid by user 1 is  7500000\n",
      "price paid by user 1 is  10000000\n",
      "user2 is paying higher value\n"
     ]
    }
   ],
   "source": [
    "house_size1=input(\"enter the house size in per square foot for user1\")\n",
    "number_of_rooms1=input(\"enter the number of rooms\")\n",
    "\n",
    "house_size2=input(\"enter the house size in per square foot for user2\")\n",
    "number_of_rooms2=input(\"enter the number of rooms\")\n",
    "\n",
    "print(type(house_size1))\n",
    "print(type(number_of_rooms1))\n",
    "print(type(house_size2))\n",
    "print(type(number_of_rooms2))\n",
    "\n",
    "price_paid_by_user1=int(house_size1)*5000\n",
    "print(\"price paid by user 1 is \",price_paid_by_user1)\n",
    "\n",
    "price_paid_by_user2=int(house_size2)*5000\n",
    "print(\"price paid by user 1 is \",price_paid_by_user2)\n",
    "threshold_value=7500000\n",
    "\n",
    "if price_paid_by_user1>threshold_value :\n",
    "    print(\"user1 is paying higher value\")\n",
    "else :\n",
    "    print(\"user2 is paying higher value\")\n",
    "\n"
   ]
  },
  {
   "cell_type": "code",
   "execution_count": 3,
   "id": "5b6c2ded-c810-4829-85f8-b785cec9efca",
   "metadata": {},
   "outputs": [
    {
     "name": "stdin",
     "output_type": "stream",
     "text": [
      "enter the symbol hal\n",
      "enter the current price 1000\n",
      "enter the change in price -100\n"
     ]
    },
    {
     "name": "stdout",
     "output_type": "stream",
     "text": [
      "the new price is  1100.0\n"
     ]
    },
    {
     "name": "stdin",
     "output_type": "stream",
     "text": [
      "enter the budget 800\n"
     ]
    },
    {
     "name": "stdout",
     "output_type": "stream",
     "text": [
      "the budget is  800.0\n",
      "budget is not enough\n"
     ]
    }
   ],
   "source": [
    "stock_symbol=input(\"enter the symbol\")\n",
    "current_price=int(input(\"enter the current price\"))\n",
    "percentage_change_in_price=float(input(\"enter the change in price\"))\n",
    "new_price=current_price*1.1\n",
    "print(\"the new price is \",new_price)\n",
    "budget=input(\"enter the budget\")\n",
    "bud=float(budget)\n",
    "print(\"the budget is \",bud)\n",
    "if bud>new_price :\n",
    "    print(\"budget is enough\")\n",
    "else :\n",
    "    print(\"budget is not enough\")"
   ]
  },
  {
   "cell_type": "code",
   "execution_count": 7,
   "id": "b11411c7-0c4b-451e-8eb6-4a32be98e03d",
   "metadata": {},
   "outputs": [
    {
     "name": "stdin",
     "output_type": "stream",
     "text": [
      "enter the current temperature 78\n",
      "enter the minimum temperature 45\n",
      "enter the maximum temperature 46\n"
     ]
    },
    {
     "name": "stdout",
     "output_type": "stream",
     "text": [
      "the temp is not in range\n"
     ]
    }
   ],
   "source": [
    "current_temp=int(input(\"enter the current temperature\"))\n",
    "min_temp=int(input(\"enter the minimum temperature\"))\n",
    "max_temp=int(input(\"enter the maximum temperature\"))\n",
    "if min_temp<current_temp<max_temp :\n",
    "    print(\"the temp is between the range\")\n",
    "else :\n",
    "    print(\"the temp is not in range\")\n"
   ]
  },
  {
   "cell_type": "code",
   "execution_count": 26,
   "id": "557319e2-7ae7-46a7-8848-3524621efe06",
   "metadata": {},
   "outputs": [
    {
     "ename": "SyntaxError",
     "evalue": "expected ':' (3816637764.py, line 8)",
     "output_type": "error",
     "traceback": [
      "\u001b[1;36m  Cell \u001b[1;32mIn[26], line 8\u001b[1;36m\u001b[0m\n\u001b[1;33m    else 24<cel<28 :\u001b[0m\n\u001b[1;37m         ^\u001b[0m\n\u001b[1;31mSyntaxError\u001b[0m\u001b[1;31m:\u001b[0m expected ':'\n"
     ]
    }
   ],
   "source": [
    "temp_value=float(input(\"enter the current temperaturre\"))\n",
    "unit=input(\"enter the unit type for celcius enter C and for farenheit enter F\")\n",
    "if unit==\"C\" :\n",
    "    cel=float(input(\"the temp in celcius is \"))\n",
    "    print(\"the entered temp is in celcius\",cel)\n",
    "    if cel<15 :\n",
    "        print(\"temperature is not convinient\")\n",
    "    else 24<cel<28 :\n",
    "    print(\"temp is convinient\")\n",
    "    F = (9/5 * cel) + 32\n",
    "    print(\"the temp in farenheit is \",F)\n",
    "elif unit==\"F\" :\n",
    "    far=float(input(\"the temp in farenheit is \"))\n",
    "    print(\"the farenheit temp is \",far)"
   ]
  },
  {
   "cell_type": "code",
   "execution_count": 28,
   "id": "b9bacd8f-a8a0-41b2-bd4c-984623692824",
   "metadata": {},
   "outputs": [
    {
     "name": "stdin",
     "output_type": "stream",
     "text": [
      "enter the current temperaturre 45\n",
      "enter the unit type for celcius enter C and for farenheit enter F C\n",
      "the temp in celcius is  45\n"
     ]
    },
    {
     "name": "stdout",
     "output_type": "stream",
     "text": [
      "the entered temp is in celcius 45.0\n",
      "the temp in farenheit is  113.0\n"
     ]
    }
   ],
   "source": [
    "temp_value=float(input(\"enter the current temperaturre\"))\n",
    "unit=input(\"enter the unit type for celcius enter C and for farenheit enter F\")\n",
    "if unit==\"C\" :\n",
    "    cel=float(input(\"the temp in celcius is \"))\n",
    "    print(\"the entered temp is in celcius\",cel)\n",
    "    F = (9/5 * cel) + 32\n",
    "    print(\"the temp in farenheit is \",F)\n",
    "elif unit==\"F\" :\n",
    "    far=float(input(\"the temp in farenheit is \"))\n",
    "    print(\"the farenheit temp is \",far)\n",
    "\n",
    "if cel<15 :\n",
    "    #this line had an indentation error\n",
    "    print(\"temperature is not convinient\")\n",
    "\n",
    "elif 24<cel<28 : #this line had an indentation error\n",
    "    print(\"temp is convinient\")\n"
   ]
  },
  {
   "cell_type": "code",
   "execution_count": 34,
   "id": "77420c70-0e59-4381-8fff-ad1e7e7b3643",
   "metadata": {},
   "outputs": [
    {
     "name": "stdin",
     "output_type": "stream",
     "text": [
      "enter the current temperaturre 25\n",
      "enter the unit type for celcius enter C and for farenheit enter F C\n",
      "the temp in celcius is  25\n"
     ]
    },
    {
     "name": "stdout",
     "output_type": "stream",
     "text": [
      "the entered temp is in celcius 25.0\n",
      "the temp in farenheit is  77.0\n",
      "temp is convinient\n"
     ]
    }
   ],
   "source": [
    "temp_value=float(input(\"enter the current temperaturre\"))\n",
    "unit=input(\"enter the unit type for celcius enter C and for farenheit enter F\")\n",
    "if unit==\"C\" :\n",
    "    cel=float(input(\"the temp in celcius is \"))\n",
    "    print(\"the entered temp is in celcius\",cel)\n",
    "    F = (9/5 * cel) + 32\n",
    "    print(\"the temp in farenheit is \",F)\n",
    "elif unit==\"F\" :\n",
    "    far=float(input(\"the temp in farenheit is \"))\n",
    "    print(\"the farenheit temp is \",far)\n",
    "    cel=(far-32)*5/9\n",
    "    print(\"the entered temp is in celcius\",cel)\n",
    "\n",
    "if cel<15 :\n",
    "    #this line had an indentation error\n",
    "    print(\"temperature is not convinient\")\n",
    "\n",
    "elif 24<cel<28 : #this line had an indentation error\n",
    "    print(\"temp is convinient\")\n"
   ]
  },
  {
   "cell_type": "code",
   "execution_count": 38,
   "id": "f8271c0d-a4db-40b9-a357-370810868c33",
   "metadata": {},
   "outputs": [
    {
     "name": "stdin",
     "output_type": "stream",
     "text": [
      "enter your age 10\n"
     ]
    },
    {
     "name": "stdout",
     "output_type": "stream",
     "text": [
      "you are not eligible to vole\n"
     ]
    }
   ],
   "source": [
    "age=int(input(\"enter your age\"))\n",
    "if age>18 :\n",
    "    print(\"you are eligible for voting\")\n",
    "else:\n",
    "    print(\"you are not eligible to vole\")"
   ]
  },
  {
   "cell_type": "code",
   "execution_count": 46,
   "id": "354f0870-448f-4b5a-b968-b934bccf5602",
   "metadata": {},
   "outputs": [
    {
     "name": "stdin",
     "output_type": "stream",
     "text": [
      "enter your salary 50000\n",
      "enter the years you have worked for the company 2\n"
     ]
    },
    {
     "name": "stdout",
     "output_type": "stream",
     "text": [
      "your deductiions is  6000.0\n",
      "your net salary is  44000.0\n"
     ]
    }
   ],
   "source": [
    "base_salary=int(input(\"enter your salary\"))\n",
    "years_of_service=int(input(\"enter the years you have worked for the company\"))\n",
    "if years_of_service>5 :\n",
    "    loyalty_bonus=(8/100)*base_salary\n",
    "    deductions=(12/100)*base_salary\n",
    "    net_salary =base_salary + loyalty_bonus - deductions\n",
    "    print(\"your loyalty bonus is \",loyalty_bonus)\n",
    "    print(\"your deductiions is \",deductions)\n",
    "    print(\"your net salary is \",net_salary)\n",
    "else :\n",
    "    deductions=(12/100)*base_salary\n",
    "    net_salary =base_salary - deductions\n",
    "    print(\"your deductiions is \",deductions)\n",
    "    print(\"your net salary is \",net_salary)\n",
    "\n",
    "    \n",
    "     \n",
    "    \n",
    "    \n",
    "    \n",
    "\n"
   ]
  },
  {
   "cell_type": "code",
   "execution_count": 50,
   "id": "3250a4e0-c1b1-4999-996c-985de4dabc3e",
   "metadata": {},
   "outputs": [
    {
     "name": "stdin",
     "output_type": "stream",
     "text": [
      "enter the city name pune\n"
     ]
    },
    {
     "name": "stdout",
     "output_type": "stream",
     "text": [
      "the famous monument is shaniwar wada\n"
     ]
    }
   ],
   "source": [
    "city_name =input(\"enter the city name\")\n",
    "if city_name==\"mumbai\":\n",
    "    print(\"the famous monument is gateway of india\")\n",
    "elif city_name==\"kolkata\":\n",
    "    print(\"the famous monument is victoria memorial\")\n",
    "elif city_name==\"chennai\":\n",
    "    print(\"the famous monument is mariana beach\")\n",
    "elif city_name==\"banglore\":\n",
    "    print(\"the famous monument is botanical garden\")\n",
    "elif city_name==\"pune\":\n",
    "    print(\"the famous monument is shaniwar wada\")\n",
    "\n"
   ]
  },
  {
   "cell_type": "code",
   "execution_count": 8,
   "id": "ebe870f8-6bb1-4ce8-9b6f-9aae331b7d4c",
   "metadata": {},
   "outputs": [
    {
     "name": "stdout",
     "output_type": "stream",
     "text": [
      "1\n",
      "2\n",
      "3\n",
      "4\n",
      "5\n",
      "6\n",
      "7\n",
      "8\n",
      "9\n",
      "10\n"
     ]
    }
   ],
   "source": [
    "count=1\n",
    "while count<=10:\n",
    "    print(count)\n",
    "    count=count+1"
   ]
  },
  {
   "cell_type": "code",
   "execution_count": 10,
   "id": "7bfe5227-77e9-431c-bfa8-b982599e316f",
   "metadata": {},
   "outputs": [
    {
     "name": "stdout",
     "output_type": "stream",
     "text": [
      "2\n",
      "4\n",
      "6\n",
      "8\n",
      "10\n",
      "12\n",
      "14\n",
      "16\n",
      "18\n",
      "20\n",
      "22\n",
      "24\n",
      "26\n",
      "28\n",
      "30\n",
      "32\n",
      "34\n",
      "36\n",
      "38\n",
      "40\n",
      "42\n",
      "44\n",
      "46\n",
      "48\n",
      "50\n"
     ]
    }
   ],
   "source": [
    "count=2\n",
    "while count<=50 :\n",
    "    print(count)\n",
    "    count=count+2"
   ]
  },
  {
   "cell_type": "code",
   "execution_count": 2,
   "id": "fc05d75a-1834-4c4e-8df5-6e76782be557",
   "metadata": {},
   "outputs": [
    {
     "name": "stdout",
     "output_type": "stream",
     "text": [
      "2\n",
      "4\n",
      "6\n",
      "8\n",
      "10\n",
      "12\n",
      "14\n",
      "16\n",
      "18\n",
      "20\n",
      "22\n",
      "24\n",
      "26\n",
      "28\n",
      "30\n",
      "32\n",
      "34\n",
      "36\n",
      "38\n",
      "40\n",
      "42\n",
      "44\n",
      "46\n",
      "48\n",
      "50\n"
     ]
    }
   ],
   "source": [
    "num=1\n",
    "while num<=50 :\n",
    "    if num%2==0 :\n",
    "        print(num)\n",
    "    num=num + 1\n",
    "\n"
   ]
  },
  {
   "cell_type": "code",
   "execution_count": 4,
   "id": "2c71f40b-27c1-4464-ac82-ead5cbc2ff7e",
   "metadata": {},
   "outputs": [
    {
     "name": "stdin",
     "output_type": "stream",
     "text": [
      "enter the email address ritesh@.\n"
     ]
    },
    {
     "ename": "NameError",
     "evalue": "name 'email_adddress' is not defined",
     "output_type": "error",
     "traceback": [
      "\u001b[1;31m---------------------------------------------------------------------------\u001b[0m",
      "\u001b[1;31mNameError\u001b[0m                                 Traceback (most recent call last)",
      "Cell \u001b[1;32mIn[4], line 3\u001b[0m\n\u001b[0;32m      1\u001b[0m email_address\u001b[38;5;241m=\u001b[39m\u001b[38;5;28minput\u001b[39m(\u001b[38;5;124m\"\u001b[39m\u001b[38;5;124menter the email address\u001b[39m\u001b[38;5;124m\"\u001b[39m)\n\u001b[0;32m      2\u001b[0m mail\u001b[38;5;241m=\u001b[39m\u001b[38;5;28mlen\u001b[39m(email_address)\n\u001b[1;32m----> 3\u001b[0m \u001b[38;5;28;01mwhile\u001b[39;00m mail\u001b[38;5;241m<\u001b[39m\u001b[38;5;241m=\u001b[39m\u001b[38;5;28mlen\u001b[39m(email_adddress):\n\u001b[0;32m      4\u001b[0m     \u001b[38;5;28;01mif\u001b[39;00m email_address \u001b[38;5;241m==\u001b[39m \u001b[38;5;124m\"\u001b[39m\u001b[38;5;124m@\u001b[39m\u001b[38;5;124m\"\u001b[39m \u001b[38;5;129;01mand\u001b[39;00m email_address \u001b[38;5;241m==\u001b[39m\u001b[38;5;124m\"\u001b[39m\u001b[38;5;124m.\u001b[39m\u001b[38;5;124m\"\u001b[39m:\n\u001b[0;32m      5\u001b[0m         \u001b[38;5;28mprint\u001b[39m(\u001b[38;5;124m\"\u001b[39m\u001b[38;5;124memail validaation passed \u001b[39m\u001b[38;5;124m\"\u001b[39m)\n",
      "\u001b[1;31mNameError\u001b[0m: name 'email_adddress' is not defined"
     ]
    }
   ],
   "source": [
    "email_address=input(\"enter the email address\")\n",
    "mail=len(email_address)\n",
    "while mail<=len(email_adddress):\n",
    "    if email_address == \"@\" and email_address ==\".\":\n",
    "        print(\"email validaation passed \")\n",
    "    else :\n",
    "        print(\"not passed\")\n",
    "    mail=mail+1"
   ]
  },
  {
   "cell_type": "code",
   "execution_count": 4,
   "id": "618154a5-ddd0-44cc-b7ca-02c554eb481e",
   "metadata": {},
   "outputs": [
    {
     "name": "stdin",
     "output_type": "stream",
     "text": [
      "enter the email address  ritesh@gmail.com\n"
     ]
    },
    {
     "name": "stdout",
     "output_type": "stream",
     "text": [
      "the entred email is correct \n"
     ]
    }
   ],
   "source": [
    "email_address=input(\"enter the email address \")\n",
    "valid_mail = False\n",
    "while not valid_mail :\n",
    "    if \"@\" and \".\" in email_address :\n",
    "        print(\"the entred email is correct \")\n",
    "        valid_mail=True\n",
    "    else :\n",
    "        print(\"entered mail is not correct\")\n",
    "        print(\"please try again later\")\n",
    "        valid_mail = True\n"
   ]
  },
  {
   "cell_type": "code",
   "execution_count": 2,
   "id": "ae355edf-9b9f-49c2-ba9b-ed761891a334",
   "metadata": {},
   "outputs": [
    {
     "name": "stdout",
     "output_type": "stream",
     "text": [
      "5\n",
      "546\n",
      "46\n",
      "465\n",
      "4654\n",
      "64\n",
      "64\n",
      "64\n",
      "4\n",
      "5\n",
      "4\n"
     ]
    }
   ],
   "source": [
    "a=[5,546,46,465,4654,64,64,64,4,5,4]\n",
    "for i in a:\n",
    "    print(i)"
   ]
  },
  {
   "cell_type": "code",
   "execution_count": 6,
   "id": "1fdbaa51-f20f-4a06-9cff-b5cdcdd3bc22",
   "metadata": {},
   "outputs": [
    {
     "name": "stdout",
     "output_type": "stream",
     "text": [
      "s\n",
      "y\n",
      "u\n",
      "h\n",
      "f\n",
      "a\n",
      "o\n",
      "u\n",
      "f\n",
      "o\n",
      "u\n",
      "a\n"
     ]
    }
   ],
   "source": [
    "a=\"syuhfaoufoua\"\n",
    "for i in a:\n",
    "    print(i)"
   ]
  },
  {
   "cell_type": "code",
   "execution_count": 8,
   "id": "c1085bb3-2409-4c25-bf35-7d22d8c85901",
   "metadata": {},
   "outputs": [
    {
     "name": "stdout",
     "output_type": "stream",
     "text": [
      "0\n",
      "1\n",
      "2\n",
      "3\n",
      "4\n",
      "5\n",
      "6\n",
      "7\n",
      "8\n",
      "9\n",
      "10\n",
      "11\n",
      "12\n",
      "13\n",
      "14\n",
      "15\n"
     ]
    }
   ],
   "source": [
    "for i in range(16):\n",
    "    print(i)"
   ]
  },
  {
   "cell_type": "code",
   "execution_count": 16,
   "id": "917e6e8c-faa1-4161-8231-5428e2d1f2bf",
   "metadata": {},
   "outputs": [
    {
     "name": "stdout",
     "output_type": "stream",
     "text": [
      "5\n",
      "6\n",
      "7\n",
      "8\n",
      "9\n",
      "10\n",
      "11\n",
      "12\n",
      "13\n",
      "14\n"
     ]
    }
   ],
   "source": [
    "for i in range(5,15):\n",
    "    print(i)"
   ]
  },
  {
   "cell_type": "code",
   "execution_count": 18,
   "id": "49ae07fe-7a9f-4346-bffa-80871b3d925a",
   "metadata": {},
   "outputs": [
    {
     "name": "stdout",
     "output_type": "stream",
     "text": [
      "0\n",
      "2\n",
      "4\n",
      "6\n",
      "8\n",
      "10\n",
      "12\n",
      "14\n",
      "16\n",
      "18\n",
      "20\n",
      "22\n",
      "24\n"
     ]
    }
   ],
   "source": [
    "for i in range(0,25):\n",
    "    if i%2==0 :\n",
    "        print(i)\n",
    "    "
   ]
  },
  {
   "cell_type": "code",
   "execution_count": 20,
   "id": "e7fac232-39f8-4d46-8f00-b2d64fb5e8e5",
   "metadata": {},
   "outputs": [
    {
     "name": "stdout",
     "output_type": "stream",
     "text": [
      "the number is even  0\n",
      "the number is odd 1\n",
      "the number is even  2\n",
      "the number is odd 3\n",
      "the number is even  4\n",
      "the number is odd 5\n",
      "the number is even  6\n",
      "the number is odd 7\n",
      "the number is even  8\n",
      "the number is odd 9\n",
      "the number is even  10\n",
      "the number is odd 11\n",
      "the number is even  12\n",
      "the number is odd 13\n",
      "the number is even  14\n",
      "the number is odd 15\n",
      "the number is even  16\n",
      "the number is odd 17\n",
      "the number is even  18\n",
      "the number is odd 19\n",
      "the number is even  20\n",
      "the number is odd 21\n",
      "the number is even  22\n",
      "the number is odd 23\n",
      "the number is even  24\n"
     ]
    }
   ],
   "source": [
    "for i in range(0,25):\n",
    "    if i%2==0 :\n",
    "        print(\"the number is even \",i)\n",
    "    else :\n",
    "        print(\"the number is odd\",i)\n",
    "    "
   ]
  },
  {
   "cell_type": "code",
   "execution_count": 24,
   "id": "ed94ab76-5ecb-4f78-8e9d-1b17b264b12b",
   "metadata": {},
   "outputs": [
    {
     "name": "stdout",
     "output_type": "stream",
     "text": [
      "0\n",
      "5\n",
      "10\n",
      "15\n",
      "20\n",
      "25\n",
      "30\n",
      "35\n",
      "40\n",
      "45\n",
      "50\n"
     ]
    }
   ],
   "source": [
    "for i in range(0,51):\n",
    "    if i%5==0 :\n",
    "        print(i)"
   ]
  },
  {
   "cell_type": "code",
   "execution_count": 32,
   "id": "de568d38-e9c1-42e3-b0fe-6729b48bc56a",
   "metadata": {},
   "outputs": [
    {
     "name": "stdin",
     "output_type": "stream",
     "text": [
      "emter the number 154564\n"
     ]
    },
    {
     "name": "stdout",
     "output_type": "stream",
     "text": [
      "154564 * 0=0\n",
      "154564 * 1=154564\n",
      "154564 * 2=309128\n",
      "154564 * 3=463692\n",
      "154564 * 4=618256\n",
      "154564 * 5=772820\n",
      "154564 * 6=927384\n",
      "154564 * 7=1081948\n",
      "154564 * 8=1236512\n",
      "154564 * 9=1391076\n",
      "154564 * 10=1545640\n"
     ]
    }
   ],
   "source": [
    "num=int(input(\"emter the number\"))\n",
    "for i in range (0,11):\n",
    "    print(f\"{num} * {i}={num*i}\")\n",
    "    "
   ]
  },
  {
   "cell_type": "code",
   "execution_count": 66,
   "id": "cd0a8031-0d8e-40a6-bdcb-d4067e42fa4c",
   "metadata": {},
   "outputs": [
    {
     "name": "stdin",
     "output_type": "stream",
     "text": [
      "the number of items you have is  2\n",
      "enter the price of item 221\n"
     ]
    },
    {
     "name": "stdout",
     "output_type": "stream",
     "text": [
      "the price of item  1 is 221.0\n"
     ]
    },
    {
     "name": "stdin",
     "output_type": "stream",
     "text": [
      "enter the price of item 5546\n"
     ]
    },
    {
     "name": "stdout",
     "output_type": "stream",
     "text": [
      "the price of item  2 is 5546.0\n",
      "the total is  5767.0\n",
      "the new total bill is  5190.3\n"
     ]
    }
   ],
   "source": [
    "number_of_items=int(input(\"the number of items you have is \"))\n",
    "total_bill=0\n",
    "for i in range(number_of_items):\n",
    "    price_of_item=float(input(\"enter the price of item\"))\n",
    "    print(\"the price of item \",i+1 ,\"is\",price_of_item )\n",
    "    total_bill += price_of_item\n",
    "print(\"the total is \", total_bill)\n",
    "\n",
    "if total_bill>=100 :\n",
    "    new_total=total_bill-(10/100*total_bill)\n",
    "    print(\"the new total bill is \",new_total)\n",
    "elif 50<total_bill<99.99 :\n",
    "    new_total=total_bill -(5/100*total_bill)\n",
    "    print(\"the new bill is \",new_total)\n",
    "    "
   ]
  },
  {
   "cell_type": "code",
   "execution_count": 68,
   "id": "679de256-8da1-4e53-8bd2-dc3de7b373e0",
   "metadata": {},
   "outputs": [
    {
     "name": "stdout",
     "output_type": "stream",
     "text": [
      "0\n",
      "1\n",
      "2\n",
      "3\n",
      "4\n",
      "5\n",
      "6\n",
      "7\n",
      "8\n",
      "9\n",
      "10\n",
      "11\n",
      "12\n",
      "13\n",
      "14\n",
      "15\n",
      "16\n",
      "17\n",
      "18\n",
      "19\n",
      "20\n",
      "21\n"
     ]
    }
   ],
   "source": [
    "for i in range(0,25):\n",
    "    if i==22 :\n",
    "        break\n",
    "    print(i)\n"
   ]
  },
  {
   "cell_type": "code",
   "execution_count": 70,
   "id": "1499b927-dc5e-4559-adad-655b4323090b",
   "metadata": {},
   "outputs": [
    {
     "name": "stdout",
     "output_type": "stream",
     "text": [
      "2\n",
      "4\n",
      "6\n",
      "8\n",
      "10\n"
     ]
    }
   ],
   "source": [
    "numbers=[1,2,3,4,5]\n",
    "for num in numbers:\n",
    "    print(num*2)"
   ]
  },
  {
   "cell_type": "markdown",
   "id": "d1644920-fbba-4b10-ab71-5c0a17a7eeae",
   "metadata": {},
   "source": [
    "# user defined function"
   ]
  },
  {
   "cell_type": "code",
   "execution_count": 74,
   "id": "ff401ab2-de07-4066-8570-51b278bcb8d0",
   "metadata": {},
   "outputs": [
    {
     "name": "stdout",
     "output_type": "stream",
     "text": [
      "hello\n"
     ]
    }
   ],
   "source": [
    " def my_fun():\n",
    "     print(\"hello\")\n",
    "\n",
    "my_fun()"
   ]
  },
  {
   "cell_type": "code",
   "execution_count": 76,
   "id": "99cb057b-0288-43bd-93f1-cf6605f84890",
   "metadata": {},
   "outputs": [
    {
     "name": "stdout",
     "output_type": "stream",
     "text": [
      "hello\n"
     ]
    }
   ],
   "source": [
    "my_fun()"
   ]
  },
  {
   "cell_type": "code",
   "execution_count": 88,
   "id": "2a361f11-e7a5-4ab7-808d-fe4412fa25a0",
   "metadata": {},
   "outputs": [
    {
     "name": "stdout",
     "output_type": "stream",
     "text": [
      "please pay the electric bill before due date\n",
      "after due date the fine on will be 1000rs\n",
      "pay your bill soon\n"
     ]
    }
   ],
   "source": [
    " def details_bill():\n",
    "     print(\"please pay the electric bill before due date\")\n",
    "     print(\"after due date the fine on will be 1000rs\")\n",
    "     print(\"pay your bill soon\")\n",
    "\n",
    "details_bill()"
   ]
  },
  {
   "cell_type": "markdown",
   "id": "7670c88c-d9a5-453f-ad38-8f6dd6b53b5b",
   "metadata": {},
   "source": [
    " def details_bill():\n",
    "     print(\"please pay the electric bill before due date\")\n",
    "     print(\"after due date the fine on will be 1000rs\")\n",
    "     print(\"pay your bill soon\")\n",
    "\n",
    "details_bill()\n",
    "\n",
    "\n",
    "\n",
    "for i in range(3):\n",
    "    username=input(\"your name is \")\n",
    "    electricity_consumed=int(input(\"enter the unit consumed in the past month \"))\n",
    "    total_bill = electricity_consumed *5\n",
    "    print(username,\"your bill is \",total_bill)\n",
    "    details_bill()\n"
   ]
  },
  {
   "cell_type": "markdown",
   "id": "da08e71a-ec5e-4f3e-be05-49833e68b361",
   "metadata": {},
   "source": [
    "# arguments"
   ]
  },
  {
   "cell_type": "code",
   "execution_count": 9,
   "id": "3917e17a-ede4-40ee-997a-391b5f910b0e",
   "metadata": {},
   "outputs": [
    {
     "name": "stdout",
     "output_type": "stream",
     "text": [
      "the number is even 100\n"
     ]
    }
   ],
   "source": [
    "def check_even_odd(number):\n",
    "    if number%2==0:\n",
    "        print(\"the number is even\",number)\n",
    "    else:\n",
    "        print(\"the number is odd\",number)\n",
    "\n",
    "check_even_odd(100)"
   ]
  },
  {
   "cell_type": "code",
   "execution_count": 19,
   "id": "639bd4a2-2232-41a3-939a-790f788c875b",
   "metadata": {},
   "outputs": [
    {
     "name": "stdout",
     "output_type": "stream",
     "text": [
      "the first name is  nam\n",
      "the last name is gan\n"
     ]
    }
   ],
   "source": [
    "def first_last_name(first,last):\n",
    "    print(\"the first name is \",first)\n",
    "    print(\"the last name is\",last)\n",
    "\n",
    "\n",
    "first_last_name(\"nam\",\"gan\")\n"
   ]
  },
  {
   "cell_type": "code",
   "execution_count": 13,
   "id": "521a33c2-0a9d-424d-b4cc-104341e9244e",
   "metadata": {},
   "outputs": [
    {
     "name": "stdout",
     "output_type": "stream",
     "text": [
      "the number is odd 133\n"
     ]
    }
   ],
   "source": [
    "check_even_odd(133)"
   ]
  },
  {
   "cell_type": "code",
   "execution_count": 52,
   "id": "0aaad7ee-1ae2-4378-aa2b-6dd1a5d122bd",
   "metadata": {},
   "outputs": [
    {
     "name": "stdout",
     "output_type": "stream",
     "text": [
      "the average score is  86.7\n",
      "the highest is  95\n",
      "the lowest is  78\n",
      "the failed student are  2\n",
      "the passed student are 8\n"
     ]
    }
   ],
   "source": [
    "exam_scores = [85,92,78,90,88,95,82,79,87,91]\n",
    "def scores(exam_scores):\n",
    "    number_of_students_appeared=len(exam_scores)\n",
    "    average=sum(exam_scores)/number_of_students_appeared\n",
    "    highest_score=max(exam_scores)\n",
    "    lowest_scores=min(exam_scores)\n",
    "    print(\"the average score is \",average)\n",
    "    print(\"the highest is \",highest_score)\n",
    "    print(\"the lowest is \",lowest_scores)\n",
    "    num_passed=0\n",
    "    \n",
    "    for i in exam_scores:\n",
    "        if i>=80:\n",
    "            num_passed=num_passed+1\n",
    "    failed_students=number_of_students_appeared - num_passed\n",
    "    print(\"the failed student are \", failed_students)\n",
    "    print(\"the passed student are\",num_passed)\n",
    "scores(exam_scores)"
   ]
  },
  {
   "cell_type": "code",
   "execution_count": 60,
   "id": "58010bc4-3cd2-4547-b0ba-c06710c4edc9",
   "metadata": {},
   "outputs": [
    {
     "name": "stdout",
     "output_type": "stream",
     "text": [
      "the average score is  86.7\n",
      "the highest is  95\n",
      "the lowest is  78\n",
      "the failed student are  2\n",
      "the passed student are 8\n"
     ]
    },
    {
     "data": {
      "text/plain": [
       "(86.7, 95, 78, 8, 2)"
      ]
     },
     "execution_count": 60,
     "metadata": {},
     "output_type": "execute_result"
    }
   ],
   "source": [
    "exam_scores = [85,92,78,90,88,95,82,79,87,91]\n",
    "def scores(exam_scores):\n",
    "    number_of_students_appeared=len(exam_scores)\n",
    "    average=sum(exam_scores)/number_of_students_appeared\n",
    "    highest_score=max(exam_scores)\n",
    "    lowest_scores=min(exam_scores)\n",
    "    print(\"the average score is \",average)\n",
    "    print(\"the highest is \",highest_score)\n",
    "    print(\"the lowest is \",lowest_scores)\n",
    "    num_passed=0\n",
    "    \n",
    "    for i in exam_scores:\n",
    "        if i>=80:\n",
    "            num_passed=num_passed+1\n",
    "    failed_students=number_of_students_appeared - num_passed\n",
    "    print(\"the failed student are \", failed_students)\n",
    "    print(\"the passed student are\",num_passed)\n",
    "    return average,highest_score,lowest_scores,num_passed,failed_students\n",
    "\n",
    "\n",
    "scores(exam_scores)\n",
    "    "
   ]
  },
  {
   "cell_type": "code",
   "execution_count": 20,
   "id": "d87ad38d-0cd2-4316-bf31-15a4a896fb1c",
   "metadata": {},
   "outputs": [
    {
     "name": "stdout",
     "output_type": "stream",
     "text": [
      "<class 'list'>\n"
     ]
    },
    {
     "ename": "TypeError",
     "evalue": "int() argument must be a string, a bytes-like object or a real number, not 'list'",
     "output_type": "error",
     "traceback": [
      "\u001b[1;31m---------------------------------------------------------------------------\u001b[0m",
      "\u001b[1;31mTypeError\u001b[0m                                 Traceback (most recent call last)",
      "Cell \u001b[1;32mIn[20], line 3\u001b[0m\n\u001b[0;32m      1\u001b[0m lsir\u001b[38;5;241m=\u001b[39m[\u001b[38;5;241m45\u001b[39m,\u001b[38;5;241m456\u001b[39m]\n\u001b[0;32m      2\u001b[0m \u001b[38;5;28mprint\u001b[39m(\u001b[38;5;28mtype\u001b[39m(lsir))\n\u001b[1;32m----> 3\u001b[0m fu\u001b[38;5;241m=\u001b[39m\u001b[38;5;28mint\u001b[39m(lsir)\n",
      "\u001b[1;31mTypeError\u001b[0m: int() argument must be a string, a bytes-like object or a real number, not 'list'"
     ]
    }
   ],
   "source": [
    "lsir=[45,456]\n",
    "print(type(lsir))\n",
    "fu=int(lsir)"
   ]
  },
  {
   "cell_type": "code",
   "execution_count": null,
   "id": "a9f99f5f-d0a3-4c7c-859d-6752ad479cfb",
   "metadata": {},
   "outputs": [],
   "source": [
    "def grades_distribution(grades) :\n",
    "    for i in grades:\n",
    "        if 90<=i<=100 :\n",
    "            print(\" A grade for\",i)\n",
    "        elif 80<=i<=89 :\n",
    "            print(\"B grade for \", i)\n",
    "        elif 70<=i<=79 :\n",
    "            print(\"C grade for \", i)\n",
    "        elif 60<=i<=69 :\n",
    "            print(\"C grade for \", i)\n",
    "        elif 50<=i<=59:\n",
    "            print(\"D grade for \", i)\n",
    "        else :\n",
    "            print(\"you have f grade\",i)\n",
    "    return\n",
    "\n"
   ]
  },
  {
   "cell_type": "code",
   "execution_count": 69,
   "id": "18bc8191-4b00-4bf8-b23b-870320c1997a",
   "metadata": {},
   "outputs": [
    {
     "ename": "TypeError",
     "evalue": "can only concatenate list (not \"int\") to list",
     "output_type": "error",
     "traceback": [
      "\u001b[1;31m---------------------------------------------------------------------------\u001b[0m",
      "\u001b[1;31mTypeError\u001b[0m                                 Traceback (most recent call last)",
      "Cell \u001b[1;32mIn[69], line 2\u001b[0m\n\u001b[0;32m      1\u001b[0m grades\u001b[38;5;241m=\u001b[39m[\u001b[38;5;241m40\u001b[39m,\u001b[38;5;241m54\u001b[39m,\u001b[38;5;241m94\u001b[39m,\u001b[38;5;241m65\u001b[39m,\u001b[38;5;241m62\u001b[39m,\u001b[38;5;241m63\u001b[39m]\n\u001b[1;32m----> 2\u001b[0m grades_distribution(grades)\n",
      "Cell \u001b[1;32mIn[59], line 2\u001b[0m, in \u001b[0;36mgrades_distribution\u001b[1;34m(grades)\u001b[0m\n\u001b[0;32m      1\u001b[0m \u001b[38;5;28;01mdef\u001b[39;00m \u001b[38;5;21mgrades_distribution\u001b[39m(grades) :\n\u001b[1;32m----> 2\u001b[0m     \u001b[38;5;28;01mfor\u001b[39;00m i \u001b[38;5;129;01min\u001b[39;00m \u001b[38;5;28mrange\u001b[39m(\u001b[38;5;241m0\u001b[39m,grades\u001b[38;5;241m+\u001b[39m\u001b[38;5;241m1\u001b[39m):\n\u001b[0;32m      3\u001b[0m         \u001b[38;5;28;01mif\u001b[39;00m \u001b[38;5;241m90\u001b[39m\u001b[38;5;241m<\u001b[39m\u001b[38;5;241m=\u001b[39mi\u001b[38;5;241m<\u001b[39m\u001b[38;5;241m=\u001b[39m\u001b[38;5;241m100\u001b[39m :\n\u001b[0;32m      4\u001b[0m             \u001b[38;5;28mprint\u001b[39m(\u001b[38;5;124m\"\u001b[39m\u001b[38;5;124m A grade for\u001b[39m\u001b[38;5;124m\"\u001b[39m,i)\n",
      "\u001b[1;31mTypeError\u001b[0m: can only concatenate list (not \"int\") to list"
     ]
    }
   ],
   "source": [
    "grades=[40,54,94,65,62,63]\n",
    "grades_distribution(grades)"
   ]
  },
  {
   "cell_type": "code",
   "execution_count": 3,
   "id": "197ab729-71f0-440d-8761-67aed4c09dd0",
   "metadata": {},
   "outputs": [
    {
     "name": "stdin",
     "output_type": "stream",
     "text": [
      "enter the name \n",
      " ram\n",
      "enter the age\n",
      " 54\n",
      "enter the address \n",
      " gali gang\n"
     ]
    },
    {
     "name": "stdout",
     "output_type": "stream",
     "text": [
      "the name is :\n",
      "  ram\n",
      "the age is :\n",
      "  54\n",
      "the address is :\n",
      "  gali gang\n"
     ]
    }
   ],
   "source": [
    "name=input(\"enter the name \\n\")\n",
    "age=int(input(\"enter the age\\n\"))\n",
    "address=input(\"enter the address \\n\")\n",
    "print(\"the name is :\\n \",name)\n",
    "print(\"the age is :\\n \",age)\n",
    "print(\"the address is :\\n \",address)"
   ]
  },
  {
   "cell_type": "code",
   "execution_count": 9,
   "id": "6221803b-2ea7-4f96-84bc-59b5bcaaa36a",
   "metadata": {},
   "outputs": [
    {
     "name": "stdin",
     "output_type": "stream",
     "text": [
      "enter the first number 45\n",
      "enter the second number 87\n"
     ]
    },
    {
     "name": "stdout",
     "output_type": "stream",
     "text": [
      "45\n",
      "87\n",
      "the swapped numbers are:\n",
      "\n",
      "87\n",
      "45\n"
     ]
    }
   ],
   "source": [
    "a=int(input(\"enter the first number\"))\n",
    "b=int(input(\"enter the second number\"))\n",
    "print(a)\n",
    "print(b)\n",
    "print(\"the swapped numbers are:\\n\")\n",
    "temp=a\n",
    "a=b\n",
    "\n",
    "b=temp\n",
    "print(a)\n",
    "print(b) "
   ]
  },
  {
   "cell_type": "code",
   "execution_count": 11,
   "id": "b99a904c-52ae-4467-8f53-6bc6c07c2b3b",
   "metadata": {},
   "outputs": [
    {
     "name": "stdin",
     "output_type": "stream",
     "text": [
      "enter the first number 45\n"
     ]
    },
    {
     "name": "stdout",
     "output_type": "stream",
     "text": [
      "45.0\n"
     ]
    }
   ],
   "source": [
    "a=int(input(\"enter the first number\"))\n",
    "b=float(a)\n",
    "print(b)\n"
   ]
  },
  {
   "cell_type": "code",
   "execution_count": 15,
   "id": "192a2cc2-e2ce-4ce0-93ea-ffcc39be7897",
   "metadata": {},
   "outputs": [
    {
     "name": "stdout",
     "output_type": "stream",
     "text": [
      "0b11011010101111111111001000011\n"
     ]
    }
   ],
   "source": [
    "print(bin(458751555))"
   ]
  },
  {
   "cell_type": "code",
   "execution_count": 27,
   "id": "c99f713c-2596-46a5-a79e-5221f5f15b67",
   "metadata": {},
   "outputs": [
    {
     "name": "stdout",
     "output_type": "stream",
     "text": [
      "nice going\n"
     ]
    }
   ],
   "source": [
    "marks=98\n",
    "\n",
    "if marks>90:\n",
    "    print(\"nice going\")\n",
    "\n",
    "\n",
    "else :\n",
    "    print(\"huh\")\n"
   ]
  },
  {
   "cell_type": "code",
   "execution_count": 6,
   "id": "34154390-225e-40d7-aba3-e63ea82267fb",
   "metadata": {},
   "outputs": [
    {
     "name": "stdin",
     "output_type": "stream",
     "text": [
      "enter the number \n",
      " -87\n"
     ]
    },
    {
     "name": "stdout",
     "output_type": "stream",
     "text": [
      "the number is negative\n"
     ]
    }
   ],
   "source": [
    "a =int(input(\"enter the number \\n\"))\n",
    "if a>0 :\n",
    "    print(\"the number is positive\\n\")\n",
    "    if(a%2==0):\n",
    "        print(\"the number is even\\n\")\n",
    "    else:\n",
    "        print(\"the number is odd\\n\")\n",
    "else :\n",
    "    print(\"the number is negative\")\n",
    "\n",
    "\n",
    "       "
   ]
  },
  {
   "cell_type": "code",
   "execution_count": 23,
   "id": "b0a40b2d-34c0-4ed6-b875-9053992cbf9a",
   "metadata": {},
   "outputs": [
    {
     "name": "stdout",
     "output_type": "stream",
     "text": [
      "press 1 to calculate area of square\n",
      "\n",
      "press 2 to calculate area of rectangle\n",
      "\n",
      "press 3 to calculate area of triangle\n",
      "\n",
      "press 4 to calculate area of circle \n",
      "\n"
     ]
    },
    {
     "name": "stdin",
     "output_type": "stream",
     "text": [
      "enter the answer\n",
      " 4\n"
     ]
    },
    {
     "name": "stdout",
     "output_type": "stream",
     "text": [
      "circle area calculation\n",
      "\n"
     ]
    },
    {
     "name": "stdin",
     "output_type": "stream",
     "text": [
      "enter the radius \n",
      " 84\n"
     ]
    },
    {
     "name": "stdout",
     "output_type": "stream",
     "text": [
      "the area is 22155.84\n"
     ]
    }
   ],
   "source": [
    "print(\"press 1 to calculate area of square\\n\")\n",
    "print(\"press 2 to calculate area of rectangle\\n\")\n",
    "print(\"press 3 to calculate area of triangle\\n\")\n",
    "print(\"press 4 to calculate area of circle \\n\")\n",
    "\n",
    "calc=int(input(\"enter the answer\\n\"))\n",
    "if calc==1 :\n",
    "    print(\"square area calculation\\n\")\n",
    "    side =float(input(\"enter the side\\n\"))\n",
    "    area =side**2\n",
    "    print(\"the area is\",area)\n",
    "\n",
    "elif calc==2 :\n",
    "    print(\"rectangle area calculation\\n\")\n",
    "    length =float(input(\"enter the length\\n\"))\n",
    "    breadth =float(input(\"enter the breadth\\n\"))\n",
    "    area = length * breadth\n",
    "    print(\"the area is\",area)\n",
    "\n",
    "\n",
    "elif calc==3 :\n",
    "    print(\"traingle area calculation\\n\")\n",
    "    base =float(input(\"enter the base\\n\"))\n",
    "    height =float(input(\"enter the height\\n\"))\n",
    "    area = 1/2 * base *height\n",
    "    print(\"the area is\",area)\n",
    "\n",
    "elif calc==4:\n",
    "    print(\"circle area calculation\\n\")\n",
    "    radius=float(input(\"enter the radius \\n\"))\n",
    "    area=3.14*radius*radius\n",
    "    print(\"the area is\",area)\n"
   ]
  },
  {
   "cell_type": "code",
   "execution_count": 16,
   "id": "1d76624e-9b10-4197-a945-2b79219e5706",
   "metadata": {},
   "outputs": [
    {
     "name": "stdin",
     "output_type": "stream",
     "text": [
      "enter the letter\n",
      " o\n"
     ]
    },
    {
     "name": "stdout",
     "output_type": "stream",
     "text": [
      "it is a vowel\n",
      "\n"
     ]
    }
   ],
   "source": [
    "a=input(\"enter the letter\\n\")\n",
    "if a==\"a\":\n",
    "    print(\"it is a vowel\\n\")\n",
    "elif a==\"e\":\n",
    "    print(\"it is a vowel\\n\")\n",
    "elif a==\"i\":\n",
    "    print(\"it is a vowel\\n\")\n",
    "elif a==\"o\":\n",
    "    print(\"it is a vowel\\n\")\n",
    "elif a==\"u\":\n",
    "    print(\"it is a vowel\\n\")\n",
    "else :\n",
    "    print(\"it is a consonant\\n\")\n",
    "    \n",
    "    "
   ]
  },
  {
   "cell_type": "code",
   "execution_count": 10,
   "id": "d20a84a2-ac92-4da8-867f-ec25fdef49b1",
   "metadata": {},
   "outputs": [
    {
     "name": "stdin",
     "output_type": "stream",
     "text": [
      "enter the number\n",
      " 759\n"
     ]
    },
    {
     "name": "stdout",
     "output_type": "stream",
     "text": [
      "the number is a three digit \n",
      "\n"
     ]
    }
   ],
   "source": [
    "num = int(input(\"enter the number\\n\"))\n",
    "\n",
    "if num>=0 and num <=9: print(\"the number is a single digit \\n\")\n",
    "elif num>=10 and num <=99: print(\"the number is a double digit \\n\")\n",
    "elif num>=100 and num <=999: print(\"the number is a three digit \\n\")\n",
    "elif num>=1000 and num <=9999: print(\"the number is a four digit \\n\")\n",
    "elif num>=10000 and num <=99999: print(\"the number is a five digit \\n\")\n",
    "elif num>=100000 : print(\"i do not know \\n\")"
   ]
  },
  {
   "cell_type": "code",
   "execution_count": 32,
   "id": "94cf555b-aedb-4d15-b7dc-46da285bd3d0",
   "metadata": {},
   "outputs": [
    {
     "name": "stdin",
     "output_type": "stream",
     "text": [
      "enter  the range\n",
      " 40\n"
     ]
    },
    {
     "name": "stdout",
     "output_type": "stream",
     "text": [
      "0\n",
      "2\n",
      "4\n",
      "6\n",
      "8\n",
      "10\n",
      "12\n",
      "14\n",
      "16\n",
      "18\n",
      "20\n",
      "22\n",
      "24\n",
      "26\n",
      "28\n",
      "30\n",
      "32\n",
      "34\n",
      "36\n",
      "38\n"
     ]
    }
   ],
   "source": [
    "rangee=int(input(\"enter  the range\\n\"))\n",
    "for i in range(0,rangee):\n",
    "    if i%2==0:\n",
    "        print(i)\n"
   ]
  },
  {
   "cell_type": "code",
   "execution_count": 38,
   "id": "38fc8f35-a056-40be-9d5a-d8a7d9327539",
   "metadata": {},
   "outputs": [
    {
     "name": "stdout",
     "output_type": "stream",
     "text": [
      "0\n",
      "2\n",
      "4\n",
      "6\n",
      "8\n",
      "10\n"
     ]
    }
   ],
   "source": [
    "\n",
    "for i in range(0,12,2):\n",
    "    print(i)\n"
   ]
  },
  {
   "cell_type": "code",
   "execution_count": 50,
   "id": "ef404ce5-62b7-4fa0-8d0a-b7a467eb8743",
   "metadata": {},
   "outputs": [
    {
     "name": "stdin",
     "output_type": "stream",
     "text": [
      "enter the number of which you want the table odf\n",
      " 4\n"
     ]
    },
    {
     "name": "stdout",
     "output_type": "stream",
     "text": [
      "4 x 1 = 4\n",
      "4 x 2 = 8\n",
      "4 x 3 = 12\n",
      "4 x 4 = 16\n",
      "4 x 5 = 20\n",
      "4 x 6 = 24\n",
      "4 x 7 = 28\n",
      "4 x 8 = 32\n",
      "4 x 9 = 36\n",
      "4 x 10 = 40\n"
     ]
    }
   ],
   "source": [
    "num=int(input(\"enter the number of which you want the table odf\\n\"))\n",
    "for i in range(1,11):\n",
    "    mul=num*i\n",
    "    print(num ,\"x\",i,\"=\",num*i)"
   ]
  },
  {
   "cell_type": "code",
   "execution_count": 2,
   "id": "a103bf53-bb03-4842-a598-aaf28890d7b8",
   "metadata": {},
   "outputs": [
    {
     "name": "stdout",
     "output_type": "stream",
     "text": [
      "2\n",
      "4\n",
      "6\n",
      "8\n",
      "10\n"
     ]
    }
   ],
   "source": [
    "num=0\n",
    "\n",
    "while num<10:\n",
    "    num=num+2\n",
    "    print(num)"
   ]
  },
  {
   "cell_type": "code",
   "execution_count": 8,
   "id": "707ef9eb-3d28-42b2-920c-e2a2c4874380",
   "metadata": {},
   "outputs": [
    {
     "name": "stdout",
     "output_type": "stream",
     "text": [
      "1\n",
      "12\n",
      "123\n",
      "1234\n",
      "12345\n"
     ]
    }
   ],
   "source": [
    "for i in range(1,6):\n",
    "    for j in range(1,i+1):\n",
    "        print(j,end=\"\")\n",
    "    print()\n"
   ]
  },
  {
   "cell_type": "code",
   "execution_count": 41,
   "id": "9b7203df-ccdb-4fe1-8de1-56dbc6094d2d",
   "metadata": {},
   "outputs": [
    {
     "name": "stdin",
     "output_type": "stream",
     "text": [
      "enter the range 100\n"
     ]
    },
    {
     "name": "stdout",
     "output_type": "stream",
     "text": [
      "the number divisible by 2 and 5 is \n",
      " 10\n",
      "the number divisible by 2 and 5 is \n",
      " 20\n",
      "the number divisible by 2 and 5 is \n",
      " 30\n",
      "the number divisible by 2 and 5 is \n",
      " 40\n",
      "the number divisible by 2 and 5 is \n",
      " 50\n",
      "the number divisible by 2 and 5 is \n",
      " 60\n",
      "the number divisible by 2 and 5 is \n",
      " 70\n",
      "the number divisible by 2 and 5 is \n",
      " 80\n",
      "the number divisible by 2 and 5 is \n",
      " 90\n",
      "the number divisible by 2 and 5 is \n",
      " 100\n"
     ]
    }
   ],
   "source": [
    "n=int(input(\"enter the range\"))\n",
    "for i in range(1,n+1):\n",
    "    if i%2==0 and i%5==0:\n",
    "        print(\"the number divisible by 2 and 5 is \\n\",i)"
   ]
  },
  {
   "cell_type": "code",
   "execution_count": 12,
   "id": "54368b7e-a143-4549-bd73-c232430ffa2f",
   "metadata": {},
   "outputs": [
    {
     "name": "stdout",
     "output_type": "stream",
     "text": [
      "1\n",
      "2\n",
      "3\n",
      "4\n",
      "6\n",
      "7\n",
      "8\n",
      "9\n",
      "10\n"
     ]
    }
   ],
   "source": [
    "for i in range(1,11): \n",
    "    if i==5:\n",
    "        continue\n",
    "    else:\n",
    "        print(i)\n"
   ]
  },
  {
   "cell_type": "code",
   "execution_count": 16,
   "id": "aa8835e4-e5f0-475f-a6a2-aa105afc4424",
   "metadata": {},
   "outputs": [
    {
     "name": "stdout",
     "output_type": "stream",
     "text": [
      "1\n",
      "2\n",
      "3\n",
      "4\n"
     ]
    }
   ],
   "source": [
    "for i in range(1,11): \n",
    "    if i==5:\n",
    "        break\n",
    "\n",
    "    \n",
    "    else:\n",
    "        print(i)\n"
   ]
  },
  {
   "cell_type": "code",
   "execution_count": 29,
   "id": "ce74c125-3658-4b91-89d4-ff3711510963",
   "metadata": {},
   "outputs": [
    {
     "name": "stdout",
     "output_type": "stream",
     "text": [
      "650\n"
     ]
    }
   ],
   "source": [
    "sum=0\n",
    "\n",
    "for i in range(1,51):\n",
    "    if i %2==0:\n",
    "        sum=sum+i\n",
    "\n",
    "print(sum)"
   ]
  },
  {
   "cell_type": "code",
   "execution_count": 35,
   "id": "269d9c10-a733-4b16-a6a8-322f28e3e644",
   "metadata": {},
   "outputs": [
    {
     "name": "stdout",
     "output_type": "stream",
     "text": [
      "the first 20 numbers are\n",
      "\n",
      "0 the square is  0\n",
      "1 the square is  1\n",
      "2 the square is  4\n",
      "3 the square is  9\n",
      "4 the square is  16\n",
      "5 the square is  25\n",
      "6 the square is  36\n",
      "7 the square is  49\n",
      "8 the square is  64\n",
      "9 the square is  81\n",
      "10 the square is  100\n",
      "11 the square is  121\n",
      "12 the square is  144\n",
      "13 the square is  169\n",
      "14 the square is  196\n",
      "15 the square is  225\n",
      "16 the square is  256\n",
      "17 the square is  289\n",
      "18 the square is  324\n",
      "19 the square is  361\n",
      "20 the square is  400\n"
     ]
    }
   ],
   "source": [
    "print(\"the first 20 numbers are\\n\")\n",
    "for i in range(0,21):\n",
    "    print(i,\"the square is \",i**2)"
   ]
  },
  {
   "cell_type": "code",
   "execution_count": 47,
   "id": "466b4537-5343-476e-b4c1-ff9ec9de6a48",
   "metadata": {},
   "outputs": [
    {
     "name": "stdout",
     "output_type": "stream",
     "text": [
      "1\n",
      "3\n",
      "5\n",
      "7\n",
      "9\n",
      "25\n"
     ]
    }
   ],
   "source": [
    "n=1\n",
    "sum=0\n",
    "while n<=10:\n",
    "    print(n)\n",
    "    sum=sum+n\n",
    "    n+=2\n",
    "\n",
    "print(sum)"
   ]
  },
  {
   "cell_type": "code",
   "execution_count": 45,
   "id": "f03e0ced-785c-4d2d-970e-563dcdf0f03e",
   "metadata": {},
   "outputs": [
    {
     "name": "stdin",
     "output_type": "stream",
     "text": [
      "enter the range 100\n"
     ]
    },
    {
     "name": "stdout",
     "output_type": "stream",
     "text": [
      "the number divisible by 8 and 12 is \n",
      " 24\n",
      "the number divisible by 8 and 12 is \n",
      " 48\n",
      "the number divisible by 8 and 12 is \n",
      " 72\n",
      "the number divisible by 8 and 12 is \n",
      " 96\n"
     ]
    }
   ],
   "source": [
    "n=int(input(\"enter the range\"))\n",
    "for i in range(1,n+1):\n",
    "    if i%8==0 and i%12==0:\n",
    "        print(\"the number divisible by 8 and 12 is \\n\",i)\n",
    "        "
   ]
  },
  {
   "cell_type": "code",
   "execution_count": 60,
   "id": "fc52a563-673c-4d04-9dfc-cfa8dc908165",
   "metadata": {},
   "outputs": [
    {
     "name": "stdin",
     "output_type": "stream",
     "text": [
      "do you want add new customer yes/no\n",
      " yes\n",
      "do you want add new customer yes/no\n",
      " yes\n",
      "enter the customer name\n",
      " gdsgsx\n",
      "enter the contact number\n",
      " 654654\n",
      "enter the total number of items\n",
      " 1\n",
      "enter the name of the item\n",
      " ssdfs\n",
      "enter the number of item 1\n",
      "enter the price of item  34354\n"
     ]
    },
    {
     "name": "stdout",
     "output_type": "stream",
     "text": [
      "-------------------------------------------\n",
      "\n",
      "the total bill to be paid by  gdsgsx  is  34354\n",
      "-------------------------------------------\n",
      "\n"
     ]
    },
    {
     "ename": "KeyboardInterrupt",
     "evalue": "Interrupted by user",
     "output_type": "error",
     "traceback": [
      "\u001b[1;31m---------------------------------------------------------------------------\u001b[0m",
      "\u001b[1;31mKeyboardInterrupt\u001b[0m                         Traceback (most recent call last)",
      "Cell \u001b[1;32mIn[60], line 3\u001b[0m\n\u001b[0;32m      1\u001b[0m add_cust\u001b[38;5;241m=\u001b[39m\u001b[38;5;28minput\u001b[39m(\u001b[38;5;124m\"\u001b[39m\u001b[38;5;124mdo you want add new customer yes/no\u001b[39m\u001b[38;5;130;01m\\n\u001b[39;00m\u001b[38;5;124m\"\u001b[39m)\n\u001b[0;32m      2\u001b[0m \u001b[38;5;28;01mwhile\u001b[39;00m add_cust\u001b[38;5;241m==\u001b[39m\u001b[38;5;124m\"\u001b[39m\u001b[38;5;124myes\u001b[39m\u001b[38;5;124m\"\u001b[39m:\n\u001b[1;32m----> 3\u001b[0m     add_cust\u001b[38;5;241m=\u001b[39m\u001b[38;5;28minput\u001b[39m(\u001b[38;5;124m\"\u001b[39m\u001b[38;5;124mdo you want add new customer yes/no\u001b[39m\u001b[38;5;130;01m\\n\u001b[39;00m\u001b[38;5;124m\"\u001b[39m)\n\u001b[0;32m      4\u001b[0m     \u001b[38;5;28;01mif\u001b[39;00m add_cust\u001b[38;5;241m==\u001b[39m\u001b[38;5;124m\"\u001b[39m\u001b[38;5;124mno\u001b[39m\u001b[38;5;124m\"\u001b[39m:\n\u001b[0;32m      5\u001b[0m         \u001b[38;5;28;01mbreak\u001b[39;00m\n",
      "File \u001b[1;32m~\\anaconda3\\Lib\\site-packages\\ipykernel\\kernelbase.py:1262\u001b[0m, in \u001b[0;36mKernel.raw_input\u001b[1;34m(self, prompt)\u001b[0m\n\u001b[0;32m   1260\u001b[0m     msg \u001b[38;5;241m=\u001b[39m \u001b[38;5;124m\"\u001b[39m\u001b[38;5;124mraw_input was called, but this frontend does not support input requests.\u001b[39m\u001b[38;5;124m\"\u001b[39m\n\u001b[0;32m   1261\u001b[0m     \u001b[38;5;28;01mraise\u001b[39;00m StdinNotImplementedError(msg)\n\u001b[1;32m-> 1262\u001b[0m \u001b[38;5;28;01mreturn\u001b[39;00m \u001b[38;5;28mself\u001b[39m\u001b[38;5;241m.\u001b[39m_input_request(\n\u001b[0;32m   1263\u001b[0m     \u001b[38;5;28mstr\u001b[39m(prompt),\n\u001b[0;32m   1264\u001b[0m     \u001b[38;5;28mself\u001b[39m\u001b[38;5;241m.\u001b[39m_parent_ident[\u001b[38;5;124m\"\u001b[39m\u001b[38;5;124mshell\u001b[39m\u001b[38;5;124m\"\u001b[39m],\n\u001b[0;32m   1265\u001b[0m     \u001b[38;5;28mself\u001b[39m\u001b[38;5;241m.\u001b[39mget_parent(\u001b[38;5;124m\"\u001b[39m\u001b[38;5;124mshell\u001b[39m\u001b[38;5;124m\"\u001b[39m),\n\u001b[0;32m   1266\u001b[0m     password\u001b[38;5;241m=\u001b[39m\u001b[38;5;28;01mFalse\u001b[39;00m,\n\u001b[0;32m   1267\u001b[0m )\n",
      "File \u001b[1;32m~\\anaconda3\\Lib\\site-packages\\ipykernel\\kernelbase.py:1305\u001b[0m, in \u001b[0;36mKernel._input_request\u001b[1;34m(self, prompt, ident, parent, password)\u001b[0m\n\u001b[0;32m   1302\u001b[0m \u001b[38;5;28;01mexcept\u001b[39;00m \u001b[38;5;167;01mKeyboardInterrupt\u001b[39;00m:\n\u001b[0;32m   1303\u001b[0m     \u001b[38;5;66;03m# re-raise KeyboardInterrupt, to truncate traceback\u001b[39;00m\n\u001b[0;32m   1304\u001b[0m     msg \u001b[38;5;241m=\u001b[39m \u001b[38;5;124m\"\u001b[39m\u001b[38;5;124mInterrupted by user\u001b[39m\u001b[38;5;124m\"\u001b[39m\n\u001b[1;32m-> 1305\u001b[0m     \u001b[38;5;28;01mraise\u001b[39;00m \u001b[38;5;167;01mKeyboardInterrupt\u001b[39;00m(msg) \u001b[38;5;28;01mfrom\u001b[39;00m \u001b[38;5;28;01mNone\u001b[39;00m\n\u001b[0;32m   1306\u001b[0m \u001b[38;5;28;01mexcept\u001b[39;00m \u001b[38;5;167;01mException\u001b[39;00m:\n\u001b[0;32m   1307\u001b[0m     \u001b[38;5;28mself\u001b[39m\u001b[38;5;241m.\u001b[39mlog\u001b[38;5;241m.\u001b[39mwarning(\u001b[38;5;124m\"\u001b[39m\u001b[38;5;124mInvalid Message:\u001b[39m\u001b[38;5;124m\"\u001b[39m, exc_info\u001b[38;5;241m=\u001b[39m\u001b[38;5;28;01mTrue\u001b[39;00m)\n",
      "\u001b[1;31mKeyboardInterrupt\u001b[0m: Interrupted by user"
     ]
    }
   ],
   "source": [
    "add_cust=input(\"do you want add new customer yes/no\\n\")\n",
    "while add_cust==\"yes\":\n",
    "    add_cust=input(\"do you want add new customer yes/no\\n\")\n",
    "    if add_cust==\"no\":\n",
    "        break\n",
    "    \n",
    "    customer_name=input(\"enter the customer name\\n\")\n",
    "    customer_number=int(input(\"enter the contact number\\n\"))\n",
    "    total_items=int(input(\"enter the total number of items\\n\"))\n",
    "    sum=0\n",
    "    i=1\n",
    "    while total_items>=i:\n",
    "        name=input(\"enter the name of the item\\n\")\n",
    "        item=int(input(\"enter the number of item\"))\n",
    "        price=int(input(\"enter the price of item \"))\n",
    "        sum =sum+price\n",
    "        i+=1\n",
    "    print(\"-------------------------------------------\\n\")\n",
    "    \n",
    "    print(\"the total bill to be paid by \",customer_name,\" is \",sum)\n",
    "    \n",
    "    print(\"-------------------------------------------\\n\")\n",
    "\n",
    "    print(\"***********happy shopping**********\")"
   ]
  },
  {
   "cell_type": "code",
   "execution_count": 62,
   "id": "0b956320-c79e-4e42-831b-90462db6d1b6",
   "metadata": {},
   "outputs": [
    {
     "name": "stdin",
     "output_type": "stream",
     "text": [
      "enter the string\n",
      " sdndjsn\n"
     ]
    },
    {
     "name": "stdout",
     "output_type": "stream",
     "text": [
      "7\n"
     ]
    }
   ],
   "source": [
    "name=input(\"enter the string\\n\")\n",
    "dope=len(name)\n",
    "print(dope)"
   ]
  },
  {
   "cell_type": "code",
   "execution_count": 80,
   "id": "f1cadf92-3df8-4102-9634-132f977751f2",
   "metadata": {},
   "outputs": [
    {
     "name": "stdin",
     "output_type": "stream",
     "text": [
      "enter the string\n",
      " rnfksjzndljdnsljnsdoooo\n"
     ]
    },
    {
     "name": "stdout",
     "output_type": "stream",
     "text": [
      "4\n",
      "rnfksjzndljdnsljnsdoooo\n",
      "RNFKSJZNDLJDNSLJNSDOOOO\n",
      "Rnfksjzndljdnsljnsdoooo\n",
      "-1\n"
     ]
    }
   ],
   "source": [
    "name=input(\"enter the string\\n\")\n",
    "dope=len(name)\n",
    "print(name.count(\"o\"))\n",
    "a=name.lower()\n",
    "print(a)\n",
    "b=name.upper()\n",
    "print(b)\n",
    "c=name.title()\n",
    "print(c)\n",
    "d=name.find(\"j\")\n",
    "print(d)"
   ]
  },
  {
   "cell_type": "code",
   "execution_count": 2,
   "id": "76a696d5-937f-4fe3-a885-9c70b2a287c5",
   "metadata": {},
   "outputs": [
    {
     "name": "stdout",
     "output_type": "stream",
     "text": [
      "1\n",
      "2\n",
      "3\n",
      "4\n",
      "5\n"
     ]
    }
   ],
   "source": [
    "for i in range(1,6):\n",
    "    print(i)\n",
    "\n"
   ]
  },
  {
   "cell_type": "code",
   "execution_count": 8,
   "id": "aebb1d2f-413a-4b0a-a5a8-68687a0b966e",
   "metadata": {},
   "outputs": [],
   "source": [
    "for i in range(5,1):\n",
    "    for j in range(1,i+1):\n",
    "        print(j,end=\"\")\n",
    "    print()\n"
   ]
  },
  {
   "cell_type": "code",
   "execution_count": null,
   "id": "6d6b7e1a-875b-490d-bdea-6604dfefc050",
   "metadata": {},
   "outputs": [],
   "source": []
  },
  {
   "cell_type": "code",
   "execution_count": null,
   "id": "0bae262f-44e1-4a00-bee5-a4ae60f03e09",
   "metadata": {},
   "outputs": [],
   "source": []
  }
 ],
 "metadata": {
  "kernelspec": {
   "display_name": "Python 3 (ipykernel)",
   "language": "python",
   "name": "python3"
  },
  "language_info": {
   "codemirror_mode": {
    "name": "ipython",
    "version": 3
   },
   "file_extension": ".py",
   "mimetype": "text/x-python",
   "name": "python",
   "nbconvert_exporter": "python",
   "pygments_lexer": "ipython3",
   "version": "3.11.7"
  }
 },
 "nbformat": 4,
 "nbformat_minor": 5
}
