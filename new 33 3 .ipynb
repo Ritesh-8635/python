{
 "cells": [
  {
   "cell_type": "code",
   "execution_count": 8,
   "id": "090524cb-f9f4-4cfa-be22-5a39a029d502",
   "metadata": {},
   "outputs": [
    {
     "name": "stdout",
     "output_type": "stream",
     "text": [
      "2024-09-09 20:48:26.864486\n",
      "2014-10-04 00:00:00\n",
      "14\n"
     ]
    }
   ],
   "source": [
    "import datetime\n",
    "x=datetime.datetime.now()\n",
    "print(x)\n",
    "\n",
    "y=datetime.datetime(2014,10,4)\n",
    "print(y)\n",
    "print(y.strftime(\"%y\"))"
   ]
  },
  {
   "cell_type": "code",
   "execution_count": 17,
   "id": "3dae89e0-6df6-4fc1-9c32-7cc0ad4a7257",
   "metadata": {},
   "outputs": [
    {
     "name": "stdout",
     "output_type": "stream",
     "text": [
      "head\n",
      "42\n"
     ]
    }
   ],
   "source": [
    "import random\n",
    "y=[\"head\",\"tail\"]\n",
    "z=random.choice(y)\n",
    "print(z)\n",
    "x=random.randint(2,54)\n",
    "print(x)"
   ]
  },
  {
   "cell_type": "code",
   "execution_count": 19,
   "id": "9f08f5e3-873f-4525-bd67-30a1fe54447c",
   "metadata": {},
   "outputs": [
    {
     "name": "stdout",
     "output_type": "stream",
     "text": [
      "834\n"
     ]
    }
   ],
   "source": [
    "import math as mt\n",
    "x=max(54,64,48,448,4,684,684,8,468,483,0,21,5,1,834,684,86)\n",
    "print(x)"
   ]
  },
  {
   "cell_type": "code",
   "execution_count": null,
   "id": "eae7607d-99ea-49ee-acd3-a8be9611ae9f",
   "metadata": {},
   "outputs": [],
   "source": []
  }
 ],
 "metadata": {
  "kernelspec": {
   "display_name": "Python 3 (ipykernel)",
   "language": "python",
   "name": "python3"
  },
  "language_info": {
   "codemirror_mode": {
    "name": "ipython",
    "version": 3
   },
   "file_extension": ".py",
   "mimetype": "text/x-python",
   "name": "python",
   "nbconvert_exporter": "python",
   "pygments_lexer": "ipython3",
   "version": "3.11.7"
  }
 },
 "nbformat": 4,
 "nbformat_minor": 5
}
