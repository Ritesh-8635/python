{
 "cells": [
  {
   "cell_type": "code",
   "execution_count": 40,
   "id": "81eb9f8a-aace-4158-9888-78ce0d24239d",
   "metadata": {},
   "outputs": [
    {
     "name": "stdout",
     "output_type": "stream",
     "text": [
      "1   2   3   4   5   6   7   8   9   10   \n",
      "2   4   6   8   10   12   14   16   18   20   \n",
      "3   6   9   12   15   18   21   24   27   30   \n",
      "4   8   12   16   20   24   28   32   36   40   \n",
      "5   10   15   20   25   30   35   40   45   50   \n",
      "6   12   18   24   30   36   42   48   54   60   \n",
      "7   14   21   28   35   42   49   56   63   70   \n",
      "8   16   24   32   40   48   56   64   72   80   \n",
      "9   18   27   36   45   54   63   72   81   90   \n",
      "10   20   30   40   50   60   70   80   90   100   \n"
     ]
    }
   ],
   "source": [
    "for i in range(1,11):\n",
    "    for j in range(1,11):\n",
    "        print(i*j,end=\"   \")\n",
    "    print()\n"
   ]
  },
  {
   "cell_type": "code",
   "execution_count": 62,
   "id": "92710d66-323b-4508-8643-6c4b3f53980c",
   "metadata": {},
   "outputs": [
    {
     "name": "stdout",
     "output_type": "stream",
     "text": [
      "harish kumar is live\n",
      "20\n",
      "2\n",
      "harish kumar is live\n",
      "HARISH KUMAR IS LIVE\n",
      "Harish kumar is live\n",
      "1\n",
      "**********harish kumar is live**********\n",
      "harish kumar is live\n",
      "2\n"
     ]
    }
   ],
   "source": [
    "a=\"harish kumar is live\"\n",
    "print(a)\n",
    "print(len(a))\n",
    "print(a.count(\"h\"))\n",
    "print(a.lower())\n",
    "print(a.upper())\n",
    "print(a.capitalize())\n",
    "print(a.index(\"a\"))\n",
    "print(a.center(40,\"*\"))\n",
    "print(a.casefold())\n",
    "print(a.find(\"r\"))"
   ]
  },
  {
   "cell_type": "code",
   "execution_count": 73,
   "id": "9125038a-3ad2-4447-9e3d-f23b10692195",
   "metadata": {},
   "outputs": [
    {
     "name": "stdout",
     "output_type": "stream",
     "text": [
      "my name is alphsa. and my number isfnksfj\n"
     ]
    }
   ],
   "source": [
    "a=\"alphsa\"\n",
    "num=\"fnksfj\"\n",
    "b=\"my name is {}. and my number is{}\"\n",
    "print(b.format(a,num))"
   ]
  },
  {
   "cell_type": "code",
   "execution_count": 32,
   "id": "8c721389-a638-4cea-90bb-b6325b7c2db9",
   "metadata": {},
   "outputs": [
    {
     "name": "stdout",
     "output_type": "stream",
     "text": [
      "      True\n",
      "3kj24nj3jl2n3jlnlj3 True\n",
      "3kj24nj3jl2n3jlnlj3 False\n",
      "351351 True\n",
      "351351 True\n",
      "3kj24nj3jl2n3jlnlj3 True\n",
      "HWLLO True\n",
      "1.26566 False\n"
     ]
    }
   ],
   "source": [
    "a=\"3kj24nj3jl2n3jlnlj3\"\n",
    "b='anfjkansf'\n",
    "c=\"351351\"\n",
    "d=\"1.26566\"\n",
    "e=\"HWLLO\"\n",
    "f=\"     \"\n",
    "print(f,f.isspace())\n",
    "print(a,a.isalnum())\n",
    "print(a,a.isalpha())\n",
    "print(c,c.isdigit())\n",
    "print(c,c.isnumeric())\n",
    "print(a,a.islower())\n",
    "print(e,e.isupper())\n",
    "print(d,d.istitle())"
   ]
  },
  {
   "cell_type": "code",
   "execution_count": 80,
   "id": "663334f7-de33-4d9e-b7d9-5d2f577acad3",
   "metadata": {},
   "outputs": [
    {
     "name": "stdout",
     "output_type": "stream",
     "text": [
      "['', 'nfjk', 'nsf']\n",
      "anfjkansf True\n",
      "anfjkansf False\n",
      "anfjkansf nfjkansf\n",
      "anfjkansf anfjkansf*******************************************************************************************\n",
      "                                                   \n",
      "\n",
      "\n",
      "\n",
      "\n",
      "\n",
      "\n",
      "\n",
      "anfjkansf *******************************************************************************************anfjkansf\n",
      "7\n",
      "7\n"
     ]
    }
   ],
   "source": [
    "a=\"ghishf alpha\"\n",
    "b='anfjkansf'\n",
    "c=\"351351\"\n",
    "d=\"1.26566\"\n",
    "e=\"HWLLO\"\n",
    "\n",
    "print(b.split(\"a\"))\n",
    "print(b,b.startswith(\"a\"))\n",
    "print(b,b.endswith(\"a\"))\n",
    "print(b,b.strip(\"a\"))\n",
    "print(b,b.ljust(100,\"*\"))\n",
    "print(\"                                                   \")\n",
    "print(\"\\n\\n\\n\\n\\n\\n\")\n",
    "print(b,b.rjust(100,\"*\"))\n",
    "print(a.rfind(\"alpha\"))\n",
    "print(a.rindex(\"alpha\"))"
   ]
  },
  {
   "cell_type": "markdown",
   "id": "f9b8847b-db90-42b7-9161-f76db1c9c757",
   "metadata": {},
   "source": [
    "slicing"
   ]
  },
  {
   "cell_type": "code",
   "execution_count": 78,
   "id": "f5397e39-8ee6-4b4b-b38f-8ecc7f049e10",
   "metadata": {},
   "outputs": [
    {
     "name": "stdout",
     "output_type": "stream",
     "text": [
      "harish \n"
     ]
    }
   ],
   "source": [
    "a=\"harish kumar is real\"\n",
    "print(a[0:7])"
   ]
  },
  {
   "cell_type": "code",
   "execution_count": 86,
   "id": "7c22b6ff-ee9f-43c6-bdef-a8b1d4ba2a21",
   "metadata": {},
   "outputs": [
    {
     "name": "stdout",
     "output_type": "stream",
     "text": [
      "544554\n"
     ]
    }
   ],
   "source": [
    "v=\"53434354534\"\n",
    "print(v[::2])"
   ]
  },
  {
   "cell_type": "code",
   "execution_count": 24,
   "id": "240aae6e-1a30-41be-9d16-a1fb8a26c81a",
   "metadata": {},
   "outputs": [
    {
     "name": "stdin",
     "output_type": "stream",
     "text": [
      "enter the number  4\n"
     ]
    },
    {
     "name": "stdout",
     "output_type": "stream",
     "text": [
      "it is not prime\n"
     ]
    }
   ],
   "source": [
    "num=int(input(\"enter the number \"))\n",
    "for i in range(2,num):\n",
    "    if num%i==0:\n",
    "        print(\"it is not prime\")\n",
    "        break\n",
    "    else :\n",
    "        print(\"it is prime\")"
   ]
  },
  {
   "cell_type": "code",
   "execution_count": 8,
   "id": "44cc4bbc-06b0-4b16-be2a-ee878351ebd1",
   "metadata": {},
   "outputs": [
    {
     "name": "stdin",
     "output_type": "stream",
     "text": [
      "enter  dfnsljnlndsndipspsppss[\n"
     ]
    },
    {
     "name": "stdout",
     "output_type": "stream",
     "text": [
      "['[', 'd', 'd', 'd', 'f', 'i', 'j', 'l', 'l', 'n', 'n', 'n', 'n', 'p', 'p', 'p', 'p', 's', 's', 's', 's', 's', 's']\n",
      "dfnljnlndndipppp[\n",
      "6\n"
     ]
    }
   ],
   "source": [
    "a=input(\"enter \")\n",
    "b=sorted(a)\n",
    "print(b)\n",
    "e=a.replace(\"s\",\"\")\n",
    "print(e)\n",
    "f=a.count(\"s\")\n",
    "print(f)"
   ]
  },
  {
   "cell_type": "code",
   "execution_count": 10,
   "id": "dd9a5e60-6a5f-435e-8403-d3d3fffc3ae6",
   "metadata": {},
   "outputs": [
    {
     "name": "stdin",
     "output_type": "stream",
     "text": [
      "enter  kndkjsngljdnldngjlnsjlgnsg\n"
     ]
    },
    {
     "name": "stdout",
     "output_type": "stream",
     "text": [
      "gsngljsnljgndlndjlgnsjkdnk\n"
     ]
    }
   ],
   "source": [
    "a=input(\"enter \")\n",
    "print(a[::-1])"
   ]
  },
  {
   "cell_type": "code",
   "execution_count": 24,
   "id": "616bf497-3195-4a75-9e0e-3e1e60dab5f9",
   "metadata": {},
   "outputs": [
    {
     "name": "stdin",
     "output_type": "stream",
     "text": [
      "enter  gdsd4\n"
     ]
    },
    {
     "name": "stdout",
     "output_type": "stream",
     "text": [
      "not\n"
     ]
    }
   ],
   "source": [
    "a=input(\"enter \")\n",
    "b=a.isdigit()\n",
    "if b==True:\n",
    "    print(\"it is digit\")\n",
    "\n",
    "else:\n",
    "    print(\"not\")"
   ]
  },
  {
   "cell_type": "code",
   "execution_count": 54,
   "id": "19efa6d0-9e4e-45f9-b425-fab09449e429",
   "metadata": {},
   "outputs": [
    {
     "name": "stdin",
     "output_type": "stream",
     "text": [
      "enter FZKJBDKJXBSASAJINI\n"
     ]
    },
    {
     "name": "stdout",
     "output_type": "stream",
     "text": [
      "4\n"
     ]
    }
   ],
   "source": [
    "a=input(\"enter\")\n",
    "count=0\n",
    "for i in a:\n",
    "    if i==\"a\" or i==\"e\" or i==\"i\" or i==\"o\" or i==\"u\" or i==\"A\" or i==\"E\" or i==\"I\" or i==\"O\" or i==\"U\":\n",
    "        count=count+1\n",
    "\n",
    "print(count)\n"
   ]
  },
  {
   "cell_type": "code",
   "execution_count": 40,
   "id": "ce2f1f98-0ae5-48c4-b9ce-33fb25bce7da",
   "metadata": {},
   "outputs": [
    {
     "name": "stdin",
     "output_type": "stream",
     "text": [
      "enter  slnafslf\n"
     ]
    },
    {
     "name": "stdout",
     "output_type": "stream",
     "text": [
      "not\n"
     ]
    }
   ],
   "source": [
    "a=input(\"enter \")\n",
    "b=a[::-1]\n",
    "if a==b:\n",
    "    print(\"pallin\")\n",
    "\n",
    "else:\n",
    "    print(\"not\")"
   ]
  },
  {
   "cell_type": "code",
   "execution_count": 143,
   "id": "e3a74e48-3409-4b42-9d15-6608565b3851",
   "metadata": {},
   "outputs": [
    {
     "name": "stdout",
     "output_type": "stream",
     "text": [
      "her\n",
      "None\n",
      "['her', 'alpha', 'alop', 'lap', 'hulkss']\n",
      "None\n",
      "['her', 'alpha', 'alop', 'lap', 'hulkss', 'hulkss']\n",
      "alop\n",
      "['her', 'alpha', 'lap', 'hulkss', 'hulkss']\n",
      "['her', 'alpha', 'lap', 'hulkss', 'hulkss']\n",
      "3\n",
      "None\n",
      "['her', 'alpha', 'lap', 'hulkss', 'hulkss', 'knsfknfka', 'sakfnkfn']\n",
      "None\n",
      "['sakfnkfn', 'knsfknfka', 'hulkss', 'hulkss', 'lap', 'alpha', 'her']\n",
      "None\n",
      "['alpha', 'her', 'hulkss', 'hulkss', 'knsfknfka', 'lap', 'sakfnkfn']\n",
      "<class 'list'>\n"
     ]
    }
   ],
   "source": [
    "a=[\"her\",\"alpha\",\"alop\",\"lap\"]\n",
    "print(a[-4])\n",
    "print(a.append(\"hulkss\"))\n",
    "print(a)\n",
    "print(a.insert(4,\"hulkss\"))\n",
    "print(a)\n",
    "print(a.pop(2))\n",
    "print(a)\n",
    "b=a.copy()\n",
    "print(b)\n",
    "\n",
    "\n",
    "\n",
    "print(a.index(\"hulkss\"))\n",
    "\n",
    "\n",
    "b=[\"knsfknfka\",\"sakfnkfn\"]\n",
    "print(a.extend(b))\n",
    "print(a)\n",
    "\n",
    "\n",
    "print(a.reverse())\n",
    "print(a)\n",
    "\n",
    "print(a.sort())\n",
    "print(a)\n",
    "print(type(a))"
   ]
  },
  {
   "cell_type": "code",
   "execution_count": 32,
   "id": "e4f28a60-cce2-4586-8e90-3024aa0935aa",
   "metadata": {},
   "outputs": [
    {
     "name": "stdout",
     "output_type": "stream",
     "text": [
      "['rachel', 'ross', 'monica', 'joe']\n"
     ]
    }
   ],
   "source": [
    "a=[\"ross\",\"rachel\",\"monica\",\"joe\"]\n",
    "a[0],a[1]=a[1],a[0]\n",
    "print(a)"
   ]
  },
  {
   "cell_type": "code",
   "execution_count": 34,
   "id": "ac62d568-6a7a-4485-b89d-da3874c2b2a7",
   "metadata": {},
   "outputs": [
    {
     "name": "stdin",
     "output_type": "stream",
     "text": [
      "enter the elemnt hukkk\n"
     ]
    },
    {
     "name": "stdout",
     "output_type": "stream",
     "text": [
      "['ross', 'rachel', 'hukkk', 'monica', 'joe']\n"
     ]
    }
   ],
   "source": [
    "a=[\"ross\",\"rachel\",\"monica\",\"joe\"]\n",
    "b=input(\"enter the elemnt\")\n",
    "c=a.insert(2,b)\n",
    "print(a)"
   ]
  },
  {
   "cell_type": "code",
   "execution_count": 36,
   "id": "c3fb218f-6cca-4389-b844-0b92f6bd999d",
   "metadata": {},
   "outputs": [
    {
     "name": "stdout",
     "output_type": "stream",
     "text": [
      "['ross', 'rachel', 'joe']\n"
     ]
    }
   ],
   "source": [
    "a=[\"ross\",\"rachel\",\"monica\",\"joe\"]\n",
    "c=a.pop(2)\n",
    "print(a)"
   ]
  },
  {
   "cell_type": "code",
   "execution_count": 64,
   "id": "db933981-c3cd-440b-9815-1143624ee182",
   "metadata": {},
   "outputs": [
    {
     "name": "stdout",
     "output_type": "stream",
     "text": [
      "148960\n",
      "None\n",
      "[4, 5, 7, 7, 8, 19]\n",
      "19\n",
      "4\n"
     ]
    }
   ],
   "source": [
    "a=[19,4,8,7,5,7]\n",
    "sum=1\n",
    "for i in a:\n",
    "    sum=i*sum\n",
    "\n",
    "print(sum)\n",
    "\n",
    "print(a.sort())\n",
    "print(a)\n",
    "print(a[-1])\n",
    "print(a[0])"
   ]
  },
  {
   "cell_type": "code",
   "execution_count": 2,
   "id": "62b9524e-5b37-4cad-b35b-294ce6de5fc4",
   "metadata": {},
   "outputs": [
    {
     "name": "stdout",
     "output_type": "stream",
     "text": [
      "<class 'tuple'>\n"
     ]
    }
   ],
   "source": [
    "o=(\"tutttu\",\"asjf\",\"lnfsaionfksn\")\n",
    "print(type(o))"
   ]
  },
  {
   "cell_type": "code",
   "execution_count": 18,
   "id": "bdb53aef-18d4-4ec0-9b1f-ed26b42b5f9b",
   "metadata": {},
   "outputs": [
    {
     "name": "stdout",
     "output_type": "stream",
     "text": [
      "<class 'dict'>\n",
      "<class 'str'>\n",
      "{\"name\": \"david\", \"age\": 13, \"marks\": 887}\n"
     ]
    }
   ],
   "source": [
    "import json\n",
    "student_data={\"name\":\"david\",\"age\":13,\"marks\":887}\n",
    "print(type(student_data))\n",
    "data=json.dumps(student_data)\n",
    "print(type(data))\n",
    "print(data)\n"
   ]
  },
  {
   "cell_type": "code",
   "execution_count": 16,
   "id": "ebe900e1-7f66-4bb8-93da-3412a39962dc",
   "metadata": {},
   "outputs": [
    {
     "name": "stdout",
     "output_type": "stream",
     "text": [
      "13\n"
     ]
    }
   ],
   "source": [
    "import json\n",
    "student_data=\"\"\"{\"name\":\"david\",\"age\":13,\"marks\":887}\"\"\"\n",
    "data=json.loads(student_data)\n",
    "print(data[\"age\"])\n"
   ]
  },
  {
   "cell_type": "code",
   "execution_count": 26,
   "id": "b1fe8d28-4afe-41e9-88ef-d4ded6207c10",
   "metadata": {},
   "outputs": [
    {
     "name": "stdout",
     "output_type": "stream",
     "text": [
      "{\n",
      "    \"name\"=\"david\",\n",
      "    \"age\"=13,\n",
      "    \"marks\"=887\n",
      "}\n"
     ]
    }
   ],
   "source": [
    "import json\n",
    "student_data={\"name\":\"david\",\"age\":13,\"marks\":887}\n",
    "data=json.dumps(student_data,indent=4,separators=(\",\",\"=\"))\n",
    "print(data)\n"
   ]
  },
  {
   "cell_type": "code",
   "execution_count": 32,
   "id": "eee2d7fc-e8b9-4914-8126-e094a7d3946d",
   "metadata": {},
   "outputs": [
    {
     "name": "stdout",
     "output_type": "stream",
     "text": [
      "added\n"
     ]
    }
   ],
   "source": [
    "import json\n",
    "student_data={\"name\":\"david\",\"age\":13,\"marks\":87}\n",
    "f=open(\"demo.json\",\"w\")\n",
    "f.write(data)\n",
    "data=json.dumps(student_data,indent=4,sort_keys=True)\n",
    "print(\"added\")\n"
   ]
  },
  {
   "cell_type": "code",
   "execution_count": 48,
   "id": "16ff4658-8cb9-4223-9889-18056bf2c521",
   "metadata": {},
   "outputs": [
    {
     "name": "stdout",
     "output_type": "stream",
     "text": [
      "david\n",
      "13\n",
      "87\n"
     ]
    }
   ],
   "source": [
    "stud={\"name\":\"david\",\"age\":13,\"marks\":87}\n",
    "for x in stud.values():\n",
    "    print(x)"
   ]
  },
  {
   "cell_type": "code",
   "execution_count": null,
   "id": "61046e5e-0568-49f7-a2dd-cfa335d7b1d0",
   "metadata": {},
   "outputs": [],
   "source": [
    "stud={\"name\":\"david\",\"age\":13,\"marks\":87}\n",
    "print(stud[\"name\"])\n",
    "print(len(stud))\n",
    "for i in stud:\n",
    "    print(stud[i])\n",
    "\n"
   ]
  },
  {
   "cell_type": "code",
   "execution_count": 50,
   "id": "c0ecbe07-031b-440e-a930-f81740c85b45",
   "metadata": {},
   "outputs": [
    {
     "name": "stdout",
     "output_type": "stream",
     "text": [
      "name - david\n",
      "age - 13\n",
      "marks - 87\n"
     ]
    }
   ],
   "source": [
    "stud={\"name\":\"david\",\"age\":13,\"marks\":87}\n",
    "for x,y in stud.items():\n",
    "    print(x,\"-\",y)"
   ]
  },
  {
   "cell_type": "code",
   "execution_count": 60,
   "id": "1a96b200-ff02-4a4a-a2e2-7fb80fbb2427",
   "metadata": {},
   "outputs": [
    {
     "name": "stdout",
     "output_type": "stream",
     "text": [
      "david\n",
      "dict_items([('name', 'david'), ('age', 13), ('marks', 87)])\n",
      "dict_keys(['name', 'age', 'marks'])\n",
      "dict_values(['david', 13, 87])\n",
      "{'name': 'david', 'age': 13, 'marks': 87}\n"
     ]
    }
   ],
   "source": [
    "stud={\"name\":\"david\",\"age\":13,\"marks\":87}\n",
    "v=stud.get(\"name\")\n",
    "print(v)\n",
    "c=stud.items()\n",
    "print(c)\n",
    "\n",
    "a=stud.keys()\n",
    "print(a)\n",
    "\n",
    "q=stud.values()\n",
    "print(q)\n",
    "\n",
    "\n",
    "b=stud.copy()\n",
    "print(b)"
   ]
  },
  {
   "cell_type": "code",
   "execution_count": 64,
   "id": "acea7868-94cd-46b8-81bc-3874fe0d4fbf",
   "metadata": {},
   "outputs": [
    {
     "name": "stdout",
     "output_type": "stream",
     "text": [
      "david\n"
     ]
    }
   ],
   "source": [
    "stud={\"name\":\"david\",\"age\":13,\"marks\":87}\n",
    "f=stud.setdefault(\"name\",\"sam\")\n",
    "print(f)"
   ]
  },
  {
   "cell_type": "code",
   "execution_count": 68,
   "id": "016f2eb5-6375-40c0-b427-66a26aa0c2a2",
   "metadata": {},
   "outputs": [
    {
     "name": "stdout",
     "output_type": "stream",
     "text": [
      "13\n"
     ]
    }
   ],
   "source": [
    "employ={1:{\"name\":\"john\",\"age\":13},2:{\"name\":\"david\",\"age\":13,\"marks\":87},3:{\"name\":\"did\",\"age\":53,\"marks\":97}}\n",
    "\n",
    "print(employ[2][\"age\"])\n",
    "\n",
    "\n",
    "\n"
   ]
  },
  {
   "cell_type": "code",
   "execution_count": 77,
   "id": "da36eac7-878b-4627-8792-d9a6f2cd3080",
   "metadata": {},
   "outputs": [
    {
     "name": "stdout",
     "output_type": "stream",
     "text": [
      "[45, 54, 87, 98]\n"
     ]
    }
   ],
   "source": [
    "a={\"a\":45,\"g\":54,\"e\":87,\"w\":98}\n",
    "b=sorted(a.values())\n",
    "print(b)"
   ]
  },
  {
   "cell_type": "code",
   "execution_count": 79,
   "id": "1c4b40a0-dc30-4dd4-9248-530180617fce",
   "metadata": {},
   "outputs": [
    {
     "name": "stdout",
     "output_type": "stream",
     "text": [
      "{1: 1, 2: 4, 3: 9, 4: 16, 5: 25, 6: 36, 7: 49, 8: 64, 9: 81, 10: 100, 11: 121, 12: 144, 13: 169, 14: 196, 15: 225}\n"
     ]
    }
   ],
   "source": [
    "a={}\n",
    "for i in range(1,16):\n",
    "    a[i]=i**2\n",
    "\n",
    "print(a)"
   ]
  },
  {
   "cell_type": "code",
   "execution_count": 91,
   "id": "a87f1242-8b5a-4ef4-823a-209dc4200816",
   "metadata": {},
   "outputs": [
    {
     "name": "stdout",
     "output_type": "stream",
     "text": [
      "20718180\n"
     ]
    }
   ],
   "source": [
    "a={\"a\":45,\"g\":54,\"e\":87,\"w\":98}\n",
    "sum=1\n",
    "for i in a:\n",
    "    b=a[i]\n",
    "    sum=sum*b\n",
    "\n",
    "\n",
    "\n",
    "print(sum)"
   ]
  },
  {
   "cell_type": "code",
   "execution_count": 93,
   "id": "62bdd515-0ee1-436f-8c2e-aae005f41324",
   "metadata": {},
   "outputs": [
    {
     "name": "stdout",
     "output_type": "stream",
     "text": [
      "['a', 'e', 'g', 'w']\n"
     ]
    }
   ],
   "source": [
    "a={\"a\":45,\"g\":54,\"e\":87,\"w\":98}\n",
    "b=sorted(a.keys())\n",
    "print(b)"
   ]
  },
  {
   "cell_type": "code",
   "execution_count": 141,
   "id": "1719c8a6-d38d-4994-98ee-7f041336704e",
   "metadata": {},
   "outputs": [
    {
     "name": "stdout",
     "output_type": "stream",
     "text": [
      "{484, 68, 684684, 684, 848, 468, 84, 54}\n",
      "{484, 68, 684684, 684, 468, 84, 54}\n",
      "{68, 684684, 684, 468, 84, 54}\n",
      "{68, 8555, 684684, 684, 468, 84, 54}\n",
      "{684, 68, 468, 84, 54, 8555, 684684}\n",
      "<class 'set'>\n"
     ]
    }
   ],
   "source": [
    "b={54,84,848,468,684,84,834,484,684684,684,68}\n",
    "b.pop()\n",
    "print(b)\n",
    "\n",
    "b.remove(848)\n",
    "print(b)\n",
    "\n",
    "b.discard(484)\n",
    "print(b)\n",
    "\n",
    "b.add(8555)\n",
    "print(b)\n",
    "\n",
    "c=b.copy()\n",
    "print(c)\n",
    "print(type(c))"
   ]
  },
  {
   "cell_type": "code",
   "execution_count": 123,
   "id": "587c2a35-9948-45b2-9c7f-bdbc9bcbbe0a",
   "metadata": {},
   "outputs": [
    {
     "name": "stdout",
     "output_type": "stream",
     "text": [
      "False\n",
      "False\n",
      "False\n",
      "None\n",
      "set() el\n"
     ]
    }
   ],
   "source": [
    "b={\"anme\",\"MKAA\",\"ldasm\",\"kjus\",\"lkissn\"}\n",
    "c={\"anme\",\"jhub\",\"kask\"}\n",
    "print(b.isdisjoint(c))\n",
    "print(b.issubset(c))\n",
    "print(b.issuperset(c))\n",
    "print(b.clear())\n",
    "print(b,\"el\")"
   ]
  },
  {
   "cell_type": "code",
   "execution_count": 133,
   "id": "65a9f46b-bd48-41f7-9297-f014d6efe259",
   "metadata": {},
   "outputs": [
    {
     "name": "stdout",
     "output_type": "stream",
     "text": [
      "{65, 1, 834, 68, 41861, 6, 5, 8, 684684, 848, 465, 468, 84, 1686, 32, 484, 1321, 684, 54, 56, 186, 59, 956}\n",
      "{32, 1, 41861, 8, 1321, 465, 1686, 186, 59, 956}\n",
      "None\n",
      "set()\n"
     ]
    }
   ],
   "source": [
    "b={54,84,848,468,6,6,6,5,6,56,65,84,84,834,484,684684,684,68}\n",
    "a={6,59,956,6,6,32,6,65,465,8,484,68,1321,1,41861,186,1686,186}\n",
    "print(a.union(b))\n",
    "print(a.difference(b))\n",
    "print(a.difference_update(b))\n",
    "g=a.intersection(b)\n",
    "print(g)\n"
   ]
  },
  {
   "cell_type": "code",
   "execution_count": 139,
   "id": "13c0ce3d-216d-4183-be32-abb556adfa44",
   "metadata": {},
   "outputs": [
    {
     "name": "stdout",
     "output_type": "stream",
     "text": [
      "41861\n",
      "1\n"
     ]
    },
    {
     "ename": "AttributeError",
     "evalue": "'set' object has no attribute 'sort'",
     "output_type": "error",
     "traceback": [
      "\u001b[1;31m---------------------------------------------------------------------------\u001b[0m",
      "\u001b[1;31mAttributeError\u001b[0m                            Traceback (most recent call last)",
      "Cell \u001b[1;32mIn[139], line 4\u001b[0m\n\u001b[0;32m      2\u001b[0m \u001b[38;5;28mprint\u001b[39m(\u001b[38;5;28mmax\u001b[39m(a))\n\u001b[0;32m      3\u001b[0m \u001b[38;5;28mprint\u001b[39m(\u001b[38;5;28mmin\u001b[39m(a))\n\u001b[1;32m----> 4\u001b[0m b\u001b[38;5;241m=\u001b[39ma\u001b[38;5;241m.\u001b[39msort()\n\u001b[0;32m      5\u001b[0m \u001b[38;5;28mprint\u001b[39m(b)\n",
      "\u001b[1;31mAttributeError\u001b[0m: 'set' object has no attribute 'sort'"
     ]
    }
   ],
   "source": [
    "a={6,59,956,6,6,32,6,65,465,8,484,68,1321,1,41861,186,1686,186}\n",
    "print(max(a))\n",
    "print(min(a))\n"
   ]
  },
  {
   "cell_type": "code",
   "execution_count": 169,
   "id": "bee83d1f-b9de-42cc-a7cc-7421ec99e2a6",
   "metadata": {},
   "outputs": [
    {
     "name": "stdout",
     "output_type": "stream",
     "text": [
      "{89, 58}\n",
      "{97, 4, 86, 62, 47}\n",
      "None\n",
      "{97, 47, 86, 89, 58, 62}\n"
     ]
    }
   ],
   "source": [
    "a=[4,58,86,89,97,62,47]\n",
    "b=[58,8,89,12]\n",
    "c=[58,12,89]\n",
    "ax=set(a)\n",
    "bx=set(b)\n",
    "cx=set(c)\n",
    "print( set(a) & set(b) & set(c))\n",
    "print(ax.difference(b))\n",
    "print(ax.discard(4))\n",
    "print(ax)"
   ]
  },
  {
   "cell_type": "markdown",
   "id": "04e81074-542a-4079-9b7d-27baab012881",
   "metadata": {},
   "source": [
    "#Functions"
   ]
  },
  {
   "cell_type": "code",
   "execution_count": 180,
   "id": "ffe216e4-092d-4890-ac90-2c3adccfa605",
   "metadata": {},
   "outputs": [
    {
     "name": "stdout",
     "output_type": "stream",
     "text": [
      "79\n"
     ]
    }
   ],
   "source": [
    "def adddd(x,y):\n",
    "    print(x+y)\n",
    "\n",
    "adddd(25,54)"
   ]
  },
  {
   "cell_type": "code",
   "execution_count": 184,
   "id": "410f2049-e23e-44eb-b7d8-70ee5c38dfab",
   "metadata": {},
   "outputs": [
    {
     "ename": "SyntaxError",
     "evalue": "invalid syntax (917805512.py, line 3)",
     "output_type": "error",
     "traceback": [
      "\u001b[1;36m  Cell \u001b[1;32mIn[184], line 3\u001b[1;36m\u001b[0m\n\u001b[1;33m    return hello():\u001b[0m\n\u001b[1;37m                  ^\u001b[0m\n\u001b[1;31mSyntaxError\u001b[0m\u001b[1;31m:\u001b[0m invalid syntax\n"
     ]
    }
   ],
   "source": [
    "def hello():\n",
    "    print(\"hehe\")\n",
    "    return hello()\n",
    "\n",
    "print(hello())"
   ]
  },
  {
   "cell_type": "code",
   "execution_count": 198,
   "id": "c08aacb2-8671-42df-842e-860e438b7eb4",
   "metadata": {},
   "outputs": [
    {
     "data": {
      "text/plain": [
       "120"
      ]
     },
     "execution_count": 198,
     "metadata": {},
     "output_type": "execute_result"
    }
   ],
   "source": [
    "def fact(n):\n",
    "    if n==1:\n",
    "        return 1\n",
    "    else :\n",
    "        return(n*fact(n-1))\n",
    "    print(fact)\n",
    "\n",
    "\n",
    "\n",
    "fact(5)\n",
    "\n"
   ]
  },
  {
   "cell_type": "markdown",
   "id": "8b35f00e-a694-4bc9-b01f-13d85a67451a",
   "metadata": {},
   "source": [
    "lambda fun"
   ]
  },
  {
   "cell_type": "code",
   "execution_count": 219,
   "id": "3840d183-e1f4-4469-82e6-8f5f397e1343",
   "metadata": {},
   "outputs": [
    {
     "name": "stdout",
     "output_type": "stream",
     "text": [
      "25\n",
      "3735\n"
     ]
    }
   ],
   "source": [
    "a= lambda b: b*5\n",
    "print(a(5))\n",
    "\n",
    "x=lambda a,b,c,: a+b*c\n",
    "print(x(78,53,69))"
   ]
  },
  {
   "cell_type": "code",
   "execution_count": 217,
   "id": "1243624a-4ca6-454f-a432-cbb569d845a1",
   "metadata": {},
   "outputs": [
    {
     "name": "stdout",
     "output_type": "stream",
     "text": [
      "455 is maximum\n"
     ]
    }
   ],
   "source": [
    "def max(x,y,z):\n",
    "    if x>y:\n",
    "        if x>z:\n",
    "            print(x ,\"is maximum\")\n",
    "    elif y>x:\n",
    "        if y>z:\n",
    "            print(y ,\"is maximum\")\n",
    "    elif z>y:\n",
    "        if z>x:\n",
    "            print(z ,\"is maximum\")\n",
    "\n",
    "max(455,85,75)\n",
    "\n"
   ]
  },
  {
   "cell_type": "code",
   "execution_count": 231,
   "id": "e45e8b8f-85fc-4fb7-88e1-7b5fafad0536",
   "metadata": {},
   "outputs": [
    {
     "name": "stdout",
     "output_type": "stream",
     "text": [
      "[1, 4, 9, 16, 25, 36, 49, 64, 81, 100, 121, 144, 169, 196, 225, 256, 289, 324, 361, 400, 441, 484, 529, 576, 625, 676, 729, 784, 841, 900]\n",
      "<class 'list'>\n"
     ]
    }
   ],
   "source": [
    "def list_square():\n",
    "    l=[]\n",
    "    for i in range(1,31):\n",
    "        b=i**2\n",
    "        l.append(b)\n",
    "    print(l)\n",
    "    print(type(l))\n",
    "list_square()"
   ]
  },
  {
   "cell_type": "code",
   "execution_count": 282,
   "id": "38730029-b579-4e65-9d97-9252fdbb7d9e",
   "metadata": {},
   "outputs": [
    {
     "name": "stdout",
     "output_type": "stream",
     "text": [
      "45 is a prime number\n",
      "45 is not a prime number\n"
     ]
    }
   ],
   "source": [
    "def prime(num):\n",
    "    \n",
    "    # Negative numbers, 0 and 1 are not primes\n",
    "    if num > 1:\n",
    "        \n",
    "        for i in range(2, (num//2)+1):\n",
    "            \n",
    "      \n",
    "        # If num is divisible by any number between\n",
    "        # 2 and n / 2, it is not prime\n",
    "           if (num % i) == 0:\n",
    "               \n",
    "               \n",
    "               print(num, \"is not a prime number\")\n",
    "               \n",
    "               break\n",
    "           else:\n",
    "               \n",
    "               \n",
    "              print(num, \"is a prime number\")\n",
    "    else:\n",
    "         print(num, \"is not a prime number\")\n",
    "\n",
    "prime(45)"
   ]
  },
  {
   "cell_type": "code",
   "execution_count": null,
   "id": "3b8dabf2-88f6-484f-b53e-92aaa5dcb004",
   "metadata": {},
   "outputs": [],
   "source": []
  },
  {
   "cell_type": "code",
   "execution_count": 292,
   "id": "d0a50af4-2e5b-4eaf-a4d6-c0de45b5714c",
   "metadata": {},
   "outputs": [
    {
     "name": "stdout",
     "output_type": "stream",
     "text": [
      "29 is a prime number.\n"
     ]
    }
   ],
   "source": [
    "def is_prime(number):\n",
    "    if number <= 1:\n",
    "        return False\n",
    "    for i in range(2, int(number ** 0.5) + 1):\n",
    "        if number % i == 0:\n",
    "            return False\n",
    "    return True\n",
    "\n",
    "# Test the function\n",
    "num = 29\n",
    "if is_prime(num):\n",
    "    print(f\"{num} is a prime number.\")\n",
    "else:\n",
    "    print(f\"{num} is not a prime number.\")\n"
   ]
  },
  {
   "cell_type": "code",
   "execution_count": null,
   "id": "d00870d7-5348-4f2e-ab89-e96f18a3ffd9",
   "metadata": {},
   "outputs": [],
   "source": [
    "def fib(x):\n",
    "    if x==1:\n",
    "        return(0)\n",
    "    elif x==2:\n",
    "        return(1)\n",
    "    else:\n",
    "        return(fib(x-1)+fib(x-2))\n",
    "\n",
    "print(fib(7))"
   ]
  },
  {
   "cell_type": "code",
   "execution_count": null,
   "id": "4fcec3aa-d478-4999-88b1-d0f95b2dafc2",
   "metadata": {},
   "outputs": [],
   "source": [
    "import datetime\n",
    "x=datetime.datetime.now()\n",
    "print(x)"
   ]
  },
  {
   "cell_type": "code",
   "execution_count": null,
   "id": "fe178060-5fa7-4096-a0ae-be88668a88b1",
   "metadata": {},
   "outputs": [],
   "source": []
  }
 ],
 "metadata": {
  "kernelspec": {
   "display_name": "Python 3 (ipykernel)",
   "language": "python",
   "name": "python3"
  },
  "language_info": {
   "codemirror_mode": {
    "name": "ipython",
    "version": 3
   },
   "file_extension": ".py",
   "mimetype": "text/x-python",
   "name": "python",
   "nbconvert_exporter": "python",
   "pygments_lexer": "ipython3",
   "version": "3.11.7"
  }
 },
 "nbformat": 4,
 "nbformat_minor": 5
}
