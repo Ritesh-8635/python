{
 "cells": [
  {
   "cell_type": "code",
   "execution_count": 8,
   "id": "8e5f1ca1-a809-4065-9fb2-c9261d3fb676",
   "metadata": {},
   "outputs": [
    {
     "name": "stdout",
     "output_type": "stream",
     "text": [
      "[2974610    7392   39816    2346  391524    3168]\n"
     ]
    }
   ],
   "source": [
    "import numpy as np\n",
    "a=np.array([545,84,84,51,4661,36])\n",
    "b=np.array([5458,88,474,46,84,88])\n",
    "print(a*b)"
   ]
  },
  {
   "cell_type": "code",
   "execution_count": 4,
   "id": "f63cec29-d042-4df4-bfe0-a430abb9c894",
   "metadata": {},
   "outputs": [
    {
     "name": "stdout",
     "output_type": "stream",
     "text": [
      "[545, 84, 84, 51, 4661, 36, 5458, 88, 474, 46, 84, 88]\n"
     ]
    }
   ],
   "source": [
    "a=[545,84,84,51,4661,36]\n",
    "b=[5458,88,474,46,84,88]\n",
    "print(a+b)"
   ]
  },
  {
   "cell_type": "code",
   "execution_count": 16,
   "id": "83a00a53-df54-4ff4-b96f-cfaeabbacf1c",
   "metadata": {},
   "outputs": [
    {
     "name": "stdout",
     "output_type": "stream",
     "text": [
      "[ 54 451   8  86   8  45]\n"
     ]
    }
   ],
   "source": [
    "import numpy as np\n",
    "a=np.array([45,8,86,8,451,54])\n",
    "print(a[::-1])"
   ]
  },
  {
   "cell_type": "code",
   "execution_count": 93,
   "id": "ee7a4529-e240-4798-a217-6fd465ebc66f",
   "metadata": {},
   "outputs": [
    {
     "name": "stdout",
     "output_type": "stream",
     "text": [
      "(2, 4)\n",
      "8\n",
      "2\n",
      "int32\n",
      "<class 'numpy.ndarray'>\n",
      "\n",
      "\n",
      "\n",
      "\n",
      "\n",
      "[[ 45.   8.  86.   8.]\n",
      " [ 54. 848.  18.  48.]]\n"
     ]
    }
   ],
   "source": [
    "import numpy as np\n",
    "a=np.array([[45,8,86,8],[54,848,18,48]])\n",
    "print(np.shape(a))\n",
    "print(np.size(a))\n",
    "print(np.ndim(a))\n",
    "print(a.dtype)\n",
    "print(type(a))\n",
    "print(\"\\n\\n\\n\\n\")\n",
    "print(a.astype(float))"
   ]
  },
  {
   "cell_type": "code",
   "execution_count": 85,
   "id": "c519828e-8417-42f7-8400-2b0baae8a3a6",
   "metadata": {},
   "outputs": [
    {
     "name": "stdin",
     "output_type": "stream",
     "text": [
      "enter 45\n",
      "enter 459\n"
     ]
    },
    {
     "name": "stdout",
     "output_type": "stream",
     "text": [
      "['45', '459']\n"
     ]
    }
   ],
   "source": [
    "a=[]\n",
    "for i in range(0,2):\n",
    "    b=input(\"enter\")\n",
    "    a.append(b)\n",
    "\n",
    "print(a)"
   ]
  },
  {
   "cell_type": "code",
   "execution_count": null,
   "id": "6ff833dd-b312-4f37-8ddb-851c0c21272b",
   "metadata": {},
   "outputs": [],
   "source": [
    "dictionary input"
   ]
  },
  {
   "cell_type": "code",
   "execution_count": 10,
   "id": "f3f73211-ebc8-40c1-9d95-618043ec8a2a",
   "metadata": {},
   "outputs": [
    {
     "name": "stdout",
     "output_type": "stream",
     "text": [
      "[6003  172  558   97 4745  124]\n",
      "[2974610    7392   39816    2346  391524    3168]\n",
      "[-4913    -4  -390     5  4577   -52]\n",
      "[ 0.09985343  0.95454545  0.17721519  1.10869565 55.48809524  0.40909091]\n",
      "[2088219201          0          0 -852843303  658009073          0]\n",
      "[23.34523506  9.16515139  9.16515139  7.14142843 68.27151675  6.        ] hihi\n",
      "[545  84  84   5  41  36]\n"
     ]
    }
   ],
   "source": [
    "import numpy as np\n",
    "a=np.array([545,84,84,51,4661,36])\n",
    "b=np.array([5458,88,474,46,84,88])\n",
    "print(np.add(a,b))\n",
    "print(np.multiply(a,b))\n",
    "print(np.subtract(a,b))\n",
    "print(np.divide(a,b))\n",
    "print(np.power(a,b))\n",
    "c=a.astype(float)\n",
    "d=b.astype(float)\n",
    "e=np.sqrt(c,d)\n",
    "print(e,\"hihi\")\n",
    "print(a%b)\n",
    "      "
   ]
  },
  {
   "cell_type": "code",
   "execution_count": 14,
   "id": "0fc9a237-4c24-480d-a30c-e91e083b27fa",
   "metadata": {},
   "outputs": [
    {
     "name": "stdout",
     "output_type": "stream",
     "text": [
      "[ 545   84   84   51 4661   36 5458   88  474   46   84   88]\n"
     ]
    }
   ],
   "source": [
    "import numpy as np\n",
    "a=np.array([545,84,84,51,4661,36])\n",
    "b=np.array([5458,88,474,46,84,88])\n",
    "print(np.concatenate([a,b]))"
   ]
  },
  {
   "cell_type": "code",
   "execution_count": 20,
   "id": "d6752fe0-564f-4b54-a953-df86d07bda0f",
   "metadata": {},
   "outputs": [
    {
     "name": "stdout",
     "output_type": "stream",
     "text": [
      "[ 545   84   84   51 4661   36 5458   88  474   46   84   88]\n"
     ]
    }
   ],
   "source": [
    "import numpy as np\n",
    "a=np.array([545,84,84,51,4661,36])\n",
    "b=np.array([5458,88,474,46,84,88])\n",
    "print(np.concatenate([a,b],axis=0))\n",
    "\n"
   ]
  },
  {
   "cell_type": "code",
   "execution_count": 22,
   "id": "81844874-73b2-43e8-825d-77a8504c0fb4",
   "metadata": {},
   "outputs": [
    {
     "name": "stdout",
     "output_type": "stream",
     "text": [
      "[ 545   84   84   51 4661   36 5458   88  474   46   84   88]\n"
     ]
    }
   ],
   "source": [
    "import numpy as np\n",
    "a=np.array([545,84,84,51,4661,36])\n",
    "b=np.array([5458,88,474,46,84,88])\n",
    "print(np.hstack([a,b]))"
   ]
  },
  {
   "cell_type": "code",
   "execution_count": 24,
   "id": "880f9602-a6fd-428e-83be-10a1af289fa8",
   "metadata": {},
   "outputs": [
    {
     "name": "stdout",
     "output_type": "stream",
     "text": [
      "[[ 545   84   84   51 4661   36]\n",
      " [5458   88  474   46   84   88]]\n"
     ]
    }
   ],
   "source": [
    "import numpy as np\n",
    "a=np.array([545,84,84,51,4661,36])\n",
    "b=np.array([5458,88,474,46,84,88])\n",
    "print(np.vstack([a,b]))"
   ]
  },
  {
   "cell_type": "code",
   "execution_count": 30,
   "id": "42d787cb-51b3-4ddd-b90b-f0cc5e3af10c",
   "metadata": {},
   "outputs": [
    {
     "name": "stdout",
     "output_type": "stream",
     "text": [
      "[array([545,  84]), array([84]), array([51]), array([4661]), array([36])]\n"
     ]
    }
   ],
   "source": [
    "import numpy as np\n",
    "a=np.array([545,84,84,51,4661,36])\n",
    "b=np.array([5458,88,474,46,84,88])\n",
    "print(np.array_split(a,5))"
   ]
  },
  {
   "cell_type": "code",
   "execution_count": 38,
   "id": "3e4dd57b-528e-4d0d-9f55-9c8bf7fe8c4e",
   "metadata": {},
   "outputs": [
    {
     "name": "stdout",
     "output_type": "stream",
     "text": [
      "[ 545   84   84   51 4661   36  455   68   84]\n",
      "[5458   88  474   46   84   88  455   68   84]\n",
      "[ 545  554   84   84   51 4661   36]\n",
      "[ 545   84   51 4661   36]\n"
     ]
    }
   ],
   "source": [
    "import numpy as np\n",
    "a=np.array([545,84,84,51,4661,36])\n",
    "b=np.array([5458,88,474,46,84,88])\n",
    "print(np.append(a,[455,68,84]))\n",
    "print(np.append(b,[455,68,84]))\n",
    "print(np.insert(a,1,554))\n",
    "print(np.delete(a,1))"
   ]
  },
  {
   "cell_type": "code",
   "execution_count": 50,
   "id": "6a827056-abae-4e1c-88cf-9df3283b0c50",
   "metadata": {},
   "outputs": [
    {
     "name": "stdout",
     "output_type": "stream",
     "text": [
      "[  36   51   84   84  545 4661]\n",
      "(array([1, 2, 5], dtype=int64),)\n",
      "1\n"
     ]
    }
   ],
   "source": [
    "import numpy as np\n",
    "a=np.array([545,84,84,51,4661,36])\n",
    "b=np.array([5458,88,474,46,84,88])\n",
    "print(np.sort(a))\n",
    "print(np.where(a%2==0))\n",
    "bb=np.sort(a)\n",
    "print(np.searchsorted(bb,51))"
   ]
  },
  {
   "cell_type": "code",
   "execution_count": 56,
   "id": "155842dc-f4ca-4052-884b-fb6a27008436",
   "metadata": {},
   "outputs": [
    {
     "name": "stdout",
     "output_type": "stream",
     "text": [
      "[ 45   8 452]\n"
     ]
    }
   ],
   "source": [
    "import numpy as np\n",
    "a=np.array([45,8,5488,452])\n",
    "fa=[True,True,False,True]\n",
    "n=a[fa]\n",
    "print(n)"
   ]
  },
  {
   "cell_type": "code",
   "execution_count": 58,
   "id": "e28e5d3e-081c-4b2c-84cd-6b1845f2440c",
   "metadata": {},
   "outputs": [
    {
     "name": "stdout",
     "output_type": "stream",
     "text": [
      "[5488  452]\n"
     ]
    }
   ],
   "source": [
    "import numpy as np\n",
    "a=np.array([45,8,5488,452])\n",
    "fa=a>50\n",
    "n=a[fa]\n",
    "print(n)"
   ]
  },
  {
   "cell_type": "code",
   "execution_count": 2,
   "id": "0e7917d8-e8ad-4274-9a95-55b5f7877cae",
   "metadata": {},
   "outputs": [
    {
     "name": "stdout",
     "output_type": "stream",
     "text": [
      "[  45   53 5541 5993]\n",
      "5993\n",
      "1498.25\n"
     ]
    }
   ],
   "source": [
    "import numpy as np\n",
    "a=np.array([45,50,75,80])\n",
    "b=np.array([50,45,080,75])\n",
    "print(np.cumsum(a))\n",
    "print(np.sum(a))\n",
    "print(np.mean(a))"
   ]
  },
  {
   "cell_type": "code",
   "execution_count": 6,
   "id": "0312b308-da9f-42e7-887e-466abca11f23",
   "metadata": {},
   "outputs": [
    {
     "name": "stdout",
     "output_type": "stream",
     "text": [
      "[[  45   50   75   80]\n",
      " [2250 2250 6000 6000]]\n"
     ]
    }
   ],
   "source": [
    "import numpy as np\n",
    "a=np.array([45,50,75,80])\n",
    "b=np.array([50,45,80,75])\n",
    "print(np.cumprod([a,b],axis=0))"
   ]
  },
  {
   "cell_type": "code",
   "execution_count": 18,
   "id": "30986648-d201-4b51-86e8-4262de146c02",
   "metadata": {},
   "outputs": [
    {
     "name": "stdout",
     "output_type": "stream",
     "text": [
      "the total for  1 is 2250\n",
      "the total for  2 is 2250\n",
      "the total for  3 is 6000\n",
      "the total for  4 is 6000\n"
     ]
    }
   ],
   "source": [
    "import numpy as np\n",
    "price=np.array([45,50,75,80])\n",
    "quantity=np.array([50,45,80,75])\n",
    "total=price*quantity\n",
    "for i in range(0,4):\n",
    "    print(\"the total for \",i+1,\"is\",total[i])\n",
    "    "
   ]
  },
  {
   "cell_type": "code",
   "execution_count": 40,
   "id": "63cdab94-e6b3-4d39-ae1c-4f3cc43f379a",
   "metadata": {},
   "outputs": [
    {
     "name": "stdout",
     "output_type": "stream",
     "text": [
      "75.0\n",
      "68.8\n",
      "80\n",
      "14.133647795243801\n",
      "199.76\n",
      "[[1.        0.4976954]\n",
      " [0.4976954 1.       ]]\n"
     ]
    }
   ],
   "source": [
    "import numpy as np\n",
    "import statistics as st\n",
    "a=np.array([80,50,54,75,85])\n",
    "b=np.array([85,48,80,47,95])\n",
    "print(np.median(a))#central value after sorting\n",
    "print(np.mean(a))\n",
    "print(st.mode(a))#number that appears the most\n",
    "print(np.std(a))#measure of how data is dispersed around the mean value\n",
    "print(np.var(a))#square of std. deviation\n",
    "print(np.corrcoef([a,b]))# relationship between two or more variables"
   ]
  },
  {
   "cell_type": "code",
   "execution_count": 42,
   "id": "e937abb3-f7b7-4f59-a8d6-df72ed9fa30d",
   "metadata": {},
   "outputs": [
    {
     "name": "stdout",
     "output_type": "stream",
     "text": [
      "[ 45   8 484 684   4]\n"
     ]
    }
   ],
   "source": [
    "b=[45,8,484,684,4]\n",
    "import numpy as np\n",
    "c=np.array(b)\n",
    "print(c)"
   ]
  },
  {
   "cell_type": "code",
   "execution_count": null,
   "id": "bcde5ff2-af3e-40e0-bba4-6955f0c45da7",
   "metadata": {},
   "outputs": [],
   "source": []
  },
  {
   "cell_type": "code",
   "execution_count": null,
   "id": "9fba8301-d178-4338-b1c8-28b3efc33946",
   "metadata": {},
   "outputs": [],
   "source": []
  }
 ],
 "metadata": {
  "kernelspec": {
   "display_name": "Python 3 (ipykernel)",
   "language": "python",
   "name": "python3"
  },
  "language_info": {
   "codemirror_mode": {
    "name": "ipython",
    "version": 3
   },
   "file_extension": ".py",
   "mimetype": "text/x-python",
   "name": "python",
   "nbconvert_exporter": "python",
   "pygments_lexer": "ipython3",
   "version": "3.11.7"
  }
 },
 "nbformat": 4,
 "nbformat_minor": 5
}
