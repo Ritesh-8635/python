{
 "cells": [
  {
   "cell_type": "code",
   "execution_count": 1,
   "id": "71988eb0-6d2f-4116-a334-bbe685a17fa8",
   "metadata": {},
   "outputs": [
    {
     "name": "stdout",
     "output_type": "stream",
     "text": [
      "hgsjg\n"
     ]
    }
   ],
   "source": [
    "print('hgsjg')\n"
   ]
  },
  {
   "cell_type": "code",
   "execution_count": 2,
   "id": "6e546672-07ac-45b4-a895-20bbfa40fede",
   "metadata": {},
   "outputs": [
    {
     "name": "stdout",
     "output_type": "stream",
     "text": [
      "hello,world\n",
      "what is your name?\n"
     ]
    },
    {
     "name": "stdin",
     "output_type": "stream",
     "text": [
      " gds\n"
     ]
    },
    {
     "name": "stdout",
     "output_type": "stream",
     "text": [
      "it is good to meet you,gds\n",
      "what is your age?\n"
     ]
    },
    {
     "name": "stdin",
     "output_type": "stream",
     "text": [
      " 424573\n"
     ]
    },
    {
     "name": "stdout",
     "output_type": "stream",
     "text": [
      "you will be424574in a year\n",
      "the length of your name is:\n",
      "3\n",
      "what is your mobile number?\n"
     ]
    },
    {
     "name": "stdin",
     "output_type": "stream",
     "text": [
      " 5374286343572752\n"
     ]
    },
    {
     "name": "stdout",
     "output_type": "stream",
     "text": [
      "i will call you later,gds\n",
      "thank yougds\n"
     ]
    }
   ],
   "source": [
    "print('hello,world')\n",
    "print('what is your name?')    #ask for their name.\n",
    "myname=input()\n",
    "print('it is good to meet you,'+myname)\n",
    "print('what is your age?')     #asks for their age\n",
    "myage = input()\n",
    "print('you will be' + str(int(myage) + 1 ) + 'in a year')\n",
    "print('the length of your name is:')\n",
    "print(len(myname))\n",
    "print('what is your mobile number?')\n",
    "mobilenumber=input()\n",
    "print('i will call you later,' + myname )\n",
    "print('thank you' + myname )"
   ]
  },
  {
   "cell_type": "code",
   "execution_count": null,
   "id": "cebf0909-2700-4234-abcf-24e577ff6414",
   "metadata": {},
   "outputs": [],
   "source": [
    "your_name = input('what is your name ?')\n",
    "your_name = str(your_name)\n",
    "print('hello, ' + your_name)\n",
    "birth_year = input ('what is ryour birthyear')\n",
    "birth_year = int(birth_year)\n",
    "current_year = input('what is the current year ?')\n",
    "current_year = int(current_year)\n",
    "print ('your age is ' )\n",
    "print(int(current_year)- int(birth_year))"
   ]
  },
  {
   "cell_type": "code",
   "execution_count": 22,
   "id": "7c378b59",
   "metadata": {},
   "outputs": [
    {
     "ename": "SyntaxError",
     "evalue": "invalid syntax (Temp/ipykernel_6632/3035441613.py, line 5)",
     "output_type": "error",
     "traceback": [
      "\u001b[1;36m  File \u001b[1;32m\"C:\\Users\\HP\\AppData\\Local\\Temp/ipykernel_6632/3035441613.py\"\u001b[1;36m, line \u001b[1;32m5\u001b[0m\n\u001b[1;33m    if (int(your_weight_in_kgs)  < 5000 :\u001b[0m\n\u001b[1;37m                                        ^\u001b[0m\n\u001b[1;31mSyntaxError\u001b[0m\u001b[1;31m:\u001b[0m invalid syntax\n"
     ]
    }
   ],
   "source": [
    "your_weight_in_kgs = input('what is your weight in kgs ?')\n",
    "your_weight_in_kgs = int(your_weight_in_kgs)\n",
    "print('your weight in pounds is')\n",
    "print(int(your_weight_in_kgs) * 2.2)\n",
    "if (int(your_weight_in_kgs)  < 5000 :\n",
    "    print('you are in good shape')"
   ]
  },
  {
   "cell_type": "code",
   "execution_count": 1,
   "id": "db5f94b0",
   "metadata": {},
   "outputs": [
    {
     "data": {
      "text/plain": [
       "60"
      ]
     },
     "execution_count": 1,
     "metadata": {},
     "output_type": "execute_result"
    }
   ],
   "source": [
    "60 % 100"
   ]
  },
  {
   "cell_type": "code",
   "execution_count": 18,
   "id": "12837b28",
   "metadata": {},
   "outputs": [
    {
     "ename": "IndentationError",
     "evalue": "unexpected indent (Temp/ipykernel_6632/2404955436.py, line 5)",
     "output_type": "error",
     "traceback": [
      "\u001b[1;36m  File \u001b[1;32m\"C:\\Users\\HP\\AppData\\Local\\Temp/ipykernel_6632/2404955436.py\"\u001b[1;36m, line \u001b[1;32m5\u001b[0m\n\u001b[1;33m    if int(total_marks) < int(marks_obtained) :\u001b[0m\n\u001b[1;37m    ^\u001b[0m\n\u001b[1;31mIndentationError\u001b[0m\u001b[1;31m:\u001b[0m unexpected indent\n"
     ]
    }
   ],
   "source": [
    " "
   ]
  },
  {
   "cell_type": "code",
   "execution_count": null,
   "id": "3dc5390a",
   "metadata": {},
   "outputs": [],
   "source": []
  },
  {
   "cell_type": "code",
   "execution_count": null,
   "id": "f2beed5c",
   "metadata": {},
   "outputs": [],
   "source": []
  },
  {
   "cell_type": "code",
   "execution_count": null,
   "id": "2bfa514e",
   "metadata": {},
   "outputs": [],
   "source": []
  }
 ],
 "metadata": {
  "kernelspec": {
   "display_name": "Python 3 (ipykernel)",
   "language": "python",
   "name": "python3"
  },
  "language_info": {
   "codemirror_mode": {
    "name": "ipython",
    "version": 3
   },
   "file_extension": ".py",
   "mimetype": "text/x-python",
   "name": "python",
   "nbconvert_exporter": "python",
   "pygments_lexer": "ipython3",
   "version": "3.9.7"
  }
 },
 "nbformat": 4,
 "nbformat_minor": 5
}
