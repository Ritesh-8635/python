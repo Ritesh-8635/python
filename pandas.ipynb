{
 "cells": [
  {
   "cell_type": "code",
   "execution_count": 2,
   "id": "5d1a910c-8519-4bac-90a4-70bdfe7a0d4a",
   "metadata": {},
   "outputs": [
    {
     "name": "stdout",
     "output_type": "stream",
     "text": [
      "     name  age  salary\n",
      "0  johnna   45    2150\n",
      "1  slalal    8    7540\n",
      "2  eurooo   29    8700\n",
      "3   lotta   12    4580\n"
     ]
    }
   ],
   "source": [
    "import pandas as pd\n",
    "\n",
    "data={\"name\":[\"johnna\",\"slalal\",\"eurooo\",\"lotta\"],\"age\":[45,8,29,12],\"salary\":[2150,7540,8700,4580]}\n",
    "df=pd.DataFrame(data)\n",
    "print(df)\n",
    "\n",
    "\n",
    "\n"
   ]
  },
  {
   "cell_type": "code",
   "execution_count": 22,
   "id": "1505c462-258c-45bc-8b2c-37cc182c454a",
   "metadata": {},
   "outputs": [
    {
     "name": "stdout",
     "output_type": "stream",
     "text": [
      "     name   age  salary\n",
      "0     jhom   14   45000\n",
      "1  gukkesk   12     589\n",
      "2     kona   52   54564\n",
      "3      ola    6    1215\n",
      "4     pola    5   11545\n",
      "5    soloa   21   11515\n",
      "6     eoro   23   48412\n",
      "7     wowo   24   26546\n"
     ]
    }
   ],
   "source": [
    "import pandas as pd\n",
    "dt=pd.read_csv(\"C:/Users/HP/Desktop/pppd.csv\")\n",
    "print(dt)"
   ]
  },
  {
   "cell_type": "code",
   "execution_count": 30,
   "id": "3005f62f-87aa-4ab1-9fc4-c1debada9d6a",
   "metadata": {},
   "outputs": [
    {
     "name": "stdout",
     "output_type": "stream",
     "text": [
      "     name   age  salary\n",
      "0     jhom   14   45000\n",
      "1  gukkesk   12     589\n",
      "2     kona   52   54564\n",
      "3      ola    6    1215\n",
      "4     pola    5   11545\n",
      "5    soloa   21   11515\n",
      "6     eoro   23   48412\n",
      "7     wowo   24   26546\n"
     ]
    }
   ],
   "source": [
    "da=pd.read_excel(\"C:/Users/HP/Desktop/pppd.xlsx\")\n",
    "print(da)"
   ]
  },
  {
   "cell_type": "code",
   "execution_count": 34,
   "id": "fc9e6e43-0e4d-464d-8d72-4d095346ed66",
   "metadata": {},
   "outputs": [
    {
     "name": "stdout",
     "output_type": "stream",
     "text": [
      "     name   age  salary\n",
      "0     jhom   14   45000\n",
      "1  gukkesk   12     589\n",
      "2     kona   52   54564\n",
      "3      ola    6    1215\n",
      "4     pola    5   11545\n",
      "   name   age  salary\n",
      "3    ola    6    1215\n",
      "4   pola    5   11545\n",
      "5  soloa   21   11515\n",
      "6   eoro   23   48412\n",
      "7   wowo   24   26546\n"
     ]
    }
   ],
   "source": [
    "da=pd.read_excel(\"C:/Users/HP/Desktop/pppd.xlsx\")\n",
    "print(da.head(5))\n",
    "print(da.tail(5))"
   ]
  },
  {
   "cell_type": "code",
   "execution_count": 48,
   "id": "25347d9c-bfb3-48a5-8710-131e6c707cb8",
   "metadata": {},
   "outputs": [
    {
     "name": "stdout",
     "output_type": "stream",
     "text": [
      "<class 'pandas.core.frame.DataFrame'>\n",
      "RangeIndex: 8 entries, 0 to 7\n",
      "Data columns (total 3 columns):\n",
      " #   Column  Non-Null Count  Dtype \n",
      "---  ------  --------------  ----- \n",
      " 0   name    8 non-null      object\n",
      " 1   age     8 non-null      int64 \n",
      " 2   salary  8 non-null      int64 \n",
      "dtypes: int64(2), object(1)\n",
      "memory usage: 324.0+ bytes\n",
      "None\n"
     ]
    }
   ],
   "source": [
    "da=pd.read_excel(\"C:/Users/HP/Desktop/pppd.xlsx\")\n",
    "print(da.info()) "
   ]
  },
  {
   "cell_type": "code",
   "execution_count": 46,
   "id": "2152fb3a-4a5a-4fab-9fed-9e07099498c8",
   "metadata": {},
   "outputs": [
    {
     "name": "stdout",
     "output_type": "stream",
     "text": [
      "<class 'pandas.core.frame.DataFrame'>\n",
      "RangeIndex: 119390 entries, 0 to 119389\n",
      "Data columns (total 36 columns):\n",
      " #   Column                          Non-Null Count   Dtype  \n",
      "---  ------                          --------------   -----  \n",
      " 0   hotel                           119390 non-null  object \n",
      " 1   is_canceled                     119390 non-null  int64  \n",
      " 2   lead_time                       119390 non-null  int64  \n",
      " 3   arrival_date_year               119390 non-null  int64  \n",
      " 4   arrival_date_month              119390 non-null  object \n",
      " 5   arrival_date_week_number        119390 non-null  int64  \n",
      " 6   arrival_date_day_of_month       119390 non-null  int64  \n",
      " 7   stays_in_weekend_nights         119390 non-null  int64  \n",
      " 8   stays_in_week_nights            119390 non-null  int64  \n",
      " 9   adults                          119390 non-null  int64  \n",
      " 10  children                        119386 non-null  float64\n",
      " 11  babies                          119390 non-null  int64  \n",
      " 12  meal                            119390 non-null  object \n",
      " 13  country                         118902 non-null  object \n",
      " 14  market_segment                  119390 non-null  object \n",
      " 15  distribution_channel            119390 non-null  object \n",
      " 16  is_repeated_guest               119390 non-null  int64  \n",
      " 17  previous_cancellations          119390 non-null  int64  \n",
      " 18  previous_bookings_not_canceled  119390 non-null  int64  \n",
      " 19  reserved_room_type              119390 non-null  object \n",
      " 20  assigned_room_type              119390 non-null  object \n",
      " 21  booking_changes                 119390 non-null  int64  \n",
      " 22  deposit_type                    119390 non-null  object \n",
      " 23  agent                           103050 non-null  float64\n",
      " 24  company                         6797 non-null    float64\n",
      " 25  days_in_waiting_list            119390 non-null  int64  \n",
      " 26  customer_type                   119390 non-null  object \n",
      " 27  adr                             119390 non-null  float64\n",
      " 28  required_car_parking_spaces     119390 non-null  int64  \n",
      " 29  total_of_special_requests       119390 non-null  int64  \n",
      " 30  reservation_status              119390 non-null  object \n",
      " 31  reservation_status_date         119390 non-null  object \n",
      " 32  name                            119390 non-null  object \n",
      " 33  email                           119390 non-null  object \n",
      " 34  phone-number                    119390 non-null  object \n",
      " 35  credit_card                     119390 non-null  object \n",
      "dtypes: float64(4), int64(16), object(16)\n",
      "memory usage: 32.8+ MB\n",
      "None\n"
     ]
    }
   ],
   "source": [
    "da=pd.read_csv(\"C:/Users/HP/Desktop/hotel_booking.csv\")\n",
    "print(da.info()) "
   ]
  },
  {
   "cell_type": "code",
   "execution_count": 52,
   "id": "cc6bcd82-b47e-4c08-a680-96188ba8c93b",
   "metadata": {},
   "outputs": [
    {
     "data": {
      "text/html": [
       "<div>\n",
       "<style scoped>\n",
       "    .dataframe tbody tr th:only-of-type {\n",
       "        vertical-align: middle;\n",
       "    }\n",
       "\n",
       "    .dataframe tbody tr th {\n",
       "        vertical-align: top;\n",
       "    }\n",
       "\n",
       "    .dataframe thead th {\n",
       "        text-align: right;\n",
       "    }\n",
       "</style>\n",
       "<table border=\"1\" class=\"dataframe\">\n",
       "  <thead>\n",
       "    <tr style=\"text-align: right;\">\n",
       "      <th></th>\n",
       "      <th>is_canceled</th>\n",
       "      <th>lead_time</th>\n",
       "      <th>arrival_date_year</th>\n",
       "      <th>arrival_date_week_number</th>\n",
       "      <th>arrival_date_day_of_month</th>\n",
       "      <th>stays_in_weekend_nights</th>\n",
       "      <th>stays_in_week_nights</th>\n",
       "      <th>adults</th>\n",
       "      <th>children</th>\n",
       "      <th>babies</th>\n",
       "      <th>is_repeated_guest</th>\n",
       "      <th>previous_cancellations</th>\n",
       "      <th>previous_bookings_not_canceled</th>\n",
       "      <th>booking_changes</th>\n",
       "      <th>agent</th>\n",
       "      <th>company</th>\n",
       "      <th>days_in_waiting_list</th>\n",
       "      <th>adr</th>\n",
       "      <th>required_car_parking_spaces</th>\n",
       "      <th>total_of_special_requests</th>\n",
       "    </tr>\n",
       "  </thead>\n",
       "  <tbody>\n",
       "    <tr>\n",
       "      <th>count</th>\n",
       "      <td>119390.000000</td>\n",
       "      <td>119390.000000</td>\n",
       "      <td>119390.000000</td>\n",
       "      <td>119390.000000</td>\n",
       "      <td>119390.000000</td>\n",
       "      <td>119390.000000</td>\n",
       "      <td>119390.000000</td>\n",
       "      <td>119390.000000</td>\n",
       "      <td>119386.000000</td>\n",
       "      <td>119390.000000</td>\n",
       "      <td>119390.000000</td>\n",
       "      <td>119390.000000</td>\n",
       "      <td>119390.000000</td>\n",
       "      <td>119390.000000</td>\n",
       "      <td>103050.000000</td>\n",
       "      <td>6797.000000</td>\n",
       "      <td>119390.000000</td>\n",
       "      <td>119390.000000</td>\n",
       "      <td>119390.000000</td>\n",
       "      <td>119390.000000</td>\n",
       "    </tr>\n",
       "    <tr>\n",
       "      <th>mean</th>\n",
       "      <td>0.370416</td>\n",
       "      <td>104.011416</td>\n",
       "      <td>2016.156554</td>\n",
       "      <td>27.165173</td>\n",
       "      <td>15.798241</td>\n",
       "      <td>0.927599</td>\n",
       "      <td>2.500302</td>\n",
       "      <td>1.856403</td>\n",
       "      <td>0.103890</td>\n",
       "      <td>0.007949</td>\n",
       "      <td>0.031912</td>\n",
       "      <td>0.087118</td>\n",
       "      <td>0.137097</td>\n",
       "      <td>0.221124</td>\n",
       "      <td>86.693382</td>\n",
       "      <td>189.266735</td>\n",
       "      <td>2.321149</td>\n",
       "      <td>101.831122</td>\n",
       "      <td>0.062518</td>\n",
       "      <td>0.571363</td>\n",
       "    </tr>\n",
       "    <tr>\n",
       "      <th>std</th>\n",
       "      <td>0.482918</td>\n",
       "      <td>106.863097</td>\n",
       "      <td>0.707476</td>\n",
       "      <td>13.605138</td>\n",
       "      <td>8.780829</td>\n",
       "      <td>0.998613</td>\n",
       "      <td>1.908286</td>\n",
       "      <td>0.579261</td>\n",
       "      <td>0.398561</td>\n",
       "      <td>0.097436</td>\n",
       "      <td>0.175767</td>\n",
       "      <td>0.844336</td>\n",
       "      <td>1.497437</td>\n",
       "      <td>0.652306</td>\n",
       "      <td>110.774548</td>\n",
       "      <td>131.655015</td>\n",
       "      <td>17.594721</td>\n",
       "      <td>50.535790</td>\n",
       "      <td>0.245291</td>\n",
       "      <td>0.792798</td>\n",
       "    </tr>\n",
       "    <tr>\n",
       "      <th>min</th>\n",
       "      <td>0.000000</td>\n",
       "      <td>0.000000</td>\n",
       "      <td>2015.000000</td>\n",
       "      <td>1.000000</td>\n",
       "      <td>1.000000</td>\n",
       "      <td>0.000000</td>\n",
       "      <td>0.000000</td>\n",
       "      <td>0.000000</td>\n",
       "      <td>0.000000</td>\n",
       "      <td>0.000000</td>\n",
       "      <td>0.000000</td>\n",
       "      <td>0.000000</td>\n",
       "      <td>0.000000</td>\n",
       "      <td>0.000000</td>\n",
       "      <td>1.000000</td>\n",
       "      <td>6.000000</td>\n",
       "      <td>0.000000</td>\n",
       "      <td>-6.380000</td>\n",
       "      <td>0.000000</td>\n",
       "      <td>0.000000</td>\n",
       "    </tr>\n",
       "    <tr>\n",
       "      <th>25%</th>\n",
       "      <td>0.000000</td>\n",
       "      <td>18.000000</td>\n",
       "      <td>2016.000000</td>\n",
       "      <td>16.000000</td>\n",
       "      <td>8.000000</td>\n",
       "      <td>0.000000</td>\n",
       "      <td>1.000000</td>\n",
       "      <td>2.000000</td>\n",
       "      <td>0.000000</td>\n",
       "      <td>0.000000</td>\n",
       "      <td>0.000000</td>\n",
       "      <td>0.000000</td>\n",
       "      <td>0.000000</td>\n",
       "      <td>0.000000</td>\n",
       "      <td>9.000000</td>\n",
       "      <td>62.000000</td>\n",
       "      <td>0.000000</td>\n",
       "      <td>69.290000</td>\n",
       "      <td>0.000000</td>\n",
       "      <td>0.000000</td>\n",
       "    </tr>\n",
       "    <tr>\n",
       "      <th>50%</th>\n",
       "      <td>0.000000</td>\n",
       "      <td>69.000000</td>\n",
       "      <td>2016.000000</td>\n",
       "      <td>28.000000</td>\n",
       "      <td>16.000000</td>\n",
       "      <td>1.000000</td>\n",
       "      <td>2.000000</td>\n",
       "      <td>2.000000</td>\n",
       "      <td>0.000000</td>\n",
       "      <td>0.000000</td>\n",
       "      <td>0.000000</td>\n",
       "      <td>0.000000</td>\n",
       "      <td>0.000000</td>\n",
       "      <td>0.000000</td>\n",
       "      <td>14.000000</td>\n",
       "      <td>179.000000</td>\n",
       "      <td>0.000000</td>\n",
       "      <td>94.575000</td>\n",
       "      <td>0.000000</td>\n",
       "      <td>0.000000</td>\n",
       "    </tr>\n",
       "    <tr>\n",
       "      <th>75%</th>\n",
       "      <td>1.000000</td>\n",
       "      <td>160.000000</td>\n",
       "      <td>2017.000000</td>\n",
       "      <td>38.000000</td>\n",
       "      <td>23.000000</td>\n",
       "      <td>2.000000</td>\n",
       "      <td>3.000000</td>\n",
       "      <td>2.000000</td>\n",
       "      <td>0.000000</td>\n",
       "      <td>0.000000</td>\n",
       "      <td>0.000000</td>\n",
       "      <td>0.000000</td>\n",
       "      <td>0.000000</td>\n",
       "      <td>0.000000</td>\n",
       "      <td>229.000000</td>\n",
       "      <td>270.000000</td>\n",
       "      <td>0.000000</td>\n",
       "      <td>126.000000</td>\n",
       "      <td>0.000000</td>\n",
       "      <td>1.000000</td>\n",
       "    </tr>\n",
       "    <tr>\n",
       "      <th>max</th>\n",
       "      <td>1.000000</td>\n",
       "      <td>737.000000</td>\n",
       "      <td>2017.000000</td>\n",
       "      <td>53.000000</td>\n",
       "      <td>31.000000</td>\n",
       "      <td>19.000000</td>\n",
       "      <td>50.000000</td>\n",
       "      <td>55.000000</td>\n",
       "      <td>10.000000</td>\n",
       "      <td>10.000000</td>\n",
       "      <td>1.000000</td>\n",
       "      <td>26.000000</td>\n",
       "      <td>72.000000</td>\n",
       "      <td>21.000000</td>\n",
       "      <td>535.000000</td>\n",
       "      <td>543.000000</td>\n",
       "      <td>391.000000</td>\n",
       "      <td>5400.000000</td>\n",
       "      <td>8.000000</td>\n",
       "      <td>5.000000</td>\n",
       "    </tr>\n",
       "  </tbody>\n",
       "</table>\n",
       "</div>"
      ],
      "text/plain": [
       "         is_canceled      lead_time  arrival_date_year  \\\n",
       "count  119390.000000  119390.000000      119390.000000   \n",
       "mean        0.370416     104.011416        2016.156554   \n",
       "std         0.482918     106.863097           0.707476   \n",
       "min         0.000000       0.000000        2015.000000   \n",
       "25%         0.000000      18.000000        2016.000000   \n",
       "50%         0.000000      69.000000        2016.000000   \n",
       "75%         1.000000     160.000000        2017.000000   \n",
       "max         1.000000     737.000000        2017.000000   \n",
       "\n",
       "       arrival_date_week_number  arrival_date_day_of_month  \\\n",
       "count             119390.000000              119390.000000   \n",
       "mean                  27.165173                  15.798241   \n",
       "std                   13.605138                   8.780829   \n",
       "min                    1.000000                   1.000000   \n",
       "25%                   16.000000                   8.000000   \n",
       "50%                   28.000000                  16.000000   \n",
       "75%                   38.000000                  23.000000   \n",
       "max                   53.000000                  31.000000   \n",
       "\n",
       "       stays_in_weekend_nights  stays_in_week_nights         adults  \\\n",
       "count            119390.000000         119390.000000  119390.000000   \n",
       "mean                  0.927599              2.500302       1.856403   \n",
       "std                   0.998613              1.908286       0.579261   \n",
       "min                   0.000000              0.000000       0.000000   \n",
       "25%                   0.000000              1.000000       2.000000   \n",
       "50%                   1.000000              2.000000       2.000000   \n",
       "75%                   2.000000              3.000000       2.000000   \n",
       "max                  19.000000             50.000000      55.000000   \n",
       "\n",
       "            children         babies  is_repeated_guest  \\\n",
       "count  119386.000000  119390.000000      119390.000000   \n",
       "mean        0.103890       0.007949           0.031912   \n",
       "std         0.398561       0.097436           0.175767   \n",
       "min         0.000000       0.000000           0.000000   \n",
       "25%         0.000000       0.000000           0.000000   \n",
       "50%         0.000000       0.000000           0.000000   \n",
       "75%         0.000000       0.000000           0.000000   \n",
       "max        10.000000      10.000000           1.000000   \n",
       "\n",
       "       previous_cancellations  previous_bookings_not_canceled  \\\n",
       "count           119390.000000                   119390.000000   \n",
       "mean                 0.087118                        0.137097   \n",
       "std                  0.844336                        1.497437   \n",
       "min                  0.000000                        0.000000   \n",
       "25%                  0.000000                        0.000000   \n",
       "50%                  0.000000                        0.000000   \n",
       "75%                  0.000000                        0.000000   \n",
       "max                 26.000000                       72.000000   \n",
       "\n",
       "       booking_changes          agent      company  days_in_waiting_list  \\\n",
       "count    119390.000000  103050.000000  6797.000000         119390.000000   \n",
       "mean          0.221124      86.693382   189.266735              2.321149   \n",
       "std           0.652306     110.774548   131.655015             17.594721   \n",
       "min           0.000000       1.000000     6.000000              0.000000   \n",
       "25%           0.000000       9.000000    62.000000              0.000000   \n",
       "50%           0.000000      14.000000   179.000000              0.000000   \n",
       "75%           0.000000     229.000000   270.000000              0.000000   \n",
       "max          21.000000     535.000000   543.000000            391.000000   \n",
       "\n",
       "                 adr  required_car_parking_spaces  total_of_special_requests  \n",
       "count  119390.000000                119390.000000              119390.000000  \n",
       "mean      101.831122                     0.062518                   0.571363  \n",
       "std        50.535790                     0.245291                   0.792798  \n",
       "min        -6.380000                     0.000000                   0.000000  \n",
       "25%        69.290000                     0.000000                   0.000000  \n",
       "50%        94.575000                     0.000000                   0.000000  \n",
       "75%       126.000000                     0.000000                   1.000000  \n",
       "max      5400.000000                     8.000000                   5.000000  "
      ]
     },
     "execution_count": 52,
     "metadata": {},
     "output_type": "execute_result"
    }
   ],
   "source": [
    "da=pd.read_csv(\"C:/Users/HP/Desktop/hotel_booking.csv\")\n",
    "da.describe()"
   ]
  },
  {
   "cell_type": "code",
   "execution_count": 54,
   "id": "8bf70d29-4e36-44d6-a163-809207f34545",
   "metadata": {},
   "outputs": [
    {
     "name": "stdout",
     "output_type": "stream",
     "text": [
      "        hotel  is_canceled  lead_time  arrival_date_year  arrival_date_month  \\\n",
      "0       False        False      False              False               False   \n",
      "1       False        False      False              False               False   \n",
      "2       False        False      False              False               False   \n",
      "3       False        False      False              False               False   \n",
      "4       False        False      False              False               False   \n",
      "...       ...          ...        ...                ...                 ...   \n",
      "119385  False        False      False              False               False   \n",
      "119386  False        False      False              False               False   \n",
      "119387  False        False      False              False               False   \n",
      "119388  False        False      False              False               False   \n",
      "119389  False        False      False              False               False   \n",
      "\n",
      "        arrival_date_week_number  arrival_date_day_of_month  \\\n",
      "0                          False                      False   \n",
      "1                          False                      False   \n",
      "2                          False                      False   \n",
      "3                          False                      False   \n",
      "4                          False                      False   \n",
      "...                          ...                        ...   \n",
      "119385                     False                      False   \n",
      "119386                     False                      False   \n",
      "119387                     False                      False   \n",
      "119388                     False                      False   \n",
      "119389                     False                      False   \n",
      "\n",
      "        stays_in_weekend_nights  stays_in_week_nights  adults  ...  \\\n",
      "0                         False                 False   False  ...   \n",
      "1                         False                 False   False  ...   \n",
      "2                         False                 False   False  ...   \n",
      "3                         False                 False   False  ...   \n",
      "4                         False                 False   False  ...   \n",
      "...                         ...                   ...     ...  ...   \n",
      "119385                    False                 False   False  ...   \n",
      "119386                    False                 False   False  ...   \n",
      "119387                    False                 False   False  ...   \n",
      "119388                    False                 False   False  ...   \n",
      "119389                    False                 False   False  ...   \n",
      "\n",
      "        customer_type    adr  required_car_parking_spaces  \\\n",
      "0               False  False                        False   \n",
      "1               False  False                        False   \n",
      "2               False  False                        False   \n",
      "3               False  False                        False   \n",
      "4               False  False                        False   \n",
      "...               ...    ...                          ...   \n",
      "119385          False  False                        False   \n",
      "119386          False  False                        False   \n",
      "119387          False  False                        False   \n",
      "119388          False  False                        False   \n",
      "119389          False  False                        False   \n",
      "\n",
      "        total_of_special_requests  reservation_status  \\\n",
      "0                           False               False   \n",
      "1                           False               False   \n",
      "2                           False               False   \n",
      "3                           False               False   \n",
      "4                           False               False   \n",
      "...                           ...                 ...   \n",
      "119385                      False               False   \n",
      "119386                      False               False   \n",
      "119387                      False               False   \n",
      "119388                      False               False   \n",
      "119389                      False               False   \n",
      "\n",
      "        reservation_status_date   name  email  phone-number  credit_card  \n",
      "0                         False  False  False         False        False  \n",
      "1                         False  False  False         False        False  \n",
      "2                         False  False  False         False        False  \n",
      "3                         False  False  False         False        False  \n",
      "4                         False  False  False         False        False  \n",
      "...                         ...    ...    ...           ...          ...  \n",
      "119385                    False  False  False         False        False  \n",
      "119386                    False  False  False         False        False  \n",
      "119387                    False  False  False         False        False  \n",
      "119388                    False  False  False         False        False  \n",
      "119389                    False  False  False         False        False  \n",
      "\n",
      "[119390 rows x 36 columns]\n"
     ]
    }
   ],
   "source": [
    "da=pd.read_csv(\"C:/Users/HP/Desktop/hotel_booking.csv\")\n",
    "print(da.isnull())"
   ]
  },
  {
   "cell_type": "code",
   "execution_count": 56,
   "id": "89d02149-7fa4-4cd6-9353-090664a84ae1",
   "metadata": {},
   "outputs": [
    {
     "name": "stdout",
     "output_type": "stream",
     "text": [
      "hotel                                  0\n",
      "is_canceled                            0\n",
      "lead_time                              0\n",
      "arrival_date_year                      0\n",
      "arrival_date_month                     0\n",
      "arrival_date_week_number               0\n",
      "arrival_date_day_of_month              0\n",
      "stays_in_weekend_nights                0\n",
      "stays_in_week_nights                   0\n",
      "adults                                 0\n",
      "children                               4\n",
      "babies                                 0\n",
      "meal                                   0\n",
      "country                              488\n",
      "market_segment                         0\n",
      "distribution_channel                   0\n",
      "is_repeated_guest                      0\n",
      "previous_cancellations                 0\n",
      "previous_bookings_not_canceled         0\n",
      "reserved_room_type                     0\n",
      "assigned_room_type                     0\n",
      "booking_changes                        0\n",
      "deposit_type                           0\n",
      "agent                              16340\n",
      "company                           112593\n",
      "days_in_waiting_list                   0\n",
      "customer_type                          0\n",
      "adr                                    0\n",
      "required_car_parking_spaces            0\n",
      "total_of_special_requests              0\n",
      "reservation_status                     0\n",
      "reservation_status_date                0\n",
      "name                                   0\n",
      "email                                  0\n",
      "phone-number                           0\n",
      "credit_card                            0\n",
      "dtype: int64\n"
     ]
    }
   ],
   "source": [
    "da=pd.read_csv(\"C:/Users/HP/Desktop/hotel_booking.csv\")\n",
    "print(da.isnull().sum())"
   ]
  },
  {
   "cell_type": "code",
   "execution_count": 30,
   "id": "632a0bcd-552a-4062-84a1-91347fbb9662",
   "metadata": {},
   "outputs": [
    {
     "name": "stdout",
     "output_type": "stream",
     "text": [
      "     name   age   salary\n",
      "0     jhom   14  45000.0\n",
      "1  gukkesk   12    589.0\n",
      "2      ola   52  54564.0\n",
      "3      ola    6      NaN\n",
      "4     pola    5  11545.0\n",
      "5    soloa   21  11515.0\n",
      "6      ola   23      NaN\n",
      "7     wowo   24  26546.0\n",
      "name      0\n",
      "age       0\n",
      "salary    2\n",
      "dtype: int64\n",
      "     name   age   salary\n",
      "0     jhom   14  45000.0\n",
      "1  gukkesk   12    589.0\n",
      "2      ola   52  54564.0\n",
      "4     pola    5  11545.0\n",
      "5    soloa   21  11515.0\n",
      "7     wowo   24  26546.0\n"
     ]
    }
   ],
   "source": [
    "import pandas as pd\n",
    "dt = pd.read_csv(\"C:/Users/HP/Desktop/ghiii.csv\")\n",
    "print(dt)\n",
    "\n",
    "print(dt.isnull().sum())\n",
    "print(dt.dropna())\n"
   ]
  },
  {
   "cell_type": "code",
   "execution_count": 38,
   "id": "c1851a5d-2e71-4ce2-872f-1cb9a7460ea9",
   "metadata": {},
   "outputs": [
    {
     "name": "stdout",
     "output_type": "stream",
     "text": [
      "0    45000.0\n",
      "1      589.0\n",
      "2    54564.0\n",
      "3    12000.0\n",
      "4    11545.0\n",
      "5    11515.0\n",
      "6    12000.0\n",
      "7    26546.0\n",
      "Name: salary, dtype: float64\n"
     ]
    }
   ],
   "source": [
    "import pandas as pd\n",
    "dt = pd.read_csv(\"C:/Users/HP/Desktop/ghiii.csv\")\n",
    "\n",
    "import numpy as np\n",
    "print(dt[\"salary\"].replace(np.nan,12000))\n"
   ]
  },
  {
   "cell_type": "code",
   "execution_count": 60,
   "id": "ffb3945c-d3e4-4a98-ab25-1f1aa37cf5f4",
   "metadata": {},
   "outputs": [
    {
     "name": "stdout",
     "output_type": "stream",
     "text": [
      "      kisa   age   salary\n",
      "0     jhom  14.0  45000.0\n",
      "1  gukkesk  21.0    589.0\n",
      "2      ola  52.0  54564.0\n",
      "3    soloa   6.0  25960.0\n",
      "4     pola   5.0  11545.0\n",
      "5    soloa  21.0  11515.0\n",
      "6      ola  21.0  25960.0\n",
      "7     wowo  24.0  26546.0\n"
     ]
    }
   ],
   "source": [
    "import pandas as pd\n",
    "import numpy as np\n",
    "\n",
    "# Load the CSV\n",
    "dt = pd.read_csv(\"C:/Users/HP/Desktop/ghiii.csv\")\n",
    "\n",
    "# Replace NaN values in specific columns\n",
    "dt = dt.fillna({\n",
    "    \"kisa\": \"soloa\",\n",
    "    \"age\": 21,\n",
    "    \"salary\": 25960\n",
    "})\n",
    "\n",
    "# Print the modified DataFrame\n",
    "print(dt)\n"
   ]
  },
  {
   "cell_type": "code",
   "execution_count": 48,
   "id": "db6eeb93-d72f-45f2-b269-be4adeed31d5",
   "metadata": {},
   "outputs": [
    {
     "name": "stdout",
     "output_type": "stream",
     "text": [
      "      kisa   age   salary\n",
      "0     jhom  14.0  45000.0\n",
      "1  gukkesk   NaN    589.0\n",
      "2      ola  52.0  54564.0\n",
      "3      NaN   6.0      NaN\n",
      "4     pola   5.0  11545.0\n",
      "5      NaN  21.0  11515.0\n",
      "6      ola   NaN      NaN\n",
      "7     wowo  24.0  26546.0\n"
     ]
    }
   ],
   "source": [
    "import pandas as pd\n",
    "dt = pd.read_csv(\"C:/Users/HP/Desktop/ghiii.csv\")\n",
    "print(dt)"
   ]
  },
  {
   "cell_type": "code",
   "execution_count": null,
   "id": "7340cbba-417e-421a-a3f4-3f2915343a75",
   "metadata": {},
   "outputs": [],
   "source": [
    "import pandas as pd\n",
    "dt = pd.read_csv(\"C:/Users/HP/Desktop/ghiii.csv\")\n",
    "\n",
    "import numpy as np\n",
    "print(dt[\"kisa\"].replace(np.nan,\"soloa\"))\n",
    "print(dt[\"age\"].mean())\n",
    "print(dt[\"age\"].replace(np.nan,21))\n",
    "print(dt[\"salary\"].mean())\n",
    "print(dt[\"salary\"].replace(np.nan,25960))"
   ]
  },
  {
   "cell_type": "code",
   "execution_count": 64,
   "id": "45b0f7ea-3a38-4657-9d98-84cc83692602",
   "metadata": {},
   "outputs": [
    {
     "name": "stdout",
     "output_type": "stream",
     "text": [
      "      kisa   age   salary\n",
      "0     jhom  14.0  45000.0\n",
      "1  gukkesk  52.0    589.0\n",
      "2      ola  52.0  54564.0\n",
      "3     pola   6.0  11545.0\n",
      "4     pola   5.0  11545.0\n",
      "5      ola  21.0  11515.0\n",
      "6      ola  24.0  26546.0\n",
      "7     wowo  24.0  26546.0\n"
     ]
    },
    {
     "name": "stderr",
     "output_type": "stream",
     "text": [
      "C:\\Users\\HP\\AppData\\Local\\Temp\\ipykernel_25164\\3016372892.py:7: FutureWarning: DataFrame.fillna with 'method' is deprecated and will raise in a future version. Use obj.ffill() or obj.bfill() instead.\n",
      "  print(dt.fillna(method=\"bfill\"))\n"
     ]
    }
   ],
   "source": [
    "import pandas as pd\n",
    "import numpy as np\n",
    "\n",
    "dt = pd.read_csv(\"C:/Users/HP/Desktop/ghiii.csv\")\n",
    "\n",
    "# Replace NaN values in specific columns\n",
    "print(dt.fillna(method=\"bfill\"))"
   ]
  },
  {
   "cell_type": "code",
   "execution_count": 66,
   "id": "08bb9486-755b-4452-a92c-89a0e0d615b8",
   "metadata": {},
   "outputs": [
    {
     "name": "stdout",
     "output_type": "stream",
     "text": [
      "      kisa   age   salary\n",
      "0     jhom  14.0  45000.0\n",
      "1  gukkesk  14.0    589.0\n",
      "2      ola  52.0  54564.0\n",
      "3      ola   6.0  54564.0\n",
      "4     pola   5.0  11545.0\n",
      "5     pola  21.0  11515.0\n",
      "6      ola  21.0  11515.0\n",
      "7     wowo  24.0  26546.0\n"
     ]
    },
    {
     "name": "stderr",
     "output_type": "stream",
     "text": [
      "C:\\Users\\HP\\AppData\\Local\\Temp\\ipykernel_25164\\3054663811.py:7: FutureWarning: DataFrame.fillna with 'method' is deprecated and will raise in a future version. Use obj.ffill() or obj.bfill() instead.\n",
      "  print(dt.fillna(method=\"ffill\"))\n"
     ]
    }
   ],
   "source": [
    "import pandas as pd\n",
    "import numpy as np\n",
    "\n",
    "dt = pd.read_csv(\"C:/Users/HP/Desktop/ghiii.csv\")\n",
    "\n",
    "# Replace NaN values in specific columns\n",
    "print(dt.fillna(method=\"ffill\"))"
   ]
  },
  {
   "cell_type": "code",
   "execution_count": 122,
   "id": "dc4b6f9d-ec2e-40c7-ba2b-c1fa4efd419e",
   "metadata": {},
   "outputs": [
    {
     "name": "stdout",
     "output_type": "stream",
     "text": [
      "     name   age  salary\n",
      "0     jhom   14   45000\n",
      "1  gukkesk   12     589\n",
      "2     kona   52   54564\n",
      "3      ola    6    1215\n",
      "4     pola    5   11545\n",
      "5    soloa   21   11515\n",
      "6     eoro   23   48412\n",
      "7     wowo   24   26546\n",
      "     name   age  salary       kida\n",
      "0     jhom   14   45000  htel nice\n",
      "1  gukkesk   12     589  htel nice\n",
      "2     kona   52   54564  htel nice\n",
      "3      ola    6    1215  htel nice\n",
      "4     pola    5   11545  htel nice\n",
      "5    soloa   21   11515  htel nice\n",
      "6     eoro   23   48412  htel nice\n",
      "7     wowo   24   26546  htel nice\n"
     ]
    }
   ],
   "source": [
    "import pandas as pd\n",
    "\n",
    "# Assuming the file path and CSV data are correct\n",
    "df= pd.read_excel(\"C:/Users/HP/Desktop/pppd.xlsx\")\n",
    "print(df)\n",
    "df.loc[(df[\"age\"] == 0),\"kida\"] = \"no nice\"\n",
    "df.loc[(df[\"age\"] > 4),\"kida\"] = \"htel nice\"\n",
    "print(df)\n"
   ]
  },
  {
   "cell_type": "code",
   "execution_count": 132,
   "id": "600fa6b2-7fef-4079-aade-416f80693900",
   "metadata": {},
   "outputs": [
    {
     "name": "stdout",
     "output_type": "stream",
     "text": [
      "      kisa  age  salary     tisa      full name\n",
      "0     jhom   14   45000     lspa     Jhom  lspa\n",
      "1  gukkesk   12     589     kifs  Gukkesk  kifs\n",
      "2     kona   52   54564     lida     Kona  lida\n",
      "3      ola    6    1215    lofra     Ola  lofra\n",
      "4     pola    5   11545     ohka     Pola  ohka\n",
      "5    soloa   21   11515     eoka    Soloa  eoka\n",
      "6     eoro   23   48412      loa      Eoro  loa\n",
      "7     wowo   24   26546  olaaalp  Wowo  olaaalp\n"
     ]
    }
   ],
   "source": [
    "import pandas as pd\n",
    "df= pd.read_excel(\"C:/Users/HP/Desktop/pppd.xlsx\")\n",
    "df[\"full name\"]=df[\"kisa\"].str.capitalize()+\"  \"+df[\"tisa\"]\n",
    "print(df)\n"
   ]
  },
  {
   "cell_type": "code",
   "execution_count": 136,
   "id": "fca0e2fa-7e39-4045-a63a-a94fe299fa96",
   "metadata": {},
   "outputs": [
    {
     "name": "stdout",
     "output_type": "stream",
     "text": [
      "      kisa  age  salary     tisa  full salary\n",
      "0     jhom   14   45000     lspa       4500.0\n",
      "1  gukkesk   12     589     kifs         58.9\n",
      "2     kona   52   54564     lida       5456.4\n",
      "3      ola    6    1215    lofra        121.5\n",
      "4     pola    5   11545     ohka       1154.5\n",
      "5    soloa   21   11515     eoka       1151.5\n",
      "6     eoro   23   48412      loa       4841.2\n",
      "7     wowo   24   26546  olaaalp       2654.6\n"
     ]
    }
   ],
   "source": [
    "import pandas as pd\n",
    "df= pd.read_excel(\"C:/Users/HP/Desktop/pppd.xlsx\")\n",
    "df[\"full salary\"]=(df[\"salary\"]/10)\n",
    "print(df)\n"
   ]
  },
  {
   "cell_type": "code",
   "execution_count": 20,
   "id": "fcf0f1ea-f45b-4b33-8f86-0a49deb54a74",
   "metadata": {},
   "outputs": [
    {
     "name": "stdout",
     "output_type": "stream",
     "text": [
      "               salary\n",
      "kisa                 \n",
      "gukkesk    589.000000\n",
      "jhom     45000.000000\n",
      "kona     54564.000000\n",
      "ola      20390.666667\n",
      "soloa    11515.000000\n",
      "wowo     26546.000000\n"
     ]
    }
   ],
   "source": [
    "import pandas as pd\n",
    "da= pd.read_excel(\"C:/Users/HP/Desktop/pppd.xlsx\")\n",
    "dt=da.groupby([\"kisa\"]).agg({\"salary\":\"mean\"})\n",
    "print(dt)\n"
   ]
  },
  {
   "cell_type": "code",
   "execution_count": 38,
   "id": "577dc906-7638-45e8-a983-5a6debe5d83d",
   "metadata": {},
   "outputs": [
    {
     "name": "stdout",
     "output_type": "stream",
     "text": [
      "      kisa  age_x  salary_x     tisa  age_y  salary_y\n",
      "0     jhom     14     45000     lspa   14.0   45000.0\n",
      "1  gukkesk     12       589     kifs    NaN     589.0\n",
      "2      ola      6      1215    lofra   52.0   54564.0\n",
      "3      ola      6      1215    lofra    NaN       NaN\n",
      "4      ola      5     11545     ohka   52.0   54564.0\n",
      "5      ola      5     11545     ohka    NaN       NaN\n",
      "6      ola     23     48412      loa   52.0   54564.0\n",
      "7      ola     23     48412      loa    NaN       NaN\n",
      "8     wowo     24     26546  olaaalp   24.0   26546.0\n"
     ]
    }
   ],
   "source": [
    "import pandas as pd \n",
    "import numpy as np\n",
    "da= pd.read_excel(\"C:/Users/HP/Desktop/pppd.xlsx\")\n",
    "\n",
    "\n",
    "dt = pd.read_csv(\"C:/Users/HP/Desktop/ghiii.csv\")\n",
    "dc=pd.merge(da,dt,on=\"kisa\")\n",
    "print(dc)\n",
    "\n",
    "#left right parameterrs for merging ?\n"
   ]
  },
  {
   "cell_type": "code",
   "execution_count": 40,
   "id": "6b610d08-9a3d-4486-a160-317dcfd30702",
   "metadata": {},
   "outputs": [
    {
     "name": "stdout",
     "output_type": "stream",
     "text": [
      "       kisa  age_x  salary_x     tisa  age_y  salary_y\n",
      "0      jhom   14.0   45000.0     lspa   14.0   45000.0\n",
      "1   gukkesk   12.0     589.0     kifs    NaN     589.0\n",
      "2       ola    6.0    1215.0    lofra   52.0   54564.0\n",
      "3       ola    5.0   11545.0     ohka   52.0   54564.0\n",
      "4       ola   23.0   48412.0      loa   52.0   54564.0\n",
      "5       NaN    NaN       NaN      NaN    6.0       NaN\n",
      "6      pola    NaN       NaN      NaN    5.0   11545.0\n",
      "7       NaN    NaN       NaN      NaN   21.0   11515.0\n",
      "8       ola    6.0    1215.0    lofra    NaN       NaN\n",
      "9       ola    5.0   11545.0     ohka    NaN       NaN\n",
      "10      ola   23.0   48412.0      loa    NaN       NaN\n",
      "11     wowo   24.0   26546.0  olaaalp   24.0   26546.0\n"
     ]
    }
   ],
   "source": [
    "import pandas as pd \n",
    "import numpy as np\n",
    "da= pd.read_excel(\"C:/Users/HP/Desktop/pppd.xlsx\")\n",
    "\n",
    "\n",
    "dt = pd.read_csv(\"C:/Users/HP/Desktop/ghiii.csv\")\n",
    "dc=pd.merge(da,dt,on=\"kisa\",how=\"right\")\n",
    "print(dc)\n"
   ]
  },
  {
   "cell_type": "code",
   "execution_count": 46,
   "id": "f7969f7b-2b28-4d2a-ae25-0b1ddf828f56",
   "metadata": {},
   "outputs": [
    {
     "name": "stdout",
     "output_type": "stream",
     "text": [
      "    kisa_x  age  salary_x     tisa kisa_y  salary_y\n",
      "0     jhom   14     45000     lspa   jhom   45000.0\n",
      "1  gukkesk   12       589     kifs    NaN       NaN\n",
      "2     kona   52     54564     lida    ola   54564.0\n",
      "3      ola    6      1215    lofra    NaN       NaN\n",
      "4      ola    5     11545     ohka   pola   11545.0\n",
      "5    soloa   21     11515     eoka    NaN   11515.0\n",
      "6      ola   23     48412      loa    NaN       NaN\n",
      "7     wowo   24     26546  olaaalp   wowo   26546.0\n"
     ]
    }
   ],
   "source": [
    "import pandas as pd \n",
    "import numpy as np\n",
    "da= pd.read_excel(\"C:/Users/HP/Desktop/pppd.xlsx\")\n",
    "\n",
    "\n",
    "dt = pd.read_csv(\"C:/Users/HP/Desktop/ghiii.csv\")\n",
    "dc=pd.merge(da,dt,on=\"age\",how=\"left\")\n",
    "print(dc)\n"
   ]
  },
  {
   "cell_type": "code",
   "execution_count": 58,
   "id": "4896ae9e-7fd7-4e37-8314-d10c094ef3b7",
   "metadata": {},
   "outputs": [
    {
     "ename": "SyntaxError",
     "evalue": "invalid syntax (694616774.py, line 8)",
     "output_type": "error",
     "traceback": [
      "\u001b[1;36m  Cell \u001b[1;32mIn[58], line 8\u001b[1;36m\u001b[0m\n\u001b[1;33m    dx=pd.(concat([da,dt]))\u001b[0m\n\u001b[1;37m          ^\u001b[0m\n\u001b[1;31mSyntaxError\u001b[0m\u001b[1;31m:\u001b[0m invalid syntax\n"
     ]
    }
   ],
   "source": [
    "import pandas as pd \n",
    "import numpy as np\n",
    "da= pd.read_excel(\"C:/Users/HP/Desktop/pppd.xlsx\")\n",
    "\n",
    "\n",
    "dt = pd.read_csv(\"C:/Users/HP/Desktop/ghiii.csv\")\n",
    "\n"
   ]
  },
  {
   "cell_type": "code",
   "execution_count": 75,
   "id": "0e7f77c5-9d4d-45e1-be2d-417e3baf4353",
   "metadata": {},
   "outputs": [
    {
     "name": "stdout",
     "output_type": "stream",
     "text": [
      "    fruits  price  quantity\n",
      "0    mango    100        45\n",
      "1   apples    158        58\n",
      "2  bannana    457        23\n",
      "3   papaya    458        56\n",
      "    fruits  price  quantity\n",
      "0    mango    548        75\n",
      "1   apples     52       123\n",
      "2  bannana    568       549\n",
      "3   papaya     58       741\n",
      "  price       quantity      \n",
      "   self other     self other\n",
      "0   100   548       45    75\n",
      "1   158    52       58   123\n",
      "2   457   568       23   549\n",
      "3   458    58       56   741\n",
      "  fruits       price       quantity      \n",
      "    self other  self other     self other\n",
      "0    NaN   NaN   100   548       45    75\n",
      "1    NaN   NaN   158    52       58   123\n",
      "2    NaN   NaN   457   568       23   549\n",
      "3    NaN   NaN   458    58       56   741\n"
     ]
    }
   ],
   "source": [
    "import pandas as pd\n",
    "dict={\"fruits\":[\"mango\",\"apples\",\"bannana\",\"papaya\"],\"price\":[100,158,457,458],\"quantity\":[45,58,23,56]}\n",
    "tr=pd.DataFrame(dict)\n",
    "print(tr)\n",
    "\n",
    "tr2=tr.copy()\n",
    "tr2.loc[0,\"price\"]=548\n",
    "tr2.loc[1,\"price\"]=52\n",
    "tr2.loc[2,\"price\"]=568\n",
    "tr2.loc[3,\"price\"]=58\n",
    "tr2.loc[0,\"quantity\"]=75\n",
    "tr2.loc[1,\"quantity\"]=123\n",
    "tr2.loc[2,\"quantity\"]=549\n",
    "tr2.loc[3,\"quantity\"]=741\n",
    "print(tr2)\n",
    "  \n",
    "\n",
    "print(tr.compare(tr2,keep_equal=True))\n",
    "\n",
    "print(tr.compare(tr2,keep_shape=True))\n",
    "\n"
   ]
  },
  {
   "cell_type": "code",
   "execution_count": 85,
   "id": "cd326c1d-98cb-4137-9b27-405f387c8cc7",
   "metadata": {},
   "outputs": [
    {
     "name": "stdout",
     "output_type": "stream",
     "text": [
      "  keys  name  houses grades\n",
      "0   k1  john     red    3rd\n",
      "1   k2  mood   green    4th\n",
      "2   k3  nota    blue    5th\n",
      "3   k4  lota  yellow    6th\n",
      "     houses                      grades               \n",
      "name   john    lota   mood  nota   john lota mood nota\n",
      "keys                                                  \n",
      "k1      red     NaN    NaN   NaN    3rd  NaN  NaN  NaN\n",
      "k2      NaN     NaN  green   NaN    NaN  NaN  4th  NaN\n",
      "k3      NaN     NaN    NaN  blue    NaN  NaN  NaN  5th\n",
      "k4      NaN  yellow    NaN   NaN    NaN  6th  NaN  NaN\n"
     ]
    }
   ],
   "source": [
    "import pandas as pd\n",
    "\n",
    "dict={\"keys\":[\"k1\",\"k2\",\"k3\",\"k4\"],\"name\":[\"john\",\"mood\",\"nota\",\"lota\"],\"houses\":[\"red\",\"green\",\"blue\",\"yellow\"],\"grades\":[\"3rd\",\"4th\",\"5th\",\"6th\"]}\n",
    "dt=pd.DataFrame(dict)\n",
    "print(dt)\n",
    "#melting?\n",
    "print(dt.pivot(index=\"keys\",columns=\"name\",values=[\"houses\",\"grades\"]))"
   ]
  },
  {
   "cell_type": "code",
   "execution_count": null,
   "id": "74ed1598-7508-4d9c-aa0d-e280d378e172",
   "metadata": {},
   "outputs": [],
   "source": []
  }
 ],
 "metadata": {
  "kernelspec": {
   "display_name": "Python 3 (ipykernel)",
   "language": "python",
   "name": "python3"
  },
  "language_info": {
   "codemirror_mode": {
    "name": "ipython",
    "version": 3
   },
   "file_extension": ".py",
   "mimetype": "text/x-python",
   "name": "python",
   "nbconvert_exporter": "python",
   "pygments_lexer": "ipython3",
   "version": "3.11.7"
  }
 },
 "nbformat": 4,
 "nbformat_minor": 5
}
